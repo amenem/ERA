{
 "cells": [
  {
   "cell_type": "code",
   "execution_count": 1,
   "metadata": {
    "application/vnd.databricks.v1+cell": {
     "cellMetadata": {
      "byteLimit": 2048000,
      "rowLimit": 10000
     },
     "inputWidgets": {},
     "nuid": "a2758875-da9a-44fa-a5ae-bfb86be2ea1a",
     "showTitle": false,
     "title": ""
    }
   },
   "outputs": [],
   "source": [
    "# !pip install torchsummary"
   ]
  },
  {
   "cell_type": "code",
   "execution_count": 2,
   "metadata": {},
   "outputs": [
    {
     "data": {
      "text/plain": [
       "'\\nTarget : \\nResult : test: 99.37%, train 99.40 at 15th rpoch\\nAnalysis: training speed improved, still very huge parameter\\n'"
      ]
     },
     "execution_count": 2,
     "metadata": {},
     "output_type": "execute_result"
    }
   ],
   "source": [
    "\"\"\"\n",
    "Target : reducing the parameter to below 8k, Check if placing BN layer in the last block improves performance\n",
    "Result : 7,564 Params, train acc- 99.47%, test acc- 99.16%\n",
    "Analysis: even reducing param from above ~9k to below ~8k. performace could be improved by placing the missed BN. \n",
    "\"\"\""
   ]
  },
  {
   "cell_type": "code",
   "execution_count": 3,
   "metadata": {
    "application/vnd.databricks.v1+cell": {
     "cellMetadata": {
      "byteLimit": 2048000,
      "rowLimit": 10000
     },
     "inputWidgets": {},
     "nuid": "f22a7a2d-b5cd-44ac-866e-d744d25a50ac",
     "showTitle": false,
     "title": ""
    },
    "id": "0m2JWFliFfKT"
   },
   "outputs": [],
   "source": [
    "from __future__ import print_function\n",
    "import torch\n",
    "import torch.nn as nn\n",
    "import torch.nn.functional as F\n",
    "import torch.optim as optim\n",
    "from torchvision import datasets, transforms\n",
    "import numpy as np"
   ]
  },
  {
   "cell_type": "code",
   "execution_count": 4,
   "metadata": {
    "application/vnd.databricks.v1+cell": {
     "cellMetadata": {
      "byteLimit": 2048000,
      "rowLimit": 10000
     },
     "inputWidgets": {},
     "nuid": "e47317e4-5aca-488f-aedf-b8a9e095d1c6",
     "showTitle": false,
     "title": ""
    }
   },
   "outputs": [],
   "source": [
    "dropout_value = 0.1\n",
    "class Net(nn.Module):\n",
    "    def __init__(self):\n",
    "        super().__init__()\n",
    "\n",
    "        self.convblock1 = nn.Sequential(\n",
    "          nn.Conv2d(in_channels=1, out_channels=4 ,kernel_size=(3,3),padding=0, bias=False), # 26 input/channel size, RF - 3\n",
    "          nn.BatchNorm2d(4),\n",
    "          nn.ReLU(),\n",
    "          nn.Conv2d(in_channels=4, out_channels=8 ,kernel_size=(3,3),padding=0, bias=False), # 26 , RF - 5\n",
    "          nn.BatchNorm2d(8),\n",
    "          nn.ReLU(),\n",
    "          nn.Conv2d(in_channels=8, out_channels=16 ,kernel_size=(3,3),padding=0, bias=False), ## 24 RF -7\n",
    "          nn.BatchNorm2d(16),\n",
    "          nn.ReLU(),\n",
    "        )\n",
    "        self.pool1 = nn.Sequential( ## 12, RF -14\n",
    "          nn.MaxPool2d(2,2),\n",
    "        )\n",
    "        self.convblock2 = nn.Sequential(\n",
    "          nn.Conv2d(in_channels=16, out_channels=4 ,kernel_size=(3,3),padding=1, bias=False), ## 10 , 16\n",
    "          nn.BatchNorm2d(4),\n",
    "          nn.ReLU(),\n",
    "          nn.Conv2d(in_channels=4, out_channels=8 ,kernel_size=(3,3),padding=1, bias=False), ## 10 , 18\n",
    "          nn.BatchNorm2d(8),\n",
    "          nn.ReLU(),\n",
    "          nn.Conv2d(in_channels=8, out_channels=16 ,kernel_size=(3,3),padding=0, bias=False), ## 8 , 20\n",
    "          nn.BatchNorm2d(16),\n",
    "          nn.ReLU(),        \n",
    "        )\n",
    "        self.convblock3 = nn.Sequential(\n",
    "          nn.Conv2d(in_channels=16, out_channels=4 ,kernel_size=(3,3),padding=1, bias=False), ## , 8 , 22\n",
    "          nn.BatchNorm2d(4),\n",
    "          nn.ReLU(),\n",
    "          nn.Conv2d(in_channels=4, out_channels=8 ,kernel_size=(3,3),padding=1, bias=False), ## 8 , 24\n",
    "          nn.BatchNorm2d(8),\n",
    "          nn.ReLU(),\n",
    "          nn.Conv2d(in_channels=8, out_channels=16 ,kernel_size=(3,3),padding=0, bias=False), ## , 6 , 26\n",
    "          nn.BatchNorm2d(16),\n",
    "          nn.ReLU(),\n",
    "        )\n",
    "        self.pool2 = nn.Sequential( ##>>0, 3, 52\n",
    "          nn.MaxPool2d(2,2),\n",
    "        )\n",
    "        self.convblock4 = nn.Sequential(\n",
    "          nn.Conv2d(in_channels=16, out_channels=8 ,kernel_size=3,padding=1, bias=False), ##>3, 54\n",
    "          nn.BatchNorm2d(8),\n",
    "          nn.ReLU(),\n",
    "          # nn.Conv2d(in_channels=8, out_channels=16 ,kernel_size=3,padding=1, bias=False), ## 3\n",
    "          # nn.BatchNorm2d(16),\n",
    "          # nn.ReLU(),\n",
    "          nn.Conv2d(in_channels=8, out_channels=10 ,kernel_size=3,padding=0, bias=False), ## 1\n",
    "          # nn.ReLU()\n",
    "        )\n",
    "\n",
    "    def forward(self, x):\n",
    "        x = self.convblock1(x)\n",
    "        # print (x.shape)\n",
    "        x = self.pool1(x)\n",
    "        # print (x.shape)\n",
    "        x= self.convblock2(x)\n",
    "        # print (x.shape)\n",
    "        x= self.convblock3(x)\n",
    "        # print (x.shape)\n",
    "        x= self.pool2(x)\n",
    "        # print (x.shape)\n",
    "        x= self.convblock4(x)\n",
    "        # print (x.shape)\n",
    "        x = x.view(-1,10)\n",
    "        x = F.log_softmax(x)\n",
    "        return x \n"
   ]
  },
  {
   "cell_type": "code",
   "execution_count": 5,
   "metadata": {
    "application/vnd.databricks.v1+cell": {
     "cellMetadata": {
      "byteLimit": 2048000,
      "rowLimit": 10000
     },
     "inputWidgets": {},
     "nuid": "61cf46f2-2647-48b2-a033-ba4629cb6638",
     "showTitle": false,
     "title": ""
    }
   },
   "outputs": [
    {
     "name": "stdout",
     "output_type": "stream",
     "text": [
      "----------------------------------------------------------------\n",
      "        Layer (type)               Output Shape         Param #\n",
      "================================================================\n",
      "            Conv2d-1            [-1, 4, 26, 26]              36\n",
      "       BatchNorm2d-2            [-1, 4, 26, 26]               8\n",
      "              ReLU-3            [-1, 4, 26, 26]               0\n",
      "            Conv2d-4            [-1, 8, 24, 24]             288\n",
      "       BatchNorm2d-5            [-1, 8, 24, 24]              16\n",
      "              ReLU-6            [-1, 8, 24, 24]               0\n",
      "            Conv2d-7           [-1, 16, 22, 22]           1,152\n",
      "       BatchNorm2d-8           [-1, 16, 22, 22]              32\n",
      "              ReLU-9           [-1, 16, 22, 22]               0\n",
      "        MaxPool2d-10           [-1, 16, 11, 11]               0\n",
      "           Conv2d-11            [-1, 4, 11, 11]             576\n",
      "      BatchNorm2d-12            [-1, 4, 11, 11]               8\n",
      "             ReLU-13            [-1, 4, 11, 11]               0\n",
      "           Conv2d-14            [-1, 8, 11, 11]             288\n",
      "      BatchNorm2d-15            [-1, 8, 11, 11]              16\n",
      "             ReLU-16            [-1, 8, 11, 11]               0\n",
      "           Conv2d-17             [-1, 16, 9, 9]           1,152\n",
      "      BatchNorm2d-18             [-1, 16, 9, 9]              32\n",
      "             ReLU-19             [-1, 16, 9, 9]               0\n",
      "           Conv2d-20              [-1, 4, 9, 9]             576\n",
      "      BatchNorm2d-21              [-1, 4, 9, 9]               8\n",
      "             ReLU-22              [-1, 4, 9, 9]               0\n",
      "           Conv2d-23              [-1, 8, 9, 9]             288\n",
      "      BatchNorm2d-24              [-1, 8, 9, 9]              16\n",
      "             ReLU-25              [-1, 8, 9, 9]               0\n",
      "           Conv2d-26             [-1, 16, 7, 7]           1,152\n",
      "      BatchNorm2d-27             [-1, 16, 7, 7]              32\n",
      "             ReLU-28             [-1, 16, 7, 7]               0\n",
      "        MaxPool2d-29             [-1, 16, 3, 3]               0\n",
      "           Conv2d-30              [-1, 8, 3, 3]           1,152\n",
      "      BatchNorm2d-31              [-1, 8, 3, 3]              16\n",
      "             ReLU-32              [-1, 8, 3, 3]               0\n",
      "           Conv2d-33             [-1, 10, 1, 1]             720\n",
      "================================================================\n",
      "Total params: 7,564\n",
      "Trainable params: 7,564\n",
      "Non-trainable params: 0\n",
      "----------------------------------------------------------------\n",
      "Input size (MB): 0.00\n",
      "Forward/backward pass size (MB): 0.47\n",
      "Params size (MB): 0.03\n",
      "Estimated Total Size (MB): 0.50\n",
      "----------------------------------------------------------------\n"
     ]
    },
    {
     "name": "stderr",
     "output_type": "stream",
     "text": [
      "/var/folders/m2/x6hw0bg17hd2xt6rzl4jd04h0000gn/T/ipykernel_52924/3061156740.py:72: UserWarning: Implicit dimension choice for log_softmax has been deprecated. Change the call to include dim=X as an argument.\n",
      "  x = F.log_softmax(x)\n"
     ]
    }
   ],
   "source": [
    "from torchsummary import summary\n",
    "use_cuda = torch.cuda.is_available()\n",
    "device = torch.device(\"cuda\" if use_cuda else \"cpu\")\n",
    "model = Net().to(device)\n",
    "summary(model, input_size=(1, 28, 28))"
   ]
  },
  {
   "cell_type": "code",
   "execution_count": 6,
   "metadata": {},
   "outputs": [],
   "source": [
    "transforms_ = transforms.Compose([\n",
    "                        transforms.RandomRotation((-7,7),fill=1),\n",
    "                        transforms.ToTensor(),\n",
    "                        transforms.Normalize((0.1307,), (0.3081,))\n",
    "                    ])"
   ]
  },
  {
   "cell_type": "code",
   "execution_count": 7,
   "metadata": {
    "application/vnd.databricks.v1+cell": {
     "cellMetadata": {
      "byteLimit": 2048000,
      "rowLimit": 10000
     },
     "inputWidgets": {},
     "nuid": "7df9ea1f-7289-4da8-a547-c9bae9a8ff6d",
     "showTitle": false,
     "title": ""
    },
    "id": "DqTWLaM5GHgH"
   },
   "outputs": [],
   "source": [
    "torch.manual_seed(1)\n",
    "batch_size = 64\n",
    "\n",
    "kwargs = {'num_workers': 7, 'pin_memory': True} if use_cuda else {}\n",
    "train_loader = torch.utils.data.DataLoader(\n",
    "    datasets.MNIST('../data', train=True, download=True,\n",
    "    transform=transforms.Compose([\n",
    "                        transforms.ToTensor(),\n",
    "                        transforms.Normalize((0.1307,), (0.3081,))\n",
    "                    ])),\n",
    "    batch_size=batch_size, shuffle=True, **kwargs)\n",
    "test_loader = torch.utils.data.DataLoader(\n",
    "    datasets.MNIST('../data', train=False, transform=transforms.Compose([\n",
    "    transforms.ToTensor(),\n",
    "    transforms.Normalize((0.1307,), (0.3081,))])),\n",
    "    batch_size=batch_size, shuffle=True, **kwargs)\n"
   ]
  },
  {
   "cell_type": "code",
   "execution_count": 8,
   "metadata": {
    "application/vnd.databricks.v1+cell": {
     "cellMetadata": {
      "byteLimit": 2048000,
      "rowLimit": 10000
     },
     "inputWidgets": {},
     "nuid": "7f00abad-08e9-455a-aa84-78bd29fcb332",
     "showTitle": false,
     "title": ""
    },
    "id": "8fDefDhaFlwH"
   },
   "outputs": [],
   "source": [
    "from tqdm import tqdm\n",
    "def train(model, device, train_loader, optimizer, epoch):\n",
    "    model.train()\n",
    "    pbar = tqdm(train_loader)\n",
    "    correct=0\n",
    "    for batch_idx, (data, target) in enumerate(pbar):\n",
    "        data, target = data.float().to(device), target.to(device)\n",
    "        optimizer.zero_grad()\n",
    "        output = model(data)\n",
    "        loss = F.nll_loss(output, target)\n",
    "        loss.backward()\n",
    "        optimizer.step()\n",
    "        pbar.set_description(desc= f'loss={loss.item()} batch_id={batch_idx}')\n",
    "        pred = output.argmax(dim=1)\n",
    "        correct+=pred.eq(target).sum().item()\n",
    "    acc = 100*correct/len(train_loader.dataset)\n",
    "    print(f'Train Accuracy: {acc:.2f}%')\n",
    "        \n",
    "def test(model, device, test_loader,epoch):\n",
    "    model.eval()\n",
    "    test_loss = 0\n",
    "    correct = 0\n",
    "    with torch.no_grad():\n",
    "        for _,(data, target) in enumerate(test_loader):\n",
    "            data, target = data.float().to(device), target.to(device)\n",
    "            output = model(data)\n",
    "            test_loss += F.nll_loss(output, target, reduction='sum').item()  # sum up batch loss\n",
    "            pred = output.argmax(dim=1, keepdim=True)  # get the index of the max log-probability\n",
    "            correct += pred.eq(target.view_as(pred)).sum().item()\n",
    "    test_loss /= len(test_loader.dataset)\n",
    "\n",
    "    print('Test set: Average loss: {:.4f}, Accuracy: {}/{} ({:.2f}%)'.format(\n",
    "        test_loss, correct, len(test_loader.dataset),\n",
    "        100. * correct / len(test_loader.dataset)))"
   ]
  },
  {
   "cell_type": "code",
   "execution_count": 9,
   "metadata": {
    "application/vnd.databricks.v1+cell": {
     "cellMetadata": {
      "byteLimit": 2048000,
      "rowLimit": 10000
     },
     "inputWidgets": {},
     "nuid": "3e1ca229-d303-4c92-a6b5-d95cc9e63e44",
     "showTitle": false,
     "title": ""
    },
    "id": "MMWbLWO6FuHb"
   },
   "outputs": [
    {
     "name": "stdout",
     "output_type": "stream",
     "text": [
      "Epoch: 1\n"
     ]
    },
    {
     "name": "stderr",
     "output_type": "stream",
     "text": [
      "  0%|          | 0/938 [00:00<?, ?it/s]/var/folders/m2/x6hw0bg17hd2xt6rzl4jd04h0000gn/T/ipykernel_52924/3061156740.py:72: UserWarning: Implicit dimension choice for log_softmax has been deprecated. Change the call to include dim=X as an argument.\n",
      "  x = F.log_softmax(x)\n",
      "loss=0.04892943426966667 batch_id=937: 100%|██████████| 938/938 [00:27<00:00, 33.97it/s] \n"
     ]
    },
    {
     "name": "stdout",
     "output_type": "stream",
     "text": [
      "Train Accuracy: 93.50%\n",
      "Test set: Average loss: 0.0742, Accuracy: 9757/10000 (97.57%)\n",
      "Epoch: 2\n"
     ]
    },
    {
     "name": "stderr",
     "output_type": "stream",
     "text": [
      "loss=0.02142384462058544 batch_id=937: 100%|██████████| 938/938 [00:28<00:00, 33.06it/s] \n"
     ]
    },
    {
     "name": "stdout",
     "output_type": "stream",
     "text": [
      "Train Accuracy: 98.06%\n",
      "Test set: Average loss: 0.0504, Accuracy: 9842/10000 (98.42%)\n",
      "Epoch: 3\n"
     ]
    },
    {
     "name": "stderr",
     "output_type": "stream",
     "text": [
      "loss=0.13070173561573029 batch_id=937: 100%|██████████| 938/938 [00:28<00:00, 33.04it/s]  \n"
     ]
    },
    {
     "name": "stdout",
     "output_type": "stream",
     "text": [
      "Train Accuracy: 98.44%\n",
      "Test set: Average loss: 0.0741, Accuracy: 9758/10000 (97.58%)\n",
      "Epoch: 4\n"
     ]
    },
    {
     "name": "stderr",
     "output_type": "stream",
     "text": [
      "loss=0.02602413110435009 batch_id=937: 100%|██████████| 938/938 [00:28<00:00, 33.48it/s]  \n"
     ]
    },
    {
     "name": "stdout",
     "output_type": "stream",
     "text": [
      "Train Accuracy: 98.59%\n",
      "Test set: Average loss: 0.0383, Accuracy: 9883/10000 (98.83%)\n",
      "Epoch: 5\n"
     ]
    },
    {
     "name": "stderr",
     "output_type": "stream",
     "text": [
      "loss=0.017592739313840866 batch_id=937: 100%|██████████| 938/938 [00:27<00:00, 33.89it/s] \n"
     ]
    },
    {
     "name": "stdout",
     "output_type": "stream",
     "text": [
      "Train Accuracy: 98.85%\n",
      "Test set: Average loss: 0.0380, Accuracy: 9876/10000 (98.76%)\n",
      "Epoch: 6\n"
     ]
    },
    {
     "name": "stderr",
     "output_type": "stream",
     "text": [
      "loss=0.033422134816646576 batch_id=937: 100%|██████████| 938/938 [00:29<00:00, 31.72it/s] \n"
     ]
    },
    {
     "name": "stdout",
     "output_type": "stream",
     "text": [
      "Train Accuracy: 98.97%\n",
      "Test set: Average loss: 0.0365, Accuracy: 9891/10000 (98.91%)\n",
      "Epoch: 7\n"
     ]
    },
    {
     "name": "stderr",
     "output_type": "stream",
     "text": [
      "loss=0.0013215721119195223 batch_id=937: 100%|██████████| 938/938 [00:28<00:00, 33.23it/s]\n"
     ]
    },
    {
     "name": "stdout",
     "output_type": "stream",
     "text": [
      "Train Accuracy: 99.02%\n",
      "Test set: Average loss: 0.0309, Accuracy: 9904/10000 (99.04%)\n",
      "Epoch: 8\n"
     ]
    },
    {
     "name": "stderr",
     "output_type": "stream",
     "text": [
      "loss=0.0022551389411091805 batch_id=937: 100%|██████████| 938/938 [00:27<00:00, 34.49it/s]\n"
     ]
    },
    {
     "name": "stdout",
     "output_type": "stream",
     "text": [
      "Train Accuracy: 99.14%\n",
      "Test set: Average loss: 0.0315, Accuracy: 9904/10000 (99.04%)\n",
      "Epoch: 9\n"
     ]
    },
    {
     "name": "stderr",
     "output_type": "stream",
     "text": [
      "loss=0.001999176573008299 batch_id=937: 100%|██████████| 938/938 [00:27<00:00, 34.19it/s] \n"
     ]
    },
    {
     "name": "stdout",
     "output_type": "stream",
     "text": [
      "Train Accuracy: 99.24%\n",
      "Test set: Average loss: 0.0320, Accuracy: 9907/10000 (99.07%)\n",
      "Epoch: 10\n"
     ]
    },
    {
     "name": "stderr",
     "output_type": "stream",
     "text": [
      "loss=0.01871662400662899 batch_id=937: 100%|██████████| 938/938 [00:27<00:00, 33.78it/s]  \n"
     ]
    },
    {
     "name": "stdout",
     "output_type": "stream",
     "text": [
      "Train Accuracy: 99.28%\n",
      "Test set: Average loss: 0.0298, Accuracy: 9909/10000 (99.09%)\n",
      "Epoch: 11\n"
     ]
    },
    {
     "name": "stderr",
     "output_type": "stream",
     "text": [
      "loss=0.05467003211379051 batch_id=937: 100%|██████████| 938/938 [00:26<00:00, 34.74it/s]  \n"
     ]
    },
    {
     "name": "stdout",
     "output_type": "stream",
     "text": [
      "Train Accuracy: 99.40%\n",
      "Test set: Average loss: 0.0286, Accuracy: 9909/10000 (99.09%)\n",
      "Epoch: 12\n"
     ]
    },
    {
     "name": "stderr",
     "output_type": "stream",
     "text": [
      "loss=0.003613267559558153 batch_id=937: 100%|██████████| 938/938 [00:27<00:00, 33.92it/s]  \n"
     ]
    },
    {
     "name": "stdout",
     "output_type": "stream",
     "text": [
      "Train Accuracy: 99.42%\n",
      "Test set: Average loss: 0.0303, Accuracy: 9902/10000 (99.02%)\n",
      "Epoch: 13\n"
     ]
    },
    {
     "name": "stderr",
     "output_type": "stream",
     "text": [
      "loss=0.10603953897953033 batch_id=937: 100%|██████████| 938/938 [00:27<00:00, 34.10it/s]   \n"
     ]
    },
    {
     "name": "stdout",
     "output_type": "stream",
     "text": [
      "Train Accuracy: 99.47%\n",
      "Test set: Average loss: 0.0285, Accuracy: 9916/10000 (99.16%)\n",
      "Epoch: 14\n"
     ]
    },
    {
     "name": "stderr",
     "output_type": "stream",
     "text": [
      "loss=0.006160065531730652 batch_id=937: 100%|██████████| 938/938 [00:27<00:00, 34.01it/s]  \n"
     ]
    },
    {
     "name": "stdout",
     "output_type": "stream",
     "text": [
      "Train Accuracy: 99.47%\n",
      "Test set: Average loss: 0.0299, Accuracy: 9913/10000 (99.13%)\n"
     ]
    }
   ],
   "source": [
    "\n",
    "model = Net().to(device)\n",
    "optimizer = optim.SGD(model.parameters(), lr=0.02, momentum=0.5)\n",
    "for epoch in range(1, 15):\n",
    "    print(f'Epoch: {epoch}')\n",
    "    train(model, device, train_loader, optimizer, epoch)\n",
    "    test(model, device, test_loader,epoch)\n"
   ]
  }
 ],
 "metadata": {
  "accelerator": "GPU",
  "application/vnd.databricks.v1+notebook": {
   "dashboards": [],
   "language": "python",
   "notebookMetadata": {
    "pythonIndentUnit": 2
   },
   "notebookName": "EVA4_Session_2",
   "widgets": {}
  },
  "colab": {
   "provenance": []
  },
  "kernelspec": {
   "display_name": "Python 3 (ipykernel)",
   "language": "python",
   "name": "python3"
  },
  "language_info": {
   "codemirror_mode": {
    "name": "ipython",
    "version": 3
   },
   "file_extension": ".py",
   "mimetype": "text/x-python",
   "name": "python",
   "nbconvert_exporter": "python",
   "pygments_lexer": "ipython3",
   "version": "3.11.3"
  }
 },
 "nbformat": 4,
 "nbformat_minor": 1
}
