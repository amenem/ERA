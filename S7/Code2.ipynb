{
 "cells": [
  {
   "cell_type": "code",
   "execution_count": 1,
   "metadata": {
    "application/vnd.databricks.v1+cell": {
     "cellMetadata": {
      "byteLimit": 2048000,
      "rowLimit": 10000
     },
     "inputWidgets": {},
     "nuid": "a2758875-da9a-44fa-a5ae-bfb86be2ea1a",
     "showTitle": false,
     "title": ""
    }
   },
   "outputs": [],
   "source": [
    "# !pip install torchsummary"
   ]
  },
  {
   "cell_type": "code",
   "execution_count": 2,
   "metadata": {},
   "outputs": [
    {
     "data": {
      "text/plain": [
       "'\\nTarget : increase accuracy at 15th epoch, keeping same parameters\\nResult : Total params - 3,342, test: 98.89%%, train 98.61% at 15th rpoch\\nAnalysis: training speed improved\\n'"
      ]
     },
     "execution_count": 2,
     "metadata": {},
     "output_type": "execute_result"
    }
   ],
   "source": [
    "##code\n",
    "\"\"\"\n",
    "Target : Build lighter model to check the lower limit\n",
    "Result : Total params - 3,258\n",
    "Analysis: training slow\n",
    "\"\"\""
   ]
  },
  {
   "cell_type": "code",
   "execution_count": 3,
   "metadata": {
    "application/vnd.databricks.v1+cell": {
     "cellMetadata": {
      "byteLimit": 2048000,
      "rowLimit": 10000
     },
     "inputWidgets": {},
     "nuid": "f22a7a2d-b5cd-44ac-866e-d744d25a50ac",
     "showTitle": false,
     "title": ""
    },
    "id": "0m2JWFliFfKT"
   },
   "outputs": [],
   "source": [
    "from __future__ import print_function\n",
    "import torch\n",
    "import torch.nn as nn\n",
    "import torch.nn.functional as F\n",
    "import torch.optim as optim\n",
    "from torchvision import datasets, transforms\n",
    "import numpy as np"
   ]
  },
  {
   "cell_type": "code",
   "execution_count": 4,
   "metadata": {
    "application/vnd.databricks.v1+cell": {
     "cellMetadata": {
      "byteLimit": 2048000,
      "rowLimit": 10000
     },
     "inputWidgets": {},
     "nuid": "e47317e4-5aca-488f-aedf-b8a9e095d1c6",
     "showTitle": false,
     "title": ""
    }
   },
   "outputs": [],
   "source": [
    "dropout_value = 0.1\n",
    "class Net(nn.Module):\n",
    "    def __init__(self):\n",
    "        super().__init__()\n",
    "\n",
    "        self.convblock1 = nn.Sequential(\n",
    "          nn.Conv2d(in_channels=1, out_channels=2 ,kernel_size=(3,3),padding=0, bias=False), ##>>40 param, 28 input/channel size\n",
    "          nn.ReLU(),\n",
    "          nn.Conv2d(in_channels=2, out_channels=4 ,kernel_size=(3,3),padding=0, bias=False), ##>>148 , 26\n",
    "          nn.ReLU(),\n",
    "          nn.Conv2d(in_channels=4, out_channels=8 ,kernel_size=(3,3),padding=0, bias=False), ##>>148, 24\n",
    "          nn.ReLU(),\n",
    "        )\n",
    "        self.pool1 = nn.Sequential( ##>>0, 12\n",
    "          nn.MaxPool2d(2,2),\n",
    "        )\n",
    "        self.convblock2 = nn.Sequential(\n",
    "          nn.Conv2d(in_channels=8, out_channels=2 ,kernel_size=(3,3),padding=1, bias=False), ##>>298 , 10\n",
    "          nn.ReLU(),\n",
    "          nn.Conv2d(in_channels=2, out_channels=4 ,kernel_size=(3,3),padding=1, bias=False), ##>>614 , 10\n",
    "          nn.ReLU(),\n",
    "          nn.Conv2d(in_channels=4, out_channels=8 ,kernel_size=(3,3),padding=0, bias=False), ##>>614 , 8\n",
    "          nn.ReLU(),        \n",
    "        )\n",
    "        self.convblock3 = nn.Sequential(\n",
    "          nn.Conv2d(in_channels=8, out_channels=2 ,kernel_size=(3,3),padding=1, bias=False), ##>>298 , 8\n",
    "          nn.ReLU(),\n",
    "          nn.Conv2d(in_channels=2, out_channels=4 ,kernel_size=(3,3),padding=1, bias=False), ##>>614 , 8\n",
    "          nn.ReLU(),\n",
    "          nn.Conv2d(in_channels=4, out_channels=8 ,kernel_size=(3,3),padding=0, bias=False), ##>>614 , 6\n",
    "          nn.ReLU(),\n",
    "        )\n",
    "        self.pool2 = nn.Sequential( ##>>0, 3\n",
    "          nn.MaxPool2d(2,2),\n",
    "        )\n",
    "        self.convblock4 = nn.Sequential(\n",
    "          nn.Conv2d(in_channels=8, out_channels=8 ,kernel_size=3,padding=1, bias=False), ##>>1168 , 3\n",
    "          nn.ReLU(),\n",
    "          nn.Conv2d(in_channels=8, out_channels=8 ,kernel_size=3,padding=1, bias=False), ##>>2320 , 3\n",
    "          nn.ReLU(),\n",
    "          nn.Conv2d(in_channels=8, out_channels=10 ,kernel_size=3,padding=0, bias=False), ##>>1450 , 1\n",
    "          # nn.ReLU()\n",
    "        )\n",
    "\n",
    "    def forward(self, x):\n",
    "        x = self.convblock1(x)\n",
    "        # print (x.shape)\n",
    "        x = self.pool1(x)\n",
    "        # print (x.shape)\n",
    "        x= self.convblock2(x)\n",
    "        # print (x.shape)\n",
    "        x= self.convblock3(x)\n",
    "        # print (x.shape)\n",
    "        x= self.pool2(x)\n",
    "        # print (x.shape)\n",
    "        x= self.convblock4(x)\n",
    "        # print (x.shape)\n",
    "        x = x.view(-1,10)\n",
    "        x = F.log_softmax(x)\n",
    "        return x \n"
   ]
  },
  {
   "cell_type": "code",
   "execution_count": 5,
   "metadata": {
    "application/vnd.databricks.v1+cell": {
     "cellMetadata": {
      "byteLimit": 2048000,
      "rowLimit": 10000
     },
     "inputWidgets": {},
     "nuid": "61cf46f2-2647-48b2-a033-ba4629cb6638",
     "showTitle": false,
     "title": ""
    }
   },
   "outputs": [
    {
     "name": "stdout",
     "output_type": "stream",
     "text": [
      "----------------------------------------------------------------\n",
      "        Layer (type)               Output Shape         Param #\n",
      "================================================================\n",
      "            Conv2d-1            [-1, 2, 26, 26]              18\n",
      "              ReLU-2            [-1, 2, 26, 26]               0\n",
      "            Conv2d-3            [-1, 4, 24, 24]              72\n",
      "              ReLU-4            [-1, 4, 24, 24]               0\n",
      "            Conv2d-5            [-1, 8, 22, 22]             288\n",
      "              ReLU-6            [-1, 8, 22, 22]               0\n",
      "         MaxPool2d-7            [-1, 8, 11, 11]               0\n",
      "            Conv2d-8            [-1, 2, 11, 11]             144\n",
      "              ReLU-9            [-1, 2, 11, 11]               0\n",
      "           Conv2d-10            [-1, 4, 11, 11]              72\n",
      "             ReLU-11            [-1, 4, 11, 11]               0\n",
      "           Conv2d-12              [-1, 8, 9, 9]             288\n",
      "             ReLU-13              [-1, 8, 9, 9]               0\n",
      "           Conv2d-14              [-1, 2, 9, 9]             144\n",
      "             ReLU-15              [-1, 2, 9, 9]               0\n",
      "           Conv2d-16              [-1, 4, 9, 9]              72\n",
      "             ReLU-17              [-1, 4, 9, 9]               0\n",
      "           Conv2d-18              [-1, 8, 7, 7]             288\n",
      "             ReLU-19              [-1, 8, 7, 7]               0\n",
      "        MaxPool2d-20              [-1, 8, 3, 3]               0\n",
      "           Conv2d-21              [-1, 8, 3, 3]             576\n",
      "             ReLU-22              [-1, 8, 3, 3]               0\n",
      "           Conv2d-23              [-1, 8, 3, 3]             576\n",
      "             ReLU-24              [-1, 8, 3, 3]               0\n",
      "           Conv2d-25             [-1, 10, 1, 1]             720\n",
      "================================================================\n",
      "Total params: 3,258\n",
      "Trainable params: 3,258\n",
      "Non-trainable params: 0\n",
      "----------------------------------------------------------------\n",
      "Input size (MB): 0.00\n",
      "Forward/backward pass size (MB): 0.16\n",
      "Params size (MB): 0.01\n",
      "Estimated Total Size (MB): 0.17\n",
      "----------------------------------------------------------------\n"
     ]
    },
    {
     "name": "stderr",
     "output_type": "stream",
     "text": [
      "/var/folders/m2/x6hw0bg17hd2xt6rzl4jd04h0000gn/T/ipykernel_58146/4062518061.py:59: UserWarning: Implicit dimension choice for log_softmax has been deprecated. Change the call to include dim=X as an argument.\n",
      "  x = F.log_softmax(x)\n"
     ]
    }
   ],
   "source": [
    "from torchsummary import summary\n",
    "use_cuda = torch.cuda.is_available()\n",
    "device = torch.device(\"cuda\" if use_cuda else \"cpu\")\n",
    "model = Net().to(device)\n",
    "summary(model, input_size=(1, 28, 28))"
   ]
  },
  {
   "cell_type": "code",
   "execution_count": 6,
   "metadata": {},
   "outputs": [],
   "source": [
    "transforms_ = transforms.Compose([\n",
    "                        transforms.RandomRotation((-7,7),fill=1),\n",
    "                        transforms.ToTensor(),\n",
    "                        transforms.Normalize((0.1307,), (0.3081,))\n",
    "                    ])"
   ]
  },
  {
   "cell_type": "code",
   "execution_count": 7,
   "metadata": {
    "application/vnd.databricks.v1+cell": {
     "cellMetadata": {
      "byteLimit": 2048000,
      "rowLimit": 10000
     },
     "inputWidgets": {},
     "nuid": "7df9ea1f-7289-4da8-a547-c9bae9a8ff6d",
     "showTitle": false,
     "title": ""
    },
    "id": "DqTWLaM5GHgH"
   },
   "outputs": [],
   "source": [
    "torch.manual_seed(1)\n",
    "batch_size = 64\n",
    "\n",
    "kwargs = {'num_workers': 7, 'pin_memory': True} if use_cuda else {}\n",
    "train_loader = torch.utils.data.DataLoader(\n",
    "    datasets.MNIST('../data', train=True, download=True,\n",
    "    transform=transforms.Compose([\n",
    "                        # transforms.RandomRotation((-7,7),fill=1),\n",
    "                        transforms.ToTensor(),\n",
    "                        transforms.Normalize((0.1307,), (0.3081,))\n",
    "                    ])),\n",
    "    batch_size=batch_size, shuffle=True, **kwargs)\n",
    "test_loader = torch.utils.data.DataLoader(\n",
    "    datasets.MNIST('../data', train=False, transform=transforms.Compose([\n",
    "    transforms.ToTensor(),\n",
    "    transforms.Normalize((0.1307,), (0.3081,))])),\n",
    "    batch_size=batch_size, shuffle=True, **kwargs)\n"
   ]
  },
  {
   "cell_type": "code",
   "execution_count": 8,
   "metadata": {
    "application/vnd.databricks.v1+cell": {
     "cellMetadata": {
      "byteLimit": 2048000,
      "rowLimit": 10000
     },
     "inputWidgets": {},
     "nuid": "7f00abad-08e9-455a-aa84-78bd29fcb332",
     "showTitle": false,
     "title": ""
    },
    "id": "8fDefDhaFlwH"
   },
   "outputs": [],
   "source": [
    "from tqdm import tqdm\n",
    "def train(model, device, train_loader, optimizer, epoch):\n",
    "    model.train()\n",
    "    pbar = tqdm(train_loader)\n",
    "    correct=0\n",
    "    for batch_idx, (data, target) in enumerate(pbar):\n",
    "        data, target = data.float().to(device), target.to(device)\n",
    "        optimizer.zero_grad()\n",
    "        output = model(data)\n",
    "        loss = F.nll_loss(output, target)\n",
    "        loss.backward()\n",
    "        optimizer.step()\n",
    "        pbar.set_description(desc= f'loss={loss.item()} batch_id={batch_idx}')\n",
    "        pred = output.argmax(dim=1)\n",
    "        correct+=pred.eq(target).sum().item()\n",
    "    acc = 100*correct/len(train_loader.dataset)\n",
    "    print(f'Train Accuracy: {acc:.2f}%')\n",
    "        \n",
    "def test(model, device, test_loader,epoch):\n",
    "    model.eval()\n",
    "    test_loss = 0\n",
    "    correct = 0\n",
    "    with torch.no_grad():\n",
    "        for _,(data, target) in enumerate(test_loader):\n",
    "            data, target = data.float().to(device), target.to(device)\n",
    "            output = model(data)\n",
    "            test_loss += F.nll_loss(output, target, reduction='sum').item()  # sum up batch loss\n",
    "            pred = output.argmax(dim=1, keepdim=True)  # get the index of the max log-probability\n",
    "            correct += pred.eq(target.view_as(pred)).sum().item()\n",
    "    test_loss /= len(test_loader.dataset)\n",
    "\n",
    "    print('Test set: Average loss: {:.4f}, Accuracy: {}/{} ({:.2f}%)'.format(\n",
    "        test_loss, correct, len(test_loader.dataset),\n",
    "        100. * correct / len(test_loader.dataset)))"
   ]
  },
  {
   "cell_type": "code",
   "execution_count": 9,
   "metadata": {
    "application/vnd.databricks.v1+cell": {
     "cellMetadata": {
      "byteLimit": 2048000,
      "rowLimit": 10000
     },
     "inputWidgets": {},
     "nuid": "3e1ca229-d303-4c92-a6b5-d95cc9e63e44",
     "showTitle": false,
     "title": ""
    },
    "id": "MMWbLWO6FuHb"
   },
   "outputs": [
    {
     "name": "stdout",
     "output_type": "stream",
     "text": [
      "Epoch: 1\n"
     ]
    },
    {
     "name": "stderr",
     "output_type": "stream",
     "text": [
      "  0%|          | 0/938 [00:00<?, ?it/s]/var/folders/m2/x6hw0bg17hd2xt6rzl4jd04h0000gn/T/ipykernel_58146/4062518061.py:59: UserWarning: Implicit dimension choice for log_softmax has been deprecated. Change the call to include dim=X as an argument.\n",
      "  x = F.log_softmax(x)\n",
      "loss=2.302605152130127 batch_id=937: 100%|██████████| 938/938 [00:21<00:00, 44.22it/s] \n"
     ]
    },
    {
     "name": "stdout",
     "output_type": "stream",
     "text": [
      "Train Accuracy: 6.47%\n",
      "Test set: Average loss: 2.3026, Accuracy: 689/10000 (6.89%)\n",
      "Epoch: 2\n"
     ]
    },
    {
     "name": "stderr",
     "output_type": "stream",
     "text": [
      "loss=2.3026022911071777 batch_id=937: 100%|██████████| 938/938 [00:21<00:00, 42.83it/s]\n"
     ]
    },
    {
     "name": "stdout",
     "output_type": "stream",
     "text": [
      "Train Accuracy: 7.12%\n",
      "Test set: Average loss: 2.3026, Accuracy: 769/10000 (7.69%)\n",
      "Epoch: 3\n"
     ]
    },
    {
     "name": "stderr",
     "output_type": "stream",
     "text": [
      "loss=2.302603244781494 batch_id=937: 100%|██████████| 938/938 [00:20<00:00, 46.38it/s] \n"
     ]
    },
    {
     "name": "stdout",
     "output_type": "stream",
     "text": [
      "Train Accuracy: 7.79%\n",
      "Test set: Average loss: 2.3026, Accuracy: 847/10000 (8.47%)\n",
      "Epoch: 4\n"
     ]
    },
    {
     "name": "stderr",
     "output_type": "stream",
     "text": [
      "loss=2.3025894165039062 batch_id=937: 100%|██████████| 938/938 [00:20<00:00, 44.79it/s]\n"
     ]
    },
    {
     "name": "stdout",
     "output_type": "stream",
     "text": [
      "Train Accuracy: 8.60%\n",
      "Test set: Average loss: 2.3026, Accuracy: 941/10000 (9.41%)\n",
      "Epoch: 5\n"
     ]
    },
    {
     "name": "stderr",
     "output_type": "stream",
     "text": [
      "loss=2.3025739192962646 batch_id=937: 100%|██████████| 938/938 [00:21<00:00, 43.51it/s]\n"
     ]
    },
    {
     "name": "stdout",
     "output_type": "stream",
     "text": [
      "Train Accuracy: 9.60%\n",
      "Test set: Average loss: 2.3026, Accuracy: 1040/10000 (10.40%)\n",
      "Epoch: 6\n"
     ]
    },
    {
     "name": "stderr",
     "output_type": "stream",
     "text": [
      "loss=2.302572250366211 batch_id=864:  92%|█████████▏| 863/938 [00:20<00:01, 41.70it/s] "
     ]
    }
   ],
   "source": [
    "\n",
    "model = Net().to(device)\n",
    "optimizer = optim.SGD(model.parameters(), lr=0.01, momentum=0.9)\n",
    "for epoch in range(1, 15):\n",
    "    print(f'Epoch: {epoch}')\n",
    "    train(model, device, train_loader, optimizer, epoch)\n",
    "    test(model, device, test_loader,epoch)\n"
   ]
  }
 ],
 "metadata": {
  "accelerator": "GPU",
  "application/vnd.databricks.v1+notebook": {
   "dashboards": [],
   "language": "python",
   "notebookMetadata": {
    "pythonIndentUnit": 2
   },
   "notebookName": "EVA4_Session_2",
   "widgets": {}
  },
  "colab": {
   "provenance": []
  },
  "kernelspec": {
   "display_name": "Python 3 (ipykernel)",
   "language": "python",
   "name": "python3"
  },
  "language_info": {
   "codemirror_mode": {
    "name": "ipython",
    "version": 3
   },
   "file_extension": ".py",
   "mimetype": "text/x-python",
   "name": "python",
   "nbconvert_exporter": "python",
   "pygments_lexer": "ipython3",
   "version": "3.11.3"
  }
 },
 "nbformat": 4,
 "nbformat_minor": 1
}
