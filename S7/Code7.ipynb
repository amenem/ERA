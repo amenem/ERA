{
 "cells": [
  {
   "cell_type": "code",
   "execution_count": 1,
   "metadata": {
    "application/vnd.databricks.v1+cell": {
     "cellMetadata": {
      "byteLimit": 2048000,
      "rowLimit": 10000
     },
     "inputWidgets": {},
     "nuid": "a2758875-da9a-44fa-a5ae-bfb86be2ea1a",
     "showTitle": false,
     "title": ""
    }
   },
   "outputs": [],
   "source": [
    "# !pip install torchsummary"
   ]
  },
  {
   "cell_type": "code",
   "execution_count": 2,
   "metadata": {},
   "outputs": [
    {
     "data": {
      "text/plain": [
       "'\\nTarget : improve performance using augmentation\\nResult : \\nAnalysis: \\n'"
      ]
     },
     "execution_count": 2,
     "metadata": {},
     "output_type": "execute_result"
    }
   ],
   "source": [
    "##code\n",
    "\"\"\"\n",
    "Target : improve performance using augmentation\n",
    "Result : Train acc 99.28%- Test acc- 99.33% at 15th epoch\n",
    "Analysis: Augmentaion with rotation from -7 to 7 degree really helped to up the test performnce above 99.3%\n",
    "\"\"\""
   ]
  },
  {
   "cell_type": "code",
   "execution_count": 3,
   "metadata": {
    "application/vnd.databricks.v1+cell": {
     "cellMetadata": {
      "byteLimit": 2048000,
      "rowLimit": 10000
     },
     "inputWidgets": {},
     "nuid": "f22a7a2d-b5cd-44ac-866e-d744d25a50ac",
     "showTitle": false,
     "title": ""
    },
    "id": "0m2JWFliFfKT"
   },
   "outputs": [],
   "source": [
    "from __future__ import print_function\n",
    "import torch\n",
    "import torch.nn as nn\n",
    "import torch.nn.functional as F\n",
    "import torch.optim as optim\n",
    "from torchvision import datasets, transforms\n",
    "import numpy as np"
   ]
  },
  {
   "cell_type": "code",
   "execution_count": 4,
   "metadata": {
    "application/vnd.databricks.v1+cell": {
     "cellMetadata": {
      "byteLimit": 2048000,
      "rowLimit": 10000
     },
     "inputWidgets": {},
     "nuid": "e47317e4-5aca-488f-aedf-b8a9e095d1c6",
     "showTitle": false,
     "title": ""
    }
   },
   "outputs": [],
   "source": [
    "dropout_value = 0.05\n",
    "class Net(nn.Module):\n",
    "    def __init__(self):\n",
    "        super().__init__()\n",
    "\n",
    "        self.convblock1 = nn.Sequential(\n",
    "          nn.Conv2d(in_channels=1, out_channels=4 ,kernel_size=(3,3),padding=0, bias=False), ##>>40 param, 28 input/channel size\n",
    "          nn.BatchNorm2d(4),\n",
    "          nn.ReLU(),\n",
    "          nn.Conv2d(in_channels=4, out_channels=8 ,kernel_size=(3,3),padding=1, bias=False), ##>>148 , 26\n",
    "          nn.BatchNorm2d(8),\n",
    "          nn.ReLU(),\n",
    "          nn.Conv2d(in_channels=8, out_channels=16 ,kernel_size=(3,3),padding=1, bias=False), ##>>148, 26\n",
    "          nn.BatchNorm2d(16),\n",
    "          nn.ReLU(),\n",
    "          nn.Dropout(dropout_value)\n",
    "        )\n",
    "        self.pool1 = nn.Sequential( ##>>0, 13\n",
    "          nn.MaxPool2d(2,2),\n",
    "        )\n",
    "        self.convblock2 = nn.Sequential(\n",
    "          nn.Conv2d(in_channels=16, out_channels=4 ,kernel_size=(3,3),padding=1, bias=False), ##>>298 , 13\n",
    "          nn.BatchNorm2d(4),\n",
    "          nn.ReLU(),\n",
    "          nn.Conv2d(in_channels=4, out_channels=8 ,kernel_size=(3,3),padding=1, bias=False), ##>>614 , 13\n",
    "          nn.BatchNorm2d(8),\n",
    "          nn.ReLU(),\n",
    "          nn.Conv2d(in_channels=8, out_channels=16 ,kernel_size=(3,3),padding=1, bias=False), ##>>614 , 13\n",
    "          nn.BatchNorm2d(16),\n",
    "          nn.ReLU(), \n",
    "          nn.Dropout(dropout_value)       \n",
    "        )\n",
    "        self.pool2 = nn.Sequential( ##>>0, 6\n",
    "          nn.MaxPool2d(2,2)\n",
    "        )\n",
    "        self.convblock3 = nn.Sequential(\n",
    "          nn.Conv2d(in_channels=16, out_channels=4 ,kernel_size=(3,3),padding=1, bias=False), ##>>298 , 6\n",
    "          nn.BatchNorm2d(4),\n",
    "          nn.ReLU(),\n",
    "          nn.Conv2d(in_channels=4, out_channels=8 ,kernel_size=(3,3),padding=1, bias=False), ##>>614 , 6\n",
    "          nn.BatchNorm2d(8),\n",
    "          nn.ReLU(),\n",
    "          nn.Conv2d(in_channels=8, out_channels=16 ,kernel_size=(3,3),padding=1, bias=False), ##>>614 , 6\n",
    "          nn.BatchNorm2d(16),\n",
    "          nn.ReLU(),\n",
    "          # nn.Dropout(dropout_value)\n",
    "        )\n",
    "        self.pool3 = nn.Sequential( ##>>0, 3\n",
    "          nn.MaxPool2d(2,2),\n",
    "        )\n",
    "        self.convblock4 = nn.Sequential(\n",
    "          nn.Conv2d(in_channels=16, out_channels=8 ,kernel_size=3,padding=1, bias=False), ##>>1168 , 3\n",
    "          nn.BatchNorm2d(8),\n",
    "          nn.ReLU(),\n",
    "          # nn.Conv2d(in_channels=8, out_channels=16 ,kernel_size=3,padding=1, bias=False), ##>>2320 , 3\n",
    "          # nn.BatchNorm2d(16),\n",
    "          # nn.ReLU(),\n",
    "          nn.Conv2d(in_channels=8, out_channels=10 ,kernel_size=3,padding=0, bias=False), ##>>1450 , 1\n",
    "          # nn.ReLU()\n",
    "        )\n",
    "\n",
    "    def forward(self, x):\n",
    "        x = self.convblock1(x)\n",
    "        # print (x.shape)\n",
    "        x = self.pool1(x)\n",
    "        # print (x.shape)\n",
    "        x= self.convblock2(x)\n",
    "        # print (x.shape)\n",
    "        x= self.pool2(x)\n",
    "        # print (x.shape)\n",
    "        x= self.convblock3(x)\n",
    "        # print (x.shape)\n",
    "        x= self.pool3(x)\n",
    "        # print (x.shape)\n",
    "        x= self.convblock4(x)\n",
    "        # print (x.shape)\n",
    "        x = x.view(-1,10)\n",
    "        x = F.log_softmax(x)\n",
    "        return x \n"
   ]
  },
  {
   "cell_type": "code",
   "execution_count": 5,
   "metadata": {
    "application/vnd.databricks.v1+cell": {
     "cellMetadata": {
      "byteLimit": 2048000,
      "rowLimit": 10000
     },
     "inputWidgets": {},
     "nuid": "61cf46f2-2647-48b2-a033-ba4629cb6638",
     "showTitle": false,
     "title": ""
    }
   },
   "outputs": [
    {
     "name": "stdout",
     "output_type": "stream",
     "text": [
      "----------------------------------------------------------------\n",
      "        Layer (type)               Output Shape         Param #\n",
      "================================================================\n",
      "            Conv2d-1            [-1, 4, 26, 26]              36\n",
      "       BatchNorm2d-2            [-1, 4, 26, 26]               8\n",
      "              ReLU-3            [-1, 4, 26, 26]               0\n",
      "            Conv2d-4            [-1, 8, 26, 26]             288\n",
      "       BatchNorm2d-5            [-1, 8, 26, 26]              16\n",
      "              ReLU-6            [-1, 8, 26, 26]               0\n",
      "            Conv2d-7           [-1, 16, 26, 26]           1,152\n",
      "       BatchNorm2d-8           [-1, 16, 26, 26]              32\n",
      "              ReLU-9           [-1, 16, 26, 26]               0\n",
      "          Dropout-10           [-1, 16, 26, 26]               0\n",
      "        MaxPool2d-11           [-1, 16, 13, 13]               0\n",
      "           Conv2d-12            [-1, 4, 13, 13]             576\n",
      "      BatchNorm2d-13            [-1, 4, 13, 13]               8\n",
      "             ReLU-14            [-1, 4, 13, 13]               0\n",
      "           Conv2d-15            [-1, 8, 13, 13]             288\n",
      "      BatchNorm2d-16            [-1, 8, 13, 13]              16\n",
      "             ReLU-17            [-1, 8, 13, 13]               0\n",
      "           Conv2d-18           [-1, 16, 13, 13]           1,152\n",
      "      BatchNorm2d-19           [-1, 16, 13, 13]              32\n",
      "             ReLU-20           [-1, 16, 13, 13]               0\n",
      "          Dropout-21           [-1, 16, 13, 13]               0\n",
      "        MaxPool2d-22             [-1, 16, 6, 6]               0\n",
      "           Conv2d-23              [-1, 4, 6, 6]             576\n",
      "      BatchNorm2d-24              [-1, 4, 6, 6]               8\n",
      "             ReLU-25              [-1, 4, 6, 6]               0\n",
      "           Conv2d-26              [-1, 8, 6, 6]             288\n",
      "      BatchNorm2d-27              [-1, 8, 6, 6]              16\n",
      "             ReLU-28              [-1, 8, 6, 6]               0\n",
      "           Conv2d-29             [-1, 16, 6, 6]           1,152\n",
      "      BatchNorm2d-30             [-1, 16, 6, 6]              32\n",
      "             ReLU-31             [-1, 16, 6, 6]               0\n",
      "        MaxPool2d-32             [-1, 16, 3, 3]               0\n",
      "           Conv2d-33              [-1, 8, 3, 3]           1,152\n",
      "      BatchNorm2d-34              [-1, 8, 3, 3]              16\n",
      "             ReLU-35              [-1, 8, 3, 3]               0\n",
      "           Conv2d-36             [-1, 10, 1, 1]             720\n",
      "================================================================\n",
      "Total params: 7,564\n",
      "Trainable params: 7,564\n",
      "Non-trainable params: 0\n",
      "----------------------------------------------------------------\n",
      "Input size (MB): 0.00\n",
      "Forward/backward pass size (MB): 0.70\n",
      "Params size (MB): 0.03\n",
      "Estimated Total Size (MB): 0.73\n",
      "----------------------------------------------------------------\n"
     ]
    },
    {
     "name": "stderr",
     "output_type": "stream",
     "text": [
      "/var/folders/m2/x6hw0bg17hd2xt6rzl4jd04h0000gn/T/ipykernel_58454/3223139834.py:78: UserWarning: Implicit dimension choice for log_softmax has been deprecated. Change the call to include dim=X as an argument.\n",
      "  x = F.log_softmax(x)\n"
     ]
    }
   ],
   "source": [
    "from torchsummary import summary\n",
    "use_cuda = torch.cuda.is_available()\n",
    "device = torch.device(\"cuda\" if use_cuda else \"cpu\")\n",
    "model = Net().to(device)\n",
    "summary(model, input_size=(1, 28, 28))"
   ]
  },
  {
   "cell_type": "code",
   "execution_count": 7,
   "metadata": {
    "application/vnd.databricks.v1+cell": {
     "cellMetadata": {
      "byteLimit": 2048000,
      "rowLimit": 10000
     },
     "inputWidgets": {},
     "nuid": "7df9ea1f-7289-4da8-a547-c9bae9a8ff6d",
     "showTitle": false,
     "title": ""
    },
    "id": "DqTWLaM5GHgH"
   },
   "outputs": [],
   "source": [
    "torch.manual_seed(1)\n",
    "batch_size = 64\n",
    "\n",
    "kwargs = {'num_workers': 7, 'pin_memory': True} if use_cuda else {}\n",
    "train_loader = torch.utils.data.DataLoader(\n",
    "    datasets.MNIST('../data', train=True, download=True,\n",
    "    transform=transforms.Compose([\n",
    "                        transforms.RandomRotation((-7,7),fill=1),\n",
    "                        transforms.ToTensor(),\n",
    "                        transforms.Normalize((0.1307,), (0.3081,))\n",
    "                    ])),\n",
    "    batch_size=batch_size, shuffle=True, **kwargs)\n",
    "test_loader = torch.utils.data.DataLoader(\n",
    "    datasets.MNIST('../data', train=False, transform=transforms.Compose([\n",
    "    transforms.ToTensor(),\n",
    "    transforms.Normalize((0.1307,), (0.3081,))])),\n",
    "    batch_size=batch_size, shuffle=True, **kwargs)\n"
   ]
  },
  {
   "cell_type": "code",
   "execution_count": 8,
   "metadata": {
    "application/vnd.databricks.v1+cell": {
     "cellMetadata": {
      "byteLimit": 2048000,
      "rowLimit": 10000
     },
     "inputWidgets": {},
     "nuid": "7f00abad-08e9-455a-aa84-78bd29fcb332",
     "showTitle": false,
     "title": ""
    },
    "id": "8fDefDhaFlwH"
   },
   "outputs": [],
   "source": [
    "from tqdm import tqdm\n",
    "def train(model, device, train_loader, optimizer, epoch):\n",
    "    model.train()\n",
    "    pbar = tqdm(train_loader)\n",
    "    correct=0\n",
    "    for batch_idx, (data, target) in enumerate(pbar):\n",
    "        data, target = data.float().to(device), target.to(device)\n",
    "        optimizer.zero_grad()\n",
    "        output = model(data)\n",
    "        loss = F.nll_loss(output, target)\n",
    "        loss.backward()\n",
    "        optimizer.step()\n",
    "        pbar.set_description(desc= f'loss={loss.item()} batch_id={batch_idx}')\n",
    "        pred = output.argmax(dim=1)\n",
    "        correct+=pred.eq(target).sum().item()\n",
    "    acc = 100*correct/len(train_loader.dataset)\n",
    "    print(f'Train Accuracy: {acc:.2f}%')\n",
    "        \n",
    "def test(model, device, test_loader,epoch):\n",
    "    model.eval()\n",
    "    test_loss = 0\n",
    "    correct = 0\n",
    "    with torch.no_grad():\n",
    "        for _,(data, target) in enumerate(test_loader):\n",
    "            data, target = data.float().to(device), target.to(device)\n",
    "            output = model(data)\n",
    "            test_loss += F.nll_loss(output, target, reduction='sum').item()  # sum up batch loss\n",
    "            pred = output.argmax(dim=1, keepdim=True)  # get the index of the max log-probability\n",
    "            correct += pred.eq(target.view_as(pred)).sum().item()\n",
    "    test_loss /= len(test_loader.dataset)\n",
    "\n",
    "    print('Test set: Average loss: {:.4f}, Accuracy: {}/{} ({:.2f}%)'.format(\n",
    "        test_loss, correct, len(test_loader.dataset),\n",
    "        100. * correct / len(test_loader.dataset)))"
   ]
  },
  {
   "cell_type": "code",
   "execution_count": 9,
   "metadata": {
    "application/vnd.databricks.v1+cell": {
     "cellMetadata": {
      "byteLimit": 2048000,
      "rowLimit": 10000
     },
     "inputWidgets": {},
     "nuid": "3e1ca229-d303-4c92-a6b5-d95cc9e63e44",
     "showTitle": false,
     "title": ""
    },
    "id": "MMWbLWO6FuHb"
   },
   "outputs": [
    {
     "name": "stdout",
     "output_type": "stream",
     "text": [
      "Epoch: 1\n"
     ]
    },
    {
     "name": "stderr",
     "output_type": "stream",
     "text": [
      "  0%|          | 0/938 [00:00<?, ?it/s]/var/folders/m2/x6hw0bg17hd2xt6rzl4jd04h0000gn/T/ipykernel_58454/3223139834.py:78: UserWarning: Implicit dimension choice for log_softmax has been deprecated. Change the call to include dim=X as an argument.\n",
      "  x = F.log_softmax(x)\n",
      "loss=0.1641707718372345 batch_id=937: 100%|██████████| 938/938 [00:39<00:00, 23.93it/s]  \n"
     ]
    },
    {
     "name": "stdout",
     "output_type": "stream",
     "text": [
      "Train Accuracy: 93.42%\n",
      "Test set: Average loss: 0.0610, Accuracy: 9810/10000 (98.10%)\n",
      "Epoch: 2\n"
     ]
    },
    {
     "name": "stderr",
     "output_type": "stream",
     "text": [
      "loss=0.01435117144137621 batch_id=937: 100%|██████████| 938/938 [00:39<00:00, 23.64it/s]  \n"
     ]
    },
    {
     "name": "stdout",
     "output_type": "stream",
     "text": [
      "Train Accuracy: 97.93%\n",
      "Test set: Average loss: 0.0413, Accuracy: 9870/10000 (98.70%)\n",
      "Epoch: 3\n"
     ]
    },
    {
     "name": "stderr",
     "output_type": "stream",
     "text": [
      "loss=0.0342441126704216 batch_id=937: 100%|██████████| 938/938 [00:41<00:00, 22.72it/s]   \n"
     ]
    },
    {
     "name": "stdout",
     "output_type": "stream",
     "text": [
      "Train Accuracy: 98.38%\n",
      "Test set: Average loss: 0.0351, Accuracy: 9882/10000 (98.82%)\n",
      "Epoch: 4\n"
     ]
    },
    {
     "name": "stderr",
     "output_type": "stream",
     "text": [
      "loss=0.05416416376829147 batch_id=937: 100%|██████████| 938/938 [00:39<00:00, 23.48it/s]  \n"
     ]
    },
    {
     "name": "stdout",
     "output_type": "stream",
     "text": [
      "Train Accuracy: 98.65%\n",
      "Test set: Average loss: 0.0372, Accuracy: 9882/10000 (98.82%)\n",
      "Epoch: 5\n"
     ]
    },
    {
     "name": "stderr",
     "output_type": "stream",
     "text": [
      "loss=0.09748774766921997 batch_id=937: 100%|██████████| 938/938 [00:38<00:00, 24.43it/s]  \n"
     ]
    },
    {
     "name": "stdout",
     "output_type": "stream",
     "text": [
      "Train Accuracy: 98.73%\n",
      "Test set: Average loss: 0.0428, Accuracy: 9862/10000 (98.62%)\n",
      "Epoch: 6\n"
     ]
    },
    {
     "name": "stderr",
     "output_type": "stream",
     "text": [
      "loss=0.03286176547408104 batch_id=937: 100%|██████████| 938/938 [00:38<00:00, 24.17it/s]  \n"
     ]
    },
    {
     "name": "stdout",
     "output_type": "stream",
     "text": [
      "Train Accuracy: 98.81%\n",
      "Test set: Average loss: 0.0299, Accuracy: 9910/10000 (99.10%)\n",
      "Epoch: 7\n"
     ]
    },
    {
     "name": "stderr",
     "output_type": "stream",
     "text": [
      "loss=0.003106015035882592 batch_id=937: 100%|██████████| 938/938 [00:40<00:00, 23.02it/s] \n"
     ]
    },
    {
     "name": "stdout",
     "output_type": "stream",
     "text": [
      "Train Accuracy: 98.89%\n",
      "Test set: Average loss: 0.0299, Accuracy: 9905/10000 (99.05%)\n",
      "Epoch: 8\n"
     ]
    },
    {
     "name": "stderr",
     "output_type": "stream",
     "text": [
      "loss=0.0028384763281792402 batch_id=937: 100%|██████████| 938/938 [00:39<00:00, 23.81it/s]\n"
     ]
    },
    {
     "name": "stdout",
     "output_type": "stream",
     "text": [
      "Train Accuracy: 99.03%\n",
      "Test set: Average loss: 0.0250, Accuracy: 9916/10000 (99.16%)\n",
      "Epoch: 9\n"
     ]
    },
    {
     "name": "stderr",
     "output_type": "stream",
     "text": [
      "loss=0.20249173045158386 batch_id=937: 100%|██████████| 938/938 [00:39<00:00, 24.01it/s]  \n"
     ]
    },
    {
     "name": "stdout",
     "output_type": "stream",
     "text": [
      "Train Accuracy: 99.06%\n",
      "Test set: Average loss: 0.0324, Accuracy: 9895/10000 (98.95%)\n",
      "Epoch: 10\n"
     ]
    },
    {
     "name": "stderr",
     "output_type": "stream",
     "text": [
      "loss=0.0004402858903631568 batch_id=937: 100%|██████████| 938/938 [00:39<00:00, 23.62it/s] \n"
     ]
    },
    {
     "name": "stdout",
     "output_type": "stream",
     "text": [
      "Train Accuracy: 99.10%\n",
      "Test set: Average loss: 0.0286, Accuracy: 9898/10000 (98.98%)\n",
      "Epoch: 11\n"
     ]
    },
    {
     "name": "stderr",
     "output_type": "stream",
     "text": [
      "loss=0.01524492260068655 batch_id=937: 100%|██████████| 938/938 [00:39<00:00, 23.71it/s]   \n"
     ]
    },
    {
     "name": "stdout",
     "output_type": "stream",
     "text": [
      "Train Accuracy: 99.16%\n",
      "Test set: Average loss: 0.0288, Accuracy: 9910/10000 (99.10%)\n",
      "Epoch: 12\n"
     ]
    },
    {
     "name": "stderr",
     "output_type": "stream",
     "text": [
      "loss=0.011990653350949287 batch_id=937: 100%|██████████| 938/938 [00:39<00:00, 23.76it/s]  \n"
     ]
    },
    {
     "name": "stdout",
     "output_type": "stream",
     "text": [
      "Train Accuracy: 99.19%\n",
      "Test set: Average loss: 0.0230, Accuracy: 9922/10000 (99.22%)\n",
      "Epoch: 13\n"
     ]
    },
    {
     "name": "stderr",
     "output_type": "stream",
     "text": [
      "loss=0.004169031977653503 batch_id=937: 100%|██████████| 938/938 [00:39<00:00, 23.62it/s]  \n"
     ]
    },
    {
     "name": "stdout",
     "output_type": "stream",
     "text": [
      "Train Accuracy: 99.18%\n",
      "Test set: Average loss: 0.0252, Accuracy: 9926/10000 (99.26%)\n",
      "Epoch: 14\n"
     ]
    },
    {
     "name": "stderr",
     "output_type": "stream",
     "text": [
      "loss=0.03990931808948517 batch_id=937: 100%|██████████| 938/938 [00:41<00:00, 22.62it/s]   \n"
     ]
    },
    {
     "name": "stdout",
     "output_type": "stream",
     "text": [
      "Train Accuracy: 99.28%\n",
      "Test set: Average loss: 0.0212, Accuracy: 9933/10000 (99.33%)\n"
     ]
    }
   ],
   "source": [
    "\n",
    "model = Net().to(device)\n",
    "optimizer = optim.SGD(model.parameters(), lr=0.01, momentum=0.9)\n",
    "# exp_lr_scheduler = torch.optim.lr_scheduler.StepLR(optimizer, step_size=2, gamma=0.1)\n",
    "# scheduler1 = torch.optim.lr_scheduler.ExponentialLR(optimizer, gamma=0.9)\n",
    "for epoch in range(1, 15):\n",
    "    print(f'Epoch: {epoch}')\n",
    "    train(model, device, train_loader, optimizer, epoch)\n",
    "    # scheduler1.step()\n",
    "    test(model, device, test_loader,epoch)\n"
   ]
  }
 ],
 "metadata": {
  "accelerator": "GPU",
  "application/vnd.databricks.v1+notebook": {
   "dashboards": [],
   "language": "python",
   "notebookMetadata": {
    "pythonIndentUnit": 2
   },
   "notebookName": "EVA4_Session_2",
   "widgets": {}
  },
  "colab": {
   "provenance": []
  },
  "kernelspec": {
   "display_name": "Python 3 (ipykernel)",
   "language": "python",
   "name": "python3"
  },
  "language_info": {
   "codemirror_mode": {
    "name": "ipython",
    "version": 3
   },
   "file_extension": ".py",
   "mimetype": "text/x-python",
   "name": "python",
   "nbconvert_exporter": "python",
   "pygments_lexer": "ipython3",
   "version": "3.11.3"
  }
 },
 "nbformat": 4,
 "nbformat_minor": 1
}
