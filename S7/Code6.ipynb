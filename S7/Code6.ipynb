{
 "cells": [
  {
   "cell_type": "code",
   "execution_count": 6,
   "metadata": {
    "application/vnd.databricks.v1+cell": {
     "cellMetadata": {
      "byteLimit": 2048000,
      "rowLimit": 10000
     },
     "inputWidgets": {},
     "nuid": "a2758875-da9a-44fa-a5ae-bfb86be2ea1a",
     "showTitle": false,
     "title": ""
    }
   },
   "outputs": [],
   "source": [
    "# !pip install torchsummary"
   ]
  },
  {
   "cell_type": "code",
   "execution_count": 7,
   "metadata": {},
   "outputs": [
    {
     "data": {
      "text/plain": [
       "'\\nTarget : reduce overfitting\\nResult :\\nAnalysis:\\n'"
      ]
     },
     "execution_count": 7,
     "metadata": {},
     "output_type": "execute_result"
    }
   ],
   "source": [
    "##code\n",
    "\"\"\"\n",
    "Target : reduce overfitting, see if we close the gap b/w train (99.47) and test (99.16)\n",
    "Result : Train Accuracy: 99.14%\n",
    "Test set: Average loss: 0.0277, Accuracy: 9915/10000 (99.15%)\n",
    "Analysis: overfit is reduced tran and test are close without deterioting the test accuracy\n",
    "\"\"\""
   ]
  },
  {
   "cell_type": "code",
   "execution_count": 8,
   "metadata": {
    "application/vnd.databricks.v1+cell": {
     "cellMetadata": {
      "byteLimit": 2048000,
      "rowLimit": 10000
     },
     "inputWidgets": {},
     "nuid": "f22a7a2d-b5cd-44ac-866e-d744d25a50ac",
     "showTitle": false,
     "title": ""
    },
    "id": "0m2JWFliFfKT"
   },
   "outputs": [],
   "source": [
    "from __future__ import print_function\n",
    "import torch\n",
    "import torch.nn as nn\n",
    "import torch.nn.functional as F\n",
    "import torch.optim as optim\n",
    "from torchvision import datasets, transforms\n",
    "import numpy as np"
   ]
  },
  {
   "cell_type": "code",
   "execution_count": 9,
   "metadata": {
    "application/vnd.databricks.v1+cell": {
     "cellMetadata": {
      "byteLimit": 2048000,
      "rowLimit": 10000
     },
     "inputWidgets": {},
     "nuid": "e47317e4-5aca-488f-aedf-b8a9e095d1c6",
     "showTitle": false,
     "title": ""
    }
   },
   "outputs": [],
   "source": [
    "dropout_value = 0.1\n",
    "class Net(nn.Module):\n",
    "    def __init__(self):\n",
    "        super().__init__()\n",
    "\n",
    "        self.convblock1 = nn.Sequential(\n",
    "          nn.Conv2d(in_channels=1, out_channels=4 ,kernel_size=(3,3),padding=0, bias=False), \n",
    "          nn.BatchNorm2d(4),\n",
    "          nn.ReLU(),\n",
    "          nn.Conv2d(in_channels=4, out_channels=8 ,kernel_size=(3,3),padding=0, bias=False), \n",
    "          nn.BatchNorm2d(8),\n",
    "          nn.ReLU(),\n",
    "          nn.Conv2d(in_channels=8, out_channels=16 ,kernel_size=(3,3),padding=0, bias=False), \n",
    "          nn.BatchNorm2d(16),\n",
    "          nn.ReLU(),\n",
    "          nn.Dropout(dropout_value)\n",
    "        )\n",
    "        self.pool1 = nn.Sequential( \n",
    "          nn.MaxPool2d(2,2),\n",
    "        )\n",
    "        self.convblock2 = nn.Sequential(\n",
    "          nn.Conv2d(in_channels=16, out_channels=4 ,kernel_size=(3,3),padding=1, bias=False), \n",
    "          nn.BatchNorm2d(4),\n",
    "          nn.ReLU(),\n",
    "          nn.Conv2d(in_channels=4, out_channels=8 ,kernel_size=(3,3),padding=1, bias=False), \n",
    "          nn.BatchNorm2d(8),\n",
    "          nn.ReLU(),\n",
    "          nn.Conv2d(in_channels=8, out_channels=16 ,kernel_size=(3,3),padding=0, bias=False), \n",
    "          nn.BatchNorm2d(16),\n",
    "          nn.ReLU(), \n",
    "          nn.Dropout(dropout_value)       \n",
    "        )\n",
    "        self.convblock3 = nn.Sequential(\n",
    "          nn.Conv2d(in_channels=16, out_channels=4 ,kernel_size=(3,3),padding=1, bias=False), \n",
    "          nn.BatchNorm2d(4),\n",
    "          nn.ReLU(),\n",
    "          nn.Conv2d(in_channels=4, out_channels=8 ,kernel_size=(3,3),padding=1, bias=False), \n",
    "          nn.BatchNorm2d(8),\n",
    "          nn.ReLU(),\n",
    "          nn.Conv2d(in_channels=8, out_channels=16 ,kernel_size=(3,3),padding=0, bias=False), \n",
    "          nn.BatchNorm2d(16),\n",
    "          nn.ReLU(),\n",
    "          nn.Dropout(dropout_value)\n",
    "        )\n",
    "        self.pool2 = nn.Sequential(\n",
    "          nn.MaxPool2d(2,2),\n",
    "        )\n",
    "        self.convblock4 = nn.Sequential(\n",
    "          nn.Conv2d(in_channels=16, out_channels=8 ,kernel_size=3,padding=1, bias=False), \n",
    "          nn.BatchNorm2d(8),\n",
    "          nn.ReLU(),\n",
    "          nn.Conv2d(in_channels=8, out_channels=10 ,kernel_size=3,padding=0, bias=False), \n",
    "          # nn.ReLU()\n",
    "        )\n",
    "\n",
    "    def forward(self, x):\n",
    "        x = self.convblock1(x)\n",
    "        # print (x.shape)\n",
    "        x = self.pool1(x)\n",
    "        # print (x.shape)\n",
    "        x= self.convblock2(x)\n",
    "        # print (x.shape)\n",
    "        x= self.convblock3(x)\n",
    "        # print (x.shape)\n",
    "        x= self.pool2(x)\n",
    "        # print (x.shape)\n",
    "        x= self.convblock4(x)\n",
    "        # print (x.shape)\n",
    "        x = x.view(-1,10)\n",
    "        x = F.log_softmax(x)\n",
    "        return x \n"
   ]
  },
  {
   "cell_type": "code",
   "execution_count": 10,
   "metadata": {
    "application/vnd.databricks.v1+cell": {
     "cellMetadata": {
      "byteLimit": 2048000,
      "rowLimit": 10000
     },
     "inputWidgets": {},
     "nuid": "61cf46f2-2647-48b2-a033-ba4629cb6638",
     "showTitle": false,
     "title": ""
    }
   },
   "outputs": [
    {
     "name": "stdout",
     "output_type": "stream",
     "text": [
      "----------------------------------------------------------------\n",
      "        Layer (type)               Output Shape         Param #\n",
      "================================================================\n",
      "            Conv2d-1            [-1, 4, 26, 26]              36\n",
      "       BatchNorm2d-2            [-1, 4, 26, 26]               8\n",
      "              ReLU-3            [-1, 4, 26, 26]               0\n",
      "            Conv2d-4            [-1, 8, 24, 24]             288\n",
      "       BatchNorm2d-5            [-1, 8, 24, 24]              16\n",
      "              ReLU-6            [-1, 8, 24, 24]               0\n",
      "            Conv2d-7           [-1, 16, 22, 22]           1,152\n",
      "       BatchNorm2d-8           [-1, 16, 22, 22]              32\n",
      "              ReLU-9           [-1, 16, 22, 22]               0\n",
      "          Dropout-10           [-1, 16, 22, 22]               0\n",
      "        MaxPool2d-11           [-1, 16, 11, 11]               0\n",
      "           Conv2d-12            [-1, 4, 11, 11]             576\n",
      "      BatchNorm2d-13            [-1, 4, 11, 11]               8\n",
      "             ReLU-14            [-1, 4, 11, 11]               0\n",
      "           Conv2d-15            [-1, 8, 11, 11]             288\n",
      "      BatchNorm2d-16            [-1, 8, 11, 11]              16\n",
      "             ReLU-17            [-1, 8, 11, 11]               0\n",
      "           Conv2d-18             [-1, 16, 9, 9]           1,152\n",
      "      BatchNorm2d-19             [-1, 16, 9, 9]              32\n",
      "             ReLU-20             [-1, 16, 9, 9]               0\n",
      "          Dropout-21             [-1, 16, 9, 9]               0\n",
      "           Conv2d-22              [-1, 4, 9, 9]             576\n",
      "      BatchNorm2d-23              [-1, 4, 9, 9]               8\n",
      "             ReLU-24              [-1, 4, 9, 9]               0\n",
      "           Conv2d-25              [-1, 8, 9, 9]             288\n",
      "      BatchNorm2d-26              [-1, 8, 9, 9]              16\n",
      "             ReLU-27              [-1, 8, 9, 9]               0\n",
      "           Conv2d-28             [-1, 16, 7, 7]           1,152\n",
      "      BatchNorm2d-29             [-1, 16, 7, 7]              32\n",
      "             ReLU-30             [-1, 16, 7, 7]               0\n",
      "          Dropout-31             [-1, 16, 7, 7]               0\n",
      "        MaxPool2d-32             [-1, 16, 3, 3]               0\n",
      "           Conv2d-33              [-1, 8, 3, 3]           1,152\n",
      "      BatchNorm2d-34              [-1, 8, 3, 3]              16\n",
      "             ReLU-35              [-1, 8, 3, 3]               0\n",
      "           Conv2d-36             [-1, 10, 1, 1]             720\n",
      "================================================================\n",
      "Total params: 7,564\n",
      "Trainable params: 7,564\n",
      "Non-trainable params: 0\n",
      "----------------------------------------------------------------\n",
      "Input size (MB): 0.00\n",
      "Forward/backward pass size (MB): 0.54\n",
      "Params size (MB): 0.03\n",
      "Estimated Total Size (MB): 0.57\n",
      "----------------------------------------------------------------\n"
     ]
    },
    {
     "name": "stderr",
     "output_type": "stream",
     "text": [
      "/var/folders/m2/x6hw0bg17hd2xt6rzl4jd04h0000gn/T/ipykernel_53001/2000834814.py:75: UserWarning: Implicit dimension choice for log_softmax has been deprecated. Change the call to include dim=X as an argument.\n",
      "  x = F.log_softmax(x)\n"
     ]
    }
   ],
   "source": [
    "from torchsummary import summary\n",
    "use_cuda = torch.cuda.is_available()\n",
    "device = torch.device(\"cuda\" if use_cuda else \"cpu\")\n",
    "model = Net().to(device)\n",
    "summary(model, input_size=(1, 28, 28))"
   ]
  },
  {
   "cell_type": "code",
   "execution_count": 11,
   "metadata": {},
   "outputs": [],
   "source": [
    "transforms_ = transforms.Compose([\n",
    "                        transforms.RandomRotation((-7,7),fill=1),\n",
    "                        transforms.ToTensor(),\n",
    "                        transforms.Normalize((0.1307,), (0.3081,))\n",
    "                    ])"
   ]
  },
  {
   "cell_type": "code",
   "execution_count": 12,
   "metadata": {
    "application/vnd.databricks.v1+cell": {
     "cellMetadata": {
      "byteLimit": 2048000,
      "rowLimit": 10000
     },
     "inputWidgets": {},
     "nuid": "7df9ea1f-7289-4da8-a547-c9bae9a8ff6d",
     "showTitle": false,
     "title": ""
    },
    "id": "DqTWLaM5GHgH"
   },
   "outputs": [],
   "source": [
    "torch.manual_seed(1)\n",
    "batch_size = 64\n",
    "\n",
    "kwargs = {'num_workers': 7, 'pin_memory': True} if use_cuda else {}\n",
    "train_loader = torch.utils.data.DataLoader(\n",
    "    datasets.MNIST('../data', train=True, download=True,\n",
    "    transform=transforms.Compose([\n",
    "                        # transforms.RandomRotation((-7,7),fill=1),\n",
    "                        transforms.ToTensor(),\n",
    "                        transforms.Normalize((0.1307,), (0.3081,))\n",
    "                    ])),\n",
    "    batch_size=batch_size, shuffle=True, **kwargs)\n",
    "test_loader = torch.utils.data.DataLoader(\n",
    "    datasets.MNIST('../data', train=False, transform=transforms.Compose([\n",
    "    transforms.ToTensor(),\n",
    "    transforms.Normalize((0.1307,), (0.3081,))])),\n",
    "    batch_size=batch_size, shuffle=True, **kwargs)\n"
   ]
  },
  {
   "cell_type": "code",
   "execution_count": 13,
   "metadata": {
    "application/vnd.databricks.v1+cell": {
     "cellMetadata": {
      "byteLimit": 2048000,
      "rowLimit": 10000
     },
     "inputWidgets": {},
     "nuid": "7f00abad-08e9-455a-aa84-78bd29fcb332",
     "showTitle": false,
     "title": ""
    },
    "id": "8fDefDhaFlwH"
   },
   "outputs": [],
   "source": [
    "from tqdm import tqdm\n",
    "def train(model, device, train_loader, optimizer, epoch):\n",
    "    model.train()\n",
    "    pbar = tqdm(train_loader)\n",
    "    correct=0\n",
    "    for batch_idx, (data, target) in enumerate(pbar):\n",
    "        data, target = data.float().to(device), target.to(device)\n",
    "        optimizer.zero_grad()\n",
    "        output = model(data)\n",
    "        loss = F.nll_loss(output, target)\n",
    "        loss.backward()\n",
    "        optimizer.step()\n",
    "        pbar.set_description(desc= f'loss={loss.item()} batch_id={batch_idx}')\n",
    "        pred = output.argmax(dim=1)\n",
    "        correct+=pred.eq(target).sum().item()\n",
    "    acc = 100*correct/len(train_loader.dataset)\n",
    "    print(f'Train Accuracy: {acc:.2f}%')\n",
    "        \n",
    "def test(model, device, test_loader,epoch):\n",
    "    model.eval()\n",
    "    test_loss = 0\n",
    "    correct = 0\n",
    "    with torch.no_grad():\n",
    "        for _,(data, target) in enumerate(test_loader):\n",
    "            data, target = data.float().to(device), target.to(device)\n",
    "            output = model(data)\n",
    "            test_loss += F.nll_loss(output, target, reduction='sum').item()  # sum up batch loss\n",
    "            pred = output.argmax(dim=1, keepdim=True)  # get the index of the max log-probability\n",
    "            correct += pred.eq(target.view_as(pred)).sum().item()\n",
    "    test_loss /= len(test_loader.dataset)\n",
    "\n",
    "    print('Test set: Average loss: {:.4f}, Accuracy: {}/{} ({:.2f}%)'.format(\n",
    "        test_loss, correct, len(test_loader.dataset),\n",
    "        100. * correct / len(test_loader.dataset)))"
   ]
  },
  {
   "cell_type": "code",
   "execution_count": 14,
   "metadata": {
    "application/vnd.databricks.v1+cell": {
     "cellMetadata": {
      "byteLimit": 2048000,
      "rowLimit": 10000
     },
     "inputWidgets": {},
     "nuid": "3e1ca229-d303-4c92-a6b5-d95cc9e63e44",
     "showTitle": false,
     "title": ""
    },
    "id": "MMWbLWO6FuHb"
   },
   "outputs": [
    {
     "name": "stdout",
     "output_type": "stream",
     "text": [
      "Epoch: 1\n"
     ]
    },
    {
     "name": "stderr",
     "output_type": "stream",
     "text": [
      "  0%|          | 0/938 [00:00<?, ?it/s]/var/folders/m2/x6hw0bg17hd2xt6rzl4jd04h0000gn/T/ipykernel_53001/2000834814.py:75: UserWarning: Implicit dimension choice for log_softmax has been deprecated. Change the call to include dim=X as an argument.\n",
      "  x = F.log_softmax(x)\n",
      "loss=0.07679339498281479 batch_id=937: 100%|██████████| 938/938 [00:26<00:00, 34.83it/s] \n"
     ]
    },
    {
     "name": "stdout",
     "output_type": "stream",
     "text": [
      "Train Accuracy: 92.79%\n",
      "Test set: Average loss: 0.0711, Accuracy: 9804/10000 (98.04%)\n",
      "Epoch: 2\n"
     ]
    },
    {
     "name": "stderr",
     "output_type": "stream",
     "text": [
      "loss=0.18115408718585968 batch_id=937: 100%|██████████| 938/938 [00:33<00:00, 27.87it/s]  \n"
     ]
    },
    {
     "name": "stdout",
     "output_type": "stream",
     "text": [
      "Train Accuracy: 97.77%\n",
      "Test set: Average loss: 0.0626, Accuracy: 9826/10000 (98.26%)\n",
      "Epoch: 3\n"
     ]
    },
    {
     "name": "stderr",
     "output_type": "stream",
     "text": [
      "loss=0.009793629869818687 batch_id=937: 100%|██████████| 938/938 [00:30<00:00, 31.04it/s] \n"
     ]
    },
    {
     "name": "stdout",
     "output_type": "stream",
     "text": [
      "Train Accuracy: 98.24%\n",
      "Test set: Average loss: 0.0472, Accuracy: 9855/10000 (98.55%)\n",
      "Epoch: 4\n"
     ]
    },
    {
     "name": "stderr",
     "output_type": "stream",
     "text": [
      "loss=0.004871424753218889 batch_id=937: 100%|██████████| 938/938 [00:29<00:00, 31.30it/s] \n"
     ]
    },
    {
     "name": "stdout",
     "output_type": "stream",
     "text": [
      "Train Accuracy: 98.47%\n",
      "Test set: Average loss: 0.0450, Accuracy: 9873/10000 (98.73%)\n",
      "Epoch: 5\n"
     ]
    },
    {
     "name": "stderr",
     "output_type": "stream",
     "text": [
      "loss=0.014320493675768375 batch_id=937: 100%|██████████| 938/938 [00:31<00:00, 29.61it/s] \n"
     ]
    },
    {
     "name": "stdout",
     "output_type": "stream",
     "text": [
      "Train Accuracy: 98.61%\n",
      "Test set: Average loss: 0.0351, Accuracy: 9897/10000 (98.97%)\n",
      "Epoch: 6\n"
     ]
    },
    {
     "name": "stderr",
     "output_type": "stream",
     "text": [
      "loss=0.010730504058301449 batch_id=937: 100%|██████████| 938/938 [00:39<00:00, 23.97it/s] \n"
     ]
    },
    {
     "name": "stdout",
     "output_type": "stream",
     "text": [
      "Train Accuracy: 98.66%\n",
      "Test set: Average loss: 0.0367, Accuracy: 9897/10000 (98.97%)\n",
      "Epoch: 7\n"
     ]
    },
    {
     "name": "stderr",
     "output_type": "stream",
     "text": [
      "loss=0.008814739994704723 batch_id=937: 100%|██████████| 938/938 [00:40<00:00, 23.18it/s] \n"
     ]
    },
    {
     "name": "stdout",
     "output_type": "stream",
     "text": [
      "Train Accuracy: 98.89%\n",
      "Test set: Average loss: 0.0368, Accuracy: 9888/10000 (98.88%)\n",
      "Epoch: 8\n"
     ]
    },
    {
     "name": "stderr",
     "output_type": "stream",
     "text": [
      "loss=0.015882205218076706 batch_id=937: 100%|██████████| 938/938 [00:42<00:00, 22.05it/s] \n"
     ]
    },
    {
     "name": "stdout",
     "output_type": "stream",
     "text": [
      "Train Accuracy: 98.90%\n",
      "Test set: Average loss: 0.0319, Accuracy: 9897/10000 (98.97%)\n",
      "Epoch: 9\n"
     ]
    },
    {
     "name": "stderr",
     "output_type": "stream",
     "text": [
      "loss=0.002172446111217141 batch_id=937: 100%|██████████| 938/938 [00:41<00:00, 22.77it/s] \n"
     ]
    },
    {
     "name": "stdout",
     "output_type": "stream",
     "text": [
      "Train Accuracy: 99.00%\n",
      "Test set: Average loss: 0.0333, Accuracy: 9903/10000 (99.03%)\n",
      "Epoch: 10\n"
     ]
    },
    {
     "name": "stderr",
     "output_type": "stream",
     "text": [
      "loss=0.004995464812964201 batch_id=937: 100%|██████████| 938/938 [00:41<00:00, 22.74it/s] \n"
     ]
    },
    {
     "name": "stdout",
     "output_type": "stream",
     "text": [
      "Train Accuracy: 99.08%\n",
      "Test set: Average loss: 0.0328, Accuracy: 9901/10000 (99.01%)\n",
      "Epoch: 11\n"
     ]
    },
    {
     "name": "stderr",
     "output_type": "stream",
     "text": [
      "loss=0.160445436835289 batch_id=937: 100%|██████████| 938/938 [00:35<00:00, 26.31it/s]    \n"
     ]
    },
    {
     "name": "stdout",
     "output_type": "stream",
     "text": [
      "Train Accuracy: 99.04%\n",
      "Test set: Average loss: 0.0324, Accuracy: 9908/10000 (99.08%)\n",
      "Epoch: 12\n"
     ]
    },
    {
     "name": "stderr",
     "output_type": "stream",
     "text": [
      "loss=0.08947976678609848 batch_id=937: 100%|██████████| 938/938 [00:37<00:00, 25.26it/s]  \n"
     ]
    },
    {
     "name": "stdout",
     "output_type": "stream",
     "text": [
      "Train Accuracy: 99.14%\n",
      "Test set: Average loss: 0.0277, Accuracy: 9915/10000 (99.15%)\n",
      "Epoch: 13\n"
     ]
    },
    {
     "name": "stderr",
     "output_type": "stream",
     "text": [
      "loss=0.0032749222591519356 batch_id=937: 100%|██████████| 938/938 [00:36<00:00, 25.74it/s] \n"
     ]
    },
    {
     "name": "stdout",
     "output_type": "stream",
     "text": [
      "Train Accuracy: 99.23%\n",
      "Test set: Average loss: 0.0296, Accuracy: 9910/10000 (99.10%)\n",
      "Epoch: 14\n"
     ]
    },
    {
     "name": "stderr",
     "output_type": "stream",
     "text": [
      "loss=0.002294029574841261 batch_id=937: 100%|██████████| 938/938 [00:35<00:00, 26.27it/s]  \n"
     ]
    },
    {
     "name": "stdout",
     "output_type": "stream",
     "text": [
      "Train Accuracy: 99.22%\n",
      "Test set: Average loss: 0.0305, Accuracy: 9907/10000 (99.07%)\n"
     ]
    }
   ],
   "source": [
    "\n",
    "model = Net().to(device)\n",
    "optimizer = optim.SGD(model.parameters(), lr=0.02, momentum=0.5)\n",
    "# scheduler = torch.optim.lr_scheduler.ReduceLROnPlateau(optimizer, 'min',patience=2,factor=.5)\n",
    "for epoch in range(1, 15):\n",
    "    print(f'Epoch: {epoch}')\n",
    "    train(model, device, train_loader, optimizer, epoch)\n",
    "    # scheduler.step()\n",
    "    test(model, device, test_loader,epoch)\n"
   ]
  }
 ],
 "metadata": {
  "accelerator": "GPU",
  "application/vnd.databricks.v1+notebook": {
   "dashboards": [],
   "language": "python",
   "notebookMetadata": {
    "pythonIndentUnit": 2
   },
   "notebookName": "EVA4_Session_2",
   "widgets": {}
  },
  "colab": {
   "provenance": []
  },
  "kernelspec": {
   "display_name": "Python 3 (ipykernel)",
   "language": "python",
   "name": "python3"
  },
  "language_info": {
   "codemirror_mode": {
    "name": "ipython",
    "version": 3
   },
   "file_extension": ".py",
   "mimetype": "text/x-python",
   "name": "python",
   "nbconvert_exporter": "python",
   "pygments_lexer": "ipython3",
   "version": "3.11.3"
  }
 },
 "nbformat": 4,
 "nbformat_minor": 1
}
