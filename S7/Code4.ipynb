{
 "cells": [
  {
   "cell_type": "code",
   "execution_count": 11,
   "metadata": {
    "application/vnd.databricks.v1+cell": {
     "cellMetadata": {
      "byteLimit": 2048000,
      "rowLimit": 10000
     },
     "inputWidgets": {},
     "nuid": "a2758875-da9a-44fa-a5ae-bfb86be2ea1a",
     "showTitle": false,
     "title": ""
    }
   },
   "outputs": [],
   "source": [
    "# !pip install torchsummary"
   ]
  },
  {
   "cell_type": "code",
   "execution_count": 12,
   "metadata": {},
   "outputs": [
    {
     "data": {
      "text/plain": [
       "'\\nTarget : increase accuracy at 15th epoch, keeping same parameters\\nResult : test: 99.37%, train 99.40 at 15th rpoch\\nAnalysis: training speed improved, still very huge parameter\\n'"
      ]
     },
     "execution_count": 12,
     "metadata": {},
     "output_type": "execute_result"
    }
   ],
   "source": [
    "##code\n",
    "\"\"\"\n",
    "Target : add more params in around 8k to check we can improve \n",
    "Result : test: 99.02%, train 99.28 at 15th rpoch 9,420\n",
    "Analysis: training perfromance improved with more params from 98.61% to 99.02%\n",
    "\"\"\""
   ]
  },
  {
   "cell_type": "code",
   "execution_count": 13,
   "metadata": {
    "application/vnd.databricks.v1+cell": {
     "cellMetadata": {
      "byteLimit": 2048000,
      "rowLimit": 10000
     },
     "inputWidgets": {},
     "nuid": "f22a7a2d-b5cd-44ac-866e-d744d25a50ac",
     "showTitle": false,
     "title": ""
    },
    "id": "0m2JWFliFfKT"
   },
   "outputs": [],
   "source": [
    "from __future__ import print_function\n",
    "import torch\n",
    "import torch.nn as nn\n",
    "import torch.nn.functional as F\n",
    "import torch.optim as optim\n",
    "from torchvision import datasets, transforms\n",
    "import numpy as np"
   ]
  },
  {
   "cell_type": "code",
   "execution_count": 14,
   "metadata": {
    "application/vnd.databricks.v1+cell": {
     "cellMetadata": {
      "byteLimit": 2048000,
      "rowLimit": 10000
     },
     "inputWidgets": {},
     "nuid": "e47317e4-5aca-488f-aedf-b8a9e095d1c6",
     "showTitle": false,
     "title": ""
    }
   },
   "outputs": [],
   "source": [
    "dropout_value = 0.1\n",
    "class Net(nn.Module):\n",
    "    def __init__(self):\n",
    "        super().__init__()\n",
    "\n",
    "        self.convblock1 = nn.Sequential(\n",
    "          nn.Conv2d(in_channels=1, out_channels=4 ,kernel_size=(3,3),padding=0, bias=False), \n",
    "          nn.BatchNorm2d(4),\n",
    "          nn.ReLU(),\n",
    "          nn.Conv2d(in_channels=4, out_channels=8 ,kernel_size=(3,3),padding=0, bias=False), \n",
    "          nn.BatchNorm2d(8),\n",
    "          nn.ReLU(),\n",
    "          nn.Conv2d(in_channels=8, out_channels=16 ,kernel_size=(3,3),padding=0, bias=False), \n",
    "          nn.BatchNorm2d(16),\n",
    "          nn.ReLU(),\n",
    "        )\n",
    "        self.pool1 = nn.Sequential( ##>>0, 12\n",
    "          nn.MaxPool2d(2,2),\n",
    "        )\n",
    "        self.convblock2 = nn.Sequential(\n",
    "          nn.Conv2d(in_channels=16, out_channels=4 ,kernel_size=(3,3),padding=1, bias=False), \n",
    "          nn.BatchNorm2d(4),\n",
    "          nn.ReLU(),\n",
    "          nn.Conv2d(in_channels=4, out_channels=8 ,kernel_size=(3,3),padding=1, bias=False),\n",
    "          nn.BatchNorm2d(8),\n",
    "          nn.ReLU(),\n",
    "          nn.Conv2d(in_channels=8, out_channels=16 ,kernel_size=(3,3),padding=0, bias=False), \n",
    "          nn.BatchNorm2d(16),\n",
    "          nn.ReLU(),        \n",
    "        )\n",
    "        self.convblock3 = nn.Sequential(\n",
    "          nn.Conv2d(in_channels=16, out_channels=4 ,kernel_size=(3,3),padding=1, bias=False), \n",
    "          nn.BatchNorm2d(4),\n",
    "          nn.ReLU(),\n",
    "          nn.Conv2d(in_channels=4, out_channels=8 ,kernel_size=(3,3),padding=1, bias=False), \n",
    "          nn.BatchNorm2d(8),\n",
    "          nn.ReLU(),\n",
    "          nn.Conv2d(in_channels=8, out_channels=16 ,kernel_size=(3,3),padding=0, bias=False), \n",
    "          nn.BatchNorm2d(16),\n",
    "          nn.ReLU(),\n",
    "        )\n",
    "        self.pool2 = nn.Sequential( \n",
    "          nn.MaxPool2d(2,2),\n",
    "        )\n",
    "        self.convblock4 = nn.Sequential(\n",
    "          nn.Conv2d(in_channels=16, out_channels=8 ,kernel_size=3,padding=1, bias=False), \n",
    "          nn.ReLU(),\n",
    "          nn.Conv2d(in_channels=8, out_channels=16 ,kernel_size=3,padding=1, bias=False), \n",
    "          nn.ReLU(),\n",
    "          nn.Conv2d(in_channels=16, out_channels=10 ,kernel_size=3,padding=0, bias=False), \n",
    "          # nn.ReLU()\n",
    "        )\n",
    "\n",
    "    def forward(self, x):\n",
    "        x = self.convblock1(x)\n",
    "        # print (x.shape)\n",
    "        x = self.pool1(x)\n",
    "        # print (x.shape)\n",
    "        x= self.convblock2(x)\n",
    "        # print (x.shape)\n",
    "        x= self.convblock3(x)\n",
    "        # print (x.shape)\n",
    "        x= self.pool2(x)\n",
    "        # print (x.shape)\n",
    "        x= self.convblock4(x)\n",
    "        # print (x.shape)\n",
    "        x = x.view(-1,10)\n",
    "        x = F.log_softmax(x)\n",
    "        return x \n"
   ]
  },
  {
   "cell_type": "code",
   "execution_count": 15,
   "metadata": {
    "application/vnd.databricks.v1+cell": {
     "cellMetadata": {
      "byteLimit": 2048000,
      "rowLimit": 10000
     },
     "inputWidgets": {},
     "nuid": "61cf46f2-2647-48b2-a033-ba4629cb6638",
     "showTitle": false,
     "title": ""
    }
   },
   "outputs": [
    {
     "name": "stdout",
     "output_type": "stream",
     "text": [
      "----------------------------------------------------------------\n",
      "        Layer (type)               Output Shape         Param #\n",
      "================================================================\n",
      "            Conv2d-1            [-1, 4, 26, 26]              36\n",
      "       BatchNorm2d-2            [-1, 4, 26, 26]               8\n",
      "              ReLU-3            [-1, 4, 26, 26]               0\n",
      "            Conv2d-4            [-1, 8, 24, 24]             288\n",
      "       BatchNorm2d-5            [-1, 8, 24, 24]              16\n",
      "              ReLU-6            [-1, 8, 24, 24]               0\n",
      "            Conv2d-7           [-1, 16, 22, 22]           1,152\n",
      "       BatchNorm2d-8           [-1, 16, 22, 22]              32\n",
      "              ReLU-9           [-1, 16, 22, 22]               0\n",
      "        MaxPool2d-10           [-1, 16, 11, 11]               0\n",
      "           Conv2d-11            [-1, 4, 11, 11]             576\n",
      "      BatchNorm2d-12            [-1, 4, 11, 11]               8\n",
      "             ReLU-13            [-1, 4, 11, 11]               0\n",
      "           Conv2d-14            [-1, 8, 11, 11]             288\n",
      "      BatchNorm2d-15            [-1, 8, 11, 11]              16\n",
      "             ReLU-16            [-1, 8, 11, 11]               0\n",
      "           Conv2d-17             [-1, 16, 9, 9]           1,152\n",
      "      BatchNorm2d-18             [-1, 16, 9, 9]              32\n",
      "             ReLU-19             [-1, 16, 9, 9]               0\n",
      "           Conv2d-20              [-1, 4, 9, 9]             576\n",
      "      BatchNorm2d-21              [-1, 4, 9, 9]               8\n",
      "             ReLU-22              [-1, 4, 9, 9]               0\n",
      "           Conv2d-23              [-1, 8, 9, 9]             288\n",
      "      BatchNorm2d-24              [-1, 8, 9, 9]              16\n",
      "             ReLU-25              [-1, 8, 9, 9]               0\n",
      "           Conv2d-26             [-1, 16, 7, 7]           1,152\n",
      "      BatchNorm2d-27             [-1, 16, 7, 7]              32\n",
      "             ReLU-28             [-1, 16, 7, 7]               0\n",
      "        MaxPool2d-29             [-1, 16, 3, 3]               0\n",
      "           Conv2d-30              [-1, 8, 3, 3]           1,152\n",
      "             ReLU-31              [-1, 8, 3, 3]               0\n",
      "           Conv2d-32             [-1, 16, 3, 3]           1,152\n",
      "             ReLU-33             [-1, 16, 3, 3]               0\n",
      "           Conv2d-34             [-1, 10, 1, 1]           1,440\n",
      "================================================================\n",
      "Total params: 9,420\n",
      "Trainable params: 9,420\n",
      "Non-trainable params: 0\n",
      "----------------------------------------------------------------\n",
      "Input size (MB): 0.00\n",
      "Forward/backward pass size (MB): 0.47\n",
      "Params size (MB): 0.04\n",
      "Estimated Total Size (MB): 0.51\n",
      "----------------------------------------------------------------\n"
     ]
    },
    {
     "name": "stderr",
     "output_type": "stream",
     "text": [
      "/var/folders/m2/x6hw0bg17hd2xt6rzl4jd04h0000gn/T/ipykernel_52471/2548857420.py:70: UserWarning: Implicit dimension choice for log_softmax has been deprecated. Change the call to include dim=X as an argument.\n",
      "  x = F.log_softmax(x)\n"
     ]
    }
   ],
   "source": [
    "from torchsummary import summary\n",
    "use_cuda = torch.cuda.is_available()\n",
    "device = torch.device(\"cuda\" if use_cuda else \"cpu\")\n",
    "model = Net().to(device)\n",
    "summary(model, input_size=(1, 28, 28))"
   ]
  },
  {
   "cell_type": "code",
   "execution_count": 16,
   "metadata": {},
   "outputs": [],
   "source": [
    "transforms_ = transforms.Compose([\n",
    "                        transforms.RandomRotation((-7,7),fill=1),\n",
    "                        transforms.ToTensor(),\n",
    "                        transforms.Normalize((0.1307,), (0.3081,))\n",
    "                    ])"
   ]
  },
  {
   "cell_type": "code",
   "execution_count": 17,
   "metadata": {
    "application/vnd.databricks.v1+cell": {
     "cellMetadata": {
      "byteLimit": 2048000,
      "rowLimit": 10000
     },
     "inputWidgets": {},
     "nuid": "7df9ea1f-7289-4da8-a547-c9bae9a8ff6d",
     "showTitle": false,
     "title": ""
    },
    "id": "DqTWLaM5GHgH"
   },
   "outputs": [],
   "source": [
    "torch.manual_seed(1)\n",
    "batch_size = 64\n",
    "\n",
    "kwargs = {'num_workers': 7, 'pin_memory': True} if use_cuda else {}\n",
    "train_loader = torch.utils.data.DataLoader(\n",
    "    datasets.MNIST('../data', train=True, download=True,\n",
    "    transform=transforms.Compose([\n",
    "                        transforms.ToTensor(),\n",
    "                        transforms.Normalize((0.1307,), (0.3081,))\n",
    "                    ])),\n",
    "    batch_size=batch_size, shuffle=True, **kwargs)\n",
    "test_loader = torch.utils.data.DataLoader(\n",
    "    datasets.MNIST('../data', train=False, transform=transforms.Compose([\n",
    "    transforms.ToTensor(),\n",
    "    transforms.Normalize((0.1307,), (0.3081,))])),\n",
    "    batch_size=batch_size, shuffle=True, **kwargs)\n"
   ]
  },
  {
   "cell_type": "code",
   "execution_count": 18,
   "metadata": {
    "application/vnd.databricks.v1+cell": {
     "cellMetadata": {
      "byteLimit": 2048000,
      "rowLimit": 10000
     },
     "inputWidgets": {},
     "nuid": "7f00abad-08e9-455a-aa84-78bd29fcb332",
     "showTitle": false,
     "title": ""
    },
    "id": "8fDefDhaFlwH"
   },
   "outputs": [],
   "source": [
    "from tqdm import tqdm\n",
    "def train(model, device, train_loader, optimizer, epoch):\n",
    "    model.train()\n",
    "    pbar = tqdm(train_loader)\n",
    "    correct=0\n",
    "    for batch_idx, (data, target) in enumerate(pbar):\n",
    "        data, target = data.float().to(device), target.to(device)\n",
    "        optimizer.zero_grad()\n",
    "        output = model(data)\n",
    "        loss = F.nll_loss(output, target)\n",
    "        loss.backward()\n",
    "        optimizer.step()\n",
    "        pbar.set_description(desc= f'loss={loss.item()} batch_id={batch_idx}')\n",
    "        pred = output.argmax(dim=1)\n",
    "        correct+=pred.eq(target).sum().item()\n",
    "    acc = 100*correct/len(train_loader.dataset)\n",
    "    print(f'Train Accuracy: {acc:.2f}%')\n",
    "        \n",
    "def test(model, device, test_loader,epoch):\n",
    "    model.eval()\n",
    "    test_loss = 0\n",
    "    correct = 0\n",
    "    with torch.no_grad():\n",
    "        for _,(data, target) in enumerate(test_loader):\n",
    "            data, target = data.float().to(device), target.to(device)\n",
    "            output = model(data)\n",
    "            test_loss += F.nll_loss(output, target, reduction='sum').item()  # sum up batch loss\n",
    "            pred = output.argmax(dim=1, keepdim=True)  # get the index of the max log-probability\n",
    "            correct += pred.eq(target.view_as(pred)).sum().item()\n",
    "    test_loss /= len(test_loader.dataset)\n",
    "\n",
    "    print('Test set: Average loss: {:.4f}, Accuracy: {}/{} ({:.2f}%)'.format(\n",
    "        test_loss, correct, len(test_loader.dataset),\n",
    "        100. * correct / len(test_loader.dataset)))"
   ]
  },
  {
   "cell_type": "code",
   "execution_count": 19,
   "metadata": {
    "application/vnd.databricks.v1+cell": {
     "cellMetadata": {
      "byteLimit": 2048000,
      "rowLimit": 10000
     },
     "inputWidgets": {},
     "nuid": "3e1ca229-d303-4c92-a6b5-d95cc9e63e44",
     "showTitle": false,
     "title": ""
    },
    "id": "MMWbLWO6FuHb"
   },
   "outputs": [
    {
     "name": "stdout",
     "output_type": "stream",
     "text": [
      "Epoch: 1\n"
     ]
    },
    {
     "name": "stderr",
     "output_type": "stream",
     "text": [
      "  0%|          | 0/938 [00:00<?, ?it/s]/var/folders/m2/x6hw0bg17hd2xt6rzl4jd04h0000gn/T/ipykernel_52471/2548857420.py:70: UserWarning: Implicit dimension choice for log_softmax has been deprecated. Change the call to include dim=X as an argument.\n",
      "  x = F.log_softmax(x)\n",
      "loss=0.19353020191192627 batch_id=937: 100%|██████████| 938/938 [00:42<00:00, 21.90it/s] \n"
     ]
    },
    {
     "name": "stdout",
     "output_type": "stream",
     "text": [
      "Train Accuracy: 86.73%\n",
      "Test set: Average loss: 0.1011, Accuracy: 9692/10000 (96.92%)\n",
      "Epoch: 2\n"
     ]
    },
    {
     "name": "stderr",
     "output_type": "stream",
     "text": [
      "loss=0.1569654494524002 batch_id=937: 100%|██████████| 938/938 [00:39<00:00, 23.52it/s]   \n"
     ]
    },
    {
     "name": "stdout",
     "output_type": "stream",
     "text": [
      "Train Accuracy: 97.57%\n",
      "Test set: Average loss: 0.0734, Accuracy: 9776/10000 (97.76%)\n",
      "Epoch: 3\n"
     ]
    },
    {
     "name": "stderr",
     "output_type": "stream",
     "text": [
      "loss=0.013985630124807358 batch_id=937: 100%|██████████| 938/938 [00:40<00:00, 23.43it/s] \n"
     ]
    },
    {
     "name": "stdout",
     "output_type": "stream",
     "text": [
      "Train Accuracy: 98.16%\n",
      "Test set: Average loss: 0.0632, Accuracy: 9809/10000 (98.09%)\n",
      "Epoch: 4\n"
     ]
    },
    {
     "name": "stderr",
     "output_type": "stream",
     "text": [
      "loss=0.065181665122509 batch_id=937: 100%|██████████| 938/938 [00:38<00:00, 24.17it/s]    \n"
     ]
    },
    {
     "name": "stdout",
     "output_type": "stream",
     "text": [
      "Train Accuracy: 98.42%\n",
      "Test set: Average loss: 0.0461, Accuracy: 9863/10000 (98.63%)\n",
      "Epoch: 5\n"
     ]
    },
    {
     "name": "stderr",
     "output_type": "stream",
     "text": [
      "loss=0.011533105745911598 batch_id=937: 100%|██████████| 938/938 [00:40<00:00, 22.90it/s] \n"
     ]
    },
    {
     "name": "stdout",
     "output_type": "stream",
     "text": [
      "Train Accuracy: 98.68%\n",
      "Test set: Average loss: 0.0474, Accuracy: 9858/10000 (98.58%)\n",
      "Epoch: 6\n"
     ]
    },
    {
     "name": "stderr",
     "output_type": "stream",
     "text": [
      "loss=0.002974932314828038 batch_id=937: 100%|██████████| 938/938 [00:41<00:00, 22.59it/s] \n"
     ]
    },
    {
     "name": "stdout",
     "output_type": "stream",
     "text": [
      "Train Accuracy: 98.78%\n",
      "Test set: Average loss: 0.0389, Accuracy: 9883/10000 (98.83%)\n",
      "Epoch: 7\n"
     ]
    },
    {
     "name": "stderr",
     "output_type": "stream",
     "text": [
      "loss=0.1122584268450737 batch_id=937: 100%|██████████| 938/938 [00:37<00:00, 24.98it/s]   \n"
     ]
    },
    {
     "name": "stdout",
     "output_type": "stream",
     "text": [
      "Train Accuracy: 98.87%\n",
      "Test set: Average loss: 0.0377, Accuracy: 9894/10000 (98.94%)\n",
      "Epoch: 8\n"
     ]
    },
    {
     "name": "stderr",
     "output_type": "stream",
     "text": [
      "loss=0.009942399337887764 batch_id=937: 100%|██████████| 938/938 [00:29<00:00, 31.77it/s] \n"
     ]
    },
    {
     "name": "stdout",
     "output_type": "stream",
     "text": [
      "Train Accuracy: 98.99%\n",
      "Test set: Average loss: 0.0431, Accuracy: 9871/10000 (98.71%)\n",
      "Epoch: 9\n"
     ]
    },
    {
     "name": "stderr",
     "output_type": "stream",
     "text": [
      "loss=0.0014708805829286575 batch_id=937: 100%|██████████| 938/938 [00:28<00:00, 32.67it/s]\n"
     ]
    },
    {
     "name": "stdout",
     "output_type": "stream",
     "text": [
      "Train Accuracy: 99.09%\n",
      "Test set: Average loss: 0.0303, Accuracy: 9911/10000 (99.11%)\n",
      "Epoch: 10\n"
     ]
    },
    {
     "name": "stderr",
     "output_type": "stream",
     "text": [
      "loss=0.0061427997425198555 batch_id=937: 100%|██████████| 938/938 [00:26<00:00, 35.26it/s] \n"
     ]
    },
    {
     "name": "stdout",
     "output_type": "stream",
     "text": [
      "Train Accuracy: 99.12%\n",
      "Test set: Average loss: 0.0333, Accuracy: 9888/10000 (98.88%)\n",
      "Epoch: 11\n"
     ]
    },
    {
     "name": "stderr",
     "output_type": "stream",
     "text": [
      "loss=0.0007875605369918048 batch_id=937: 100%|██████████| 938/938 [00:29<00:00, 32.03it/s] \n"
     ]
    },
    {
     "name": "stdout",
     "output_type": "stream",
     "text": [
      "Train Accuracy: 99.18%\n",
      "Test set: Average loss: 0.0368, Accuracy: 9885/10000 (98.85%)\n",
      "Epoch: 12\n"
     ]
    },
    {
     "name": "stderr",
     "output_type": "stream",
     "text": [
      "loss=0.11200827360153198 batch_id=937: 100%|██████████| 938/938 [00:29<00:00, 31.66it/s]   \n"
     ]
    },
    {
     "name": "stdout",
     "output_type": "stream",
     "text": [
      "Train Accuracy: 99.25%\n",
      "Test set: Average loss: 0.0409, Accuracy: 9881/10000 (98.81%)\n",
      "Epoch: 13\n"
     ]
    },
    {
     "name": "stderr",
     "output_type": "stream",
     "text": [
      "loss=0.04892423748970032 batch_id=937: 100%|██████████| 938/938 [00:26<00:00, 35.09it/s]   \n"
     ]
    },
    {
     "name": "stdout",
     "output_type": "stream",
     "text": [
      "Train Accuracy: 99.28%\n",
      "Test set: Average loss: 0.0342, Accuracy: 9902/10000 (99.02%)\n",
      "Epoch: 14\n"
     ]
    },
    {
     "name": "stderr",
     "output_type": "stream",
     "text": [
      "loss=0.22233207523822784 batch_id=937: 100%|██████████| 938/938 [00:29<00:00, 31.61it/s]   \n"
     ]
    },
    {
     "name": "stdout",
     "output_type": "stream",
     "text": [
      "Train Accuracy: 99.35%\n",
      "Test set: Average loss: 0.0340, Accuracy: 9896/10000 (98.96%)\n"
     ]
    }
   ],
   "source": [
    "\n",
    "model = Net().to(device)\n",
    "optimizer = optim.SGD(model.parameters(), lr=0.02, momentum=0.5)\n",
    "for epoch in range(1, 15):\n",
    "    print(f'Epoch: {epoch}')\n",
    "    train(model, device, train_loader, optimizer, epoch)\n",
    "    test(model, device, test_loader,epoch)\n"
   ]
  }
 ],
 "metadata": {
  "accelerator": "GPU",
  "application/vnd.databricks.v1+notebook": {
   "dashboards": [],
   "language": "python",
   "notebookMetadata": {
    "pythonIndentUnit": 2
   },
   "notebookName": "EVA4_Session_2",
   "widgets": {}
  },
  "colab": {
   "provenance": []
  },
  "kernelspec": {
   "display_name": "Python 3 (ipykernel)",
   "language": "python",
   "name": "python3"
  },
  "language_info": {
   "codemirror_mode": {
    "name": "ipython",
    "version": 3
   },
   "file_extension": ".py",
   "mimetype": "text/x-python",
   "name": "python",
   "nbconvert_exporter": "python",
   "pygments_lexer": "ipython3",
   "version": "3.11.3"
  }
 },
 "nbformat": 4,
 "nbformat_minor": 1
}
