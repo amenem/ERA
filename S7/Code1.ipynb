{
 "cells": [
  {
   "cell_type": "code",
   "execution_count": 64,
   "metadata": {
    "application/vnd.databricks.v1+cell": {
     "cellMetadata": {
      "byteLimit": 2048000,
      "rowLimit": 10000
     },
     "inputWidgets": {},
     "nuid": "a2758875-da9a-44fa-a5ae-bfb86be2ea1a",
     "showTitle": false,
     "title": ""
    }
   },
   "outputs": [],
   "source": [
    "# !pip install torchsummary"
   ]
  },
  {
   "cell_type": "code",
   "execution_count": 65,
   "metadata": {},
   "outputs": [
    {
     "data": {
      "text/plain": [
       "'\\nTarget : base model structure\\nResult : test: 99.02%, train 98.8\\nAnalysis: delayed training, very huge parameter\\n'"
      ]
     },
     "execution_count": 65,
     "metadata": {},
     "output_type": "execute_result"
    }
   ],
   "source": [
    "\"\"\"\n",
    "Target : Build deep model with many non linearities(ReLU layers) for base model structure\n",
    "Result : 104,400 params, test: 99.23%, train 99.35% at 14th\n",
    "Analysis:  very slow training \n",
    "\"\"\""
   ]
  },
  {
   "cell_type": "code",
   "execution_count": 66,
   "metadata": {
    "application/vnd.databricks.v1+cell": {
     "cellMetadata": {
      "byteLimit": 2048000,
      "rowLimit": 10000
     },
     "inputWidgets": {},
     "nuid": "f22a7a2d-b5cd-44ac-866e-d744d25a50ac",
     "showTitle": false,
     "title": ""
    },
    "id": "0m2JWFliFfKT"
   },
   "outputs": [],
   "source": [
    "from __future__ import print_function\n",
    "import torch\n",
    "import torch.nn as nn\n",
    "import torch.nn.functional as F\n",
    "import torch.optim as optim\n",
    "from torchvision import datasets, transforms\n",
    "import numpy as np\n",
    "from model import Model_1"
   ]
  },
  {
   "cell_type": "code",
   "execution_count": 68,
   "metadata": {
    "application/vnd.databricks.v1+cell": {
     "cellMetadata": {
      "byteLimit": 2048000,
      "rowLimit": 10000
     },
     "inputWidgets": {},
     "nuid": "61cf46f2-2647-48b2-a033-ba4629cb6638",
     "showTitle": false,
     "title": ""
    }
   },
   "outputs": [
    {
     "name": "stdout",
     "output_type": "stream",
     "text": [
      "----------------------------------------------------------------\n",
      "        Layer (type)               Output Shape         Param #\n",
      "================================================================\n",
      "            Conv2d-1           [-1, 16, 26, 26]             144\n",
      "              ReLU-2           [-1, 16, 26, 26]               0\n",
      "            Conv2d-3           [-1, 32, 24, 24]           4,608\n",
      "              ReLU-4           [-1, 32, 24, 24]               0\n",
      "            Conv2d-5           [-1, 64, 22, 22]          18,432\n",
      "              ReLU-6           [-1, 64, 22, 22]               0\n",
      "         MaxPool2d-7           [-1, 64, 11, 11]               0\n",
      "            Conv2d-8           [-1, 16, 11, 11]           9,216\n",
      "              ReLU-9           [-1, 16, 11, 11]               0\n",
      "           Conv2d-10           [-1, 32, 11, 11]           4,608\n",
      "             ReLU-11           [-1, 32, 11, 11]               0\n",
      "           Conv2d-12             [-1, 64, 9, 9]          18,432\n",
      "           Conv2d-13             [-1, 16, 9, 9]           9,216\n",
      "             ReLU-14             [-1, 16, 9, 9]               0\n",
      "           Conv2d-15             [-1, 32, 9, 9]           4,608\n",
      "             ReLU-16             [-1, 32, 9, 9]               0\n",
      "           Conv2d-17             [-1, 64, 7, 7]          18,432\n",
      "             ReLU-18             [-1, 64, 7, 7]               0\n",
      "        MaxPool2d-19             [-1, 64, 3, 3]               0\n",
      "           Conv2d-20             [-1, 16, 3, 3]           9,216\n",
      "             ReLU-21             [-1, 16, 3, 3]               0\n",
      "           Conv2d-22             [-1, 32, 3, 3]           4,608\n",
      "             ReLU-23             [-1, 32, 3, 3]               0\n",
      "           Conv2d-24             [-1, 10, 1, 1]           2,880\n",
      "================================================================\n",
      "Total params: 104,400\n",
      "Trainable params: 104,400\n",
      "Non-trainable params: 0\n",
      "----------------------------------------------------------------\n",
      "Input size (MB): 0.00\n",
      "Forward/backward pass size (MB): 1.22\n",
      "Params size (MB): 0.40\n",
      "Estimated Total Size (MB): 1.63\n",
      "----------------------------------------------------------------\n"
     ]
    },
    {
     "name": "stderr",
     "output_type": "stream",
     "text": [
      "/var/folders/m2/x6hw0bg17hd2xt6rzl4jd04h0000gn/T/ipykernel_50973/542158296.py:58: UserWarning: Implicit dimension choice for log_softmax has been deprecated. Change the call to include dim=X as an argument.\n",
      "  x = F.log_softmax(x)\n"
     ]
    }
   ],
   "source": [
    "from torchsummary import summary\n",
    "use_cuda = torch.cuda.is_available()\n",
    "device = torch.device(\"cuda\" if use_cuda else \"cpu\")\n",
    "model = Model_1().to(device)\n",
    "summary(model, input_size=(1, 28, 28))"
   ]
  },
  {
   "cell_type": "code",
   "execution_count": 69,
   "metadata": {
    "application/vnd.databricks.v1+cell": {
     "cellMetadata": {
      "byteLimit": 2048000,
      "rowLimit": 10000
     },
     "inputWidgets": {},
     "nuid": "7df9ea1f-7289-4da8-a547-c9bae9a8ff6d",
     "showTitle": false,
     "title": ""
    },
    "id": "DqTWLaM5GHgH"
   },
   "outputs": [],
   "source": [
    "torch.manual_seed(1)\n",
    "batch_size = 64\n",
    "\n",
    "kwargs = {'num_workers': 7, 'pin_memory': True} if use_cuda else {}\n",
    "train_loader = torch.utils.data.DataLoader(\n",
    "    datasets.MNIST('../data', train=True, download=True,\n",
    "    transform=transforms.Compose([\n",
    "                        transforms.ToTensor(),\n",
    "                        transforms.Normalize((0.1307,), (0.3081,))\n",
    "                    ])),\n",
    "    batch_size=batch_size, shuffle=True, **kwargs)\n",
    "test_loader = torch.utils.data.DataLoader(\n",
    "    datasets.MNIST('../data', train=False, transform=transforms.Compose([\n",
    "    transforms.ToTensor(),\n",
    "    transforms.Normalize((0.1307,), (0.3081,))])),\n",
    "    batch_size=batch_size, shuffle=True, **kwargs)\n"
   ]
  },
  {
   "cell_type": "code",
   "execution_count": 70,
   "metadata": {
    "application/vnd.databricks.v1+cell": {
     "cellMetadata": {
      "byteLimit": 2048000,
      "rowLimit": 10000
     },
     "inputWidgets": {},
     "nuid": "7f00abad-08e9-455a-aa84-78bd29fcb332",
     "showTitle": false,
     "title": ""
    },
    "id": "8fDefDhaFlwH"
   },
   "outputs": [],
   "source": [
    "from tqdm import tqdm\n",
    "def train(model, device, train_loader, optimizer, epoch):\n",
    "    model.train()\n",
    "    pbar = tqdm(train_loader)\n",
    "    correct=0\n",
    "    for batch_idx, (data, target) in enumerate(pbar):\n",
    "        data, target = data.float().to(device), target.to(device)\n",
    "        optimizer.zero_grad()\n",
    "        output = model(data)\n",
    "        loss = F.nll_loss(output, target)\n",
    "        loss.backward()\n",
    "        optimizer.step()\n",
    "        pbar.set_description(desc= f'loss={loss.item()} batch_id={batch_idx}')\n",
    "        pred = output.argmax(dim=1)\n",
    "        correct+=pred.eq(target).sum().item()\n",
    "    acc = 100*correct/len(train_loader.dataset)\n",
    "    print(f'Train Accuracy: {acc:.2f}%')\n",
    "        \n",
    "def test(model, device, test_loader,epoch):\n",
    "    model.eval()\n",
    "    test_loss = 0\n",
    "    correct = 0\n",
    "    with torch.no_grad():\n",
    "        for _,(data, target) in enumerate(test_loader):\n",
    "            data, target = data.float().to(device), target.to(device)\n",
    "            output = model(data)\n",
    "            test_loss += F.nll_loss(output, target, reduction='sum').item()  # sum up batch loss\n",
    "            pred = output.argmax(dim=1, keepdim=True)  # get the index of the max log-probability\n",
    "            correct += pred.eq(target.view_as(pred)).sum().item()\n",
    "    test_loss /= len(test_loader.dataset)\n",
    "\n",
    "    print('Test set: Average loss: {:.4f}, Accuracy: {}/{} ({:.2f}%)'.format(\n",
    "        test_loss, correct, len(test_loader.dataset),\n",
    "        100. * correct / len(test_loader.dataset)))"
   ]
  },
  {
   "cell_type": "code",
   "execution_count": 72,
   "metadata": {
    "application/vnd.databricks.v1+cell": {
     "cellMetadata": {
      "byteLimit": 2048000,
      "rowLimit": 10000
     },
     "inputWidgets": {},
     "nuid": "3e1ca229-d303-4c92-a6b5-d95cc9e63e44",
     "showTitle": false,
     "title": ""
    },
    "id": "MMWbLWO6FuHb"
   },
   "outputs": [
    {
     "name": "stdout",
     "output_type": "stream",
     "text": [
      "Epoch: 1\n"
     ]
    },
    {
     "name": "stderr",
     "output_type": "stream",
     "text": [
      "  0%|          | 0/938 [00:00<?, ?it/s]/var/folders/m2/x6hw0bg17hd2xt6rzl4jd04h0000gn/T/ipykernel_50973/542158296.py:58: UserWarning: Implicit dimension choice for log_softmax has been deprecated. Change the call to include dim=X as an argument.\n",
      "  x = F.log_softmax(x)\n",
      "loss=2.302572727203369 batch_id=937: 100%|██████████| 938/938 [01:09<00:00, 13.45it/s] \n"
     ]
    },
    {
     "name": "stdout",
     "output_type": "stream",
     "text": [
      "Train Accuracy: 11.68%\n",
      "Test set: Average loss: 2.3026, Accuracy: 1311/10000 (13.11%)\n",
      "Epoch: 2\n"
     ]
    },
    {
     "name": "stderr",
     "output_type": "stream",
     "text": [
      "loss=2.302574634552002 batch_id=937: 100%|██████████| 938/938 [01:07<00:00, 13.80it/s] \n"
     ]
    },
    {
     "name": "stdout",
     "output_type": "stream",
     "text": [
      "Train Accuracy: 14.56%\n",
      "Test set: Average loss: 2.3026, Accuracy: 1498/10000 (14.98%)\n",
      "Epoch: 3\n"
     ]
    },
    {
     "name": "stderr",
     "output_type": "stream",
     "text": [
      "loss=2.302579879760742 batch_id=937: 100%|██████████| 938/938 [01:08<00:00, 13.63it/s] \n"
     ]
    },
    {
     "name": "stdout",
     "output_type": "stream",
     "text": [
      "Train Accuracy: 15.49%\n",
      "Test set: Average loss: 2.3026, Accuracy: 1566/10000 (15.66%)\n",
      "Epoch: 4\n"
     ]
    },
    {
     "name": "stderr",
     "output_type": "stream",
     "text": [
      "loss=2.3025219440460205 batch_id=937: 100%|██████████| 938/938 [01:11<00:00, 13.20it/s]\n"
     ]
    },
    {
     "name": "stdout",
     "output_type": "stream",
     "text": [
      "Train Accuracy: 17.13%\n",
      "Test set: Average loss: 2.3025, Accuracy: 1967/10000 (19.67%)\n",
      "Epoch: 5\n"
     ]
    },
    {
     "name": "stderr",
     "output_type": "stream",
     "text": [
      "loss=1.7880326509475708 batch_id=937: 100%|██████████| 938/938 [01:08<00:00, 13.65it/s]\n"
     ]
    },
    {
     "name": "stdout",
     "output_type": "stream",
     "text": [
      "Train Accuracy: 23.52%\n",
      "Test set: Average loss: 1.9645, Accuracy: 2478/10000 (24.78%)\n",
      "Epoch: 6\n"
     ]
    },
    {
     "name": "stderr",
     "output_type": "stream",
     "text": [
      "loss=0.11238513141870499 batch_id=937: 100%|██████████| 938/938 [01:11<00:00, 13.04it/s]  \n"
     ]
    },
    {
     "name": "stdout",
     "output_type": "stream",
     "text": [
      "Train Accuracy: 90.14%\n",
      "Test set: Average loss: 0.0879, Accuracy: 9718/10000 (97.18%)\n",
      "Epoch: 7\n"
     ]
    },
    {
     "name": "stderr",
     "output_type": "stream",
     "text": [
      "loss=0.04980507493019104 batch_id=937: 100%|██████████| 938/938 [01:10<00:00, 13.30it/s]  \n"
     ]
    },
    {
     "name": "stdout",
     "output_type": "stream",
     "text": [
      "Train Accuracy: 97.56%\n",
      "Test set: Average loss: 0.0539, Accuracy: 9834/10000 (98.34%)\n",
      "Epoch: 8\n"
     ]
    },
    {
     "name": "stderr",
     "output_type": "stream",
     "text": [
      "loss=0.016154974699020386 batch_id=937: 100%|██████████| 938/938 [01:10<00:00, 13.28it/s]  \n"
     ]
    },
    {
     "name": "stdout",
     "output_type": "stream",
     "text": [
      "Train Accuracy: 98.20%\n",
      "Test set: Average loss: 0.0547, Accuracy: 9829/10000 (98.29%)\n",
      "Epoch: 9\n"
     ]
    },
    {
     "name": "stderr",
     "output_type": "stream",
     "text": [
      "loss=0.0024519821163266897 batch_id=937: 100%|██████████| 938/938 [01:12<00:00, 12.94it/s] \n"
     ]
    },
    {
     "name": "stdout",
     "output_type": "stream",
     "text": [
      "Train Accuracy: 98.57%\n",
      "Test set: Average loss: 0.0440, Accuracy: 9870/10000 (98.70%)\n",
      "Epoch: 10\n"
     ]
    },
    {
     "name": "stderr",
     "output_type": "stream",
     "text": [
      "loss=0.00197728187777102 batch_id=937: 100%|██████████| 938/938 [01:08<00:00, 13.78it/s]   \n"
     ]
    },
    {
     "name": "stdout",
     "output_type": "stream",
     "text": [
      "Train Accuracy: 98.87%\n",
      "Test set: Average loss: 0.0387, Accuracy: 9893/10000 (98.93%)\n",
      "Epoch: 11\n"
     ]
    },
    {
     "name": "stderr",
     "output_type": "stream",
     "text": [
      "loss=9.860090358415619e-05 batch_id=937: 100%|██████████| 938/938 [01:05<00:00, 14.41it/s] \n"
     ]
    },
    {
     "name": "stdout",
     "output_type": "stream",
     "text": [
      "Train Accuracy: 98.96%\n",
      "Test set: Average loss: 0.0371, Accuracy: 9895/10000 (98.95%)\n",
      "Epoch: 12\n"
     ]
    },
    {
     "name": "stderr",
     "output_type": "stream",
     "text": [
      "loss=0.011601950041949749 batch_id=937: 100%|██████████| 938/938 [01:02<00:00, 14.97it/s]  \n"
     ]
    },
    {
     "name": "stdout",
     "output_type": "stream",
     "text": [
      "Train Accuracy: 99.08%\n",
      "Test set: Average loss: 0.0818, Accuracy: 9772/10000 (97.72%)\n",
      "Epoch: 13\n"
     ]
    },
    {
     "name": "stderr",
     "output_type": "stream",
     "text": [
      "loss=0.03821629658341408 batch_id=937: 100%|██████████| 938/938 [01:02<00:00, 15.09it/s]   \n"
     ]
    },
    {
     "name": "stdout",
     "output_type": "stream",
     "text": [
      "Train Accuracy: 99.14%\n",
      "Test set: Average loss: 0.0357, Accuracy: 9894/10000 (98.94%)\n",
      "Epoch: 14\n"
     ]
    },
    {
     "name": "stderr",
     "output_type": "stream",
     "text": [
      "loss=0.07509544491767883 batch_id=937: 100%|██████████| 938/938 [01:00<00:00, 15.60it/s]   \n"
     ]
    },
    {
     "name": "stdout",
     "output_type": "stream",
     "text": [
      "Train Accuracy: 99.28%\n",
      "Test set: Average loss: 0.0294, Accuracy: 9907/10000 (99.07%)\n"
     ]
    }
   ],
   "source": [
    "\n",
    "model = Net().to(device)\n",
    "optimizer = optim.SGD(model.parameters(), lr=0.01, momentum=0.9)\n",
    "for epoch in range(1, 15):\n",
    "    print(f'Epoch: {epoch}')\n",
    "    train(model, device, train_loader, optimizer, epoch)\n",
    "    test(model, device, test_loader,epoch)\n"
   ]
  }
 ],
 "metadata": {
  "accelerator": "GPU",
  "application/vnd.databricks.v1+notebook": {
   "dashboards": [],
   "language": "python",
   "notebookMetadata": {
    "pythonIndentUnit": 2
   },
   "notebookName": "EVA4_Session_2",
   "widgets": {}
  },
  "colab": {
   "provenance": []
  },
  "kernelspec": {
   "display_name": "Python 3 (ipykernel)",
   "language": "python",
   "name": "python3"
  },
  "language_info": {
   "codemirror_mode": {
    "name": "ipython",
    "version": 3
   },
   "file_extension": ".py",
   "mimetype": "text/x-python",
   "name": "python",
   "nbconvert_exporter": "python",
   "pygments_lexer": "ipython3",
   "version": "3.11.3"
  }
 },
 "nbformat": 4,
 "nbformat_minor": 1
}
