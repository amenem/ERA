{
 "cells": [
  {
   "cell_type": "code",
   "execution_count": 1,
   "metadata": {},
   "outputs": [],
   "source": [
    "from model.model1 import Net\n",
    "from build_dataloader import get_train_loader, get_test_loader\n",
    "from trainer import train, test\n",
    "import torch\n",
    "from torch.optim import SGD"
   ]
  },
  {
   "cell_type": "code",
   "execution_count": 2,
   "metadata": {},
   "outputs": [
    {
     "name": "stdout",
     "output_type": "stream",
     "text": [
      "Files already downloaded and verified\n",
      "Files already downloaded and verified\n"
     ]
    }
   ],
   "source": [
    "\n",
    "BatchSize=128\n",
    "train_loader = get_train_loader(data_dir='./dataCIFAR10/train',\n",
    "                                train=True,\n",
    "                                download=True,\n",
    "                                batch_size=BatchSize,\n",
    "                                shuffle=True)\n",
    "\n",
    "test_loader = get_test_loader(data_dir='./dataCIFAR10/test',\n",
    "                                train=False,\n",
    "                                download=True,\n",
    "                                batch_size=BatchSize,\n",
    "                                shuffle=True)\n"
   ]
  },
  {
   "cell_type": "code",
   "execution_count": 3,
   "metadata": {},
   "outputs": [
    {
     "name": "stdout",
     "output_type": "stream",
     "text": [
      "----------------------------------------------------------------\n",
      "        Layer (type)               Output Shape         Param #\n",
      "================================================================\n",
      "            Conv2d-1           [-1, 64, 32, 32]           1,792\n",
      "              ReLU-2           [-1, 64, 32, 32]               0\n",
      "       BatchNorm2d-3           [-1, 64, 32, 32]             128\n",
      "            Conv2d-4          [-1, 128, 32, 32]          73,856\n",
      "              ReLU-5          [-1, 128, 32, 32]               0\n",
      "       BatchNorm2d-6          [-1, 128, 32, 32]             256\n",
      "            Conv2d-7          [-1, 128, 32, 32]         147,584\n",
      "              ReLU-8          [-1, 128, 32, 32]               0\n",
      "       BatchNorm2d-9          [-1, 128, 32, 32]             256\n",
      "           Conv2d-10          [-1, 256, 16, 16]         295,168\n",
      "             ReLU-11          [-1, 256, 16, 16]               0\n",
      "      BatchNorm2d-12          [-1, 256, 16, 16]             512\n",
      "           Conv2d-13          [-1, 256, 16, 16]         590,080\n",
      "             ReLU-14          [-1, 256, 16, 16]               0\n",
      "      BatchNorm2d-15          [-1, 256, 16, 16]             512\n",
      "           Conv2d-16          [-1, 256, 16, 16]         590,080\n",
      "             ReLU-17          [-1, 256, 16, 16]               0\n",
      "      BatchNorm2d-18          [-1, 256, 16, 16]             512\n",
      "           Conv2d-19          [-1, 512, 16, 16]       1,180,160\n",
      "             ReLU-20          [-1, 512, 16, 16]               0\n",
      "      BatchNorm2d-21          [-1, 512, 16, 16]           1,024\n",
      "           Conv2d-22            [-1, 512, 8, 8]       2,359,808\n",
      "             ReLU-23            [-1, 512, 8, 8]               0\n",
      "      BatchNorm2d-24            [-1, 512, 8, 8]           1,024\n",
      "           Conv2d-25           [-1, 1024, 8, 8]       4,719,616\n",
      "             ReLU-26           [-1, 1024, 8, 8]               0\n",
      "      BatchNorm2d-27           [-1, 1024, 8, 8]           2,048\n",
      "           Conv2d-28           [-1, 1024, 8, 8]       9,438,208\n",
      "             ReLU-29           [-1, 1024, 8, 8]               0\n",
      "      BatchNorm2d-30           [-1, 1024, 8, 8]           2,048\n",
      "           Conv2d-31           [-1, 2048, 8, 8]      18,876,416\n",
      "        AvgPool2d-32           [-1, 2048, 1, 1]               0\n",
      "           Linear-33                   [-1, 10]          20,490\n",
      "================================================================\n",
      "Total params: 38,301,578\n",
      "Trainable params: 38,301,578\n",
      "Non-trainable params: 0\n",
      "----------------------------------------------------------------\n",
      "Input size (MB): 0.01\n",
      "Forward/backward pass size (MB): 19.77\n",
      "Params size (MB): 146.11\n",
      "Estimated Total Size (MB): 165.89\n",
      "----------------------------------------------------------------\n"
     ]
    }
   ],
   "source": [
    "model = Net()\n",
    "device = 'cuda' if torch.cuda.is_available() else 'cpu'\n",
    "from torchsummary import summary\n",
    "summary(model,input_size=(3,32,32))\n"
   ]
  },
  {
   "cell_type": "code",
   "execution_count": 4,
   "metadata": {},
   "outputs": [
    {
     "name": "stderr",
     "output_type": "stream",
     "text": [
      " 26%|██▌       | 100/391 [22:25<13:59:04, 173.01s/it]"
     ]
    }
   ],
   "source": [
    "optimizer = SGD(params = model.parameters(), lr=0.01, momentum=0.9)\n",
    "epochs = 30\n",
    "for e in range(epochs):\n",
    "    train(model=model, device=device,optimizer=optimizer, train_loader=train_loader,epoch=e)\n",
    "    test(model=model, device=device,test_loader=test_loader,epoch=e)"
   ]
  },
  {
   "cell_type": "code",
   "execution_count": null,
   "metadata": {},
   "outputs": [],
   "source": []
  }
 ],
 "metadata": {
  "kernelspec": {
   "display_name": "env-era",
   "language": "python",
   "name": "python3"
  },
  "language_info": {
   "codemirror_mode": {
    "name": "ipython",
    "version": 3
   },
   "file_extension": ".py",
   "mimetype": "text/x-python",
   "name": "python",
   "nbconvert_exporter": "python",
   "pygments_lexer": "ipython3",
   "version": "3.11.3"
  },
  "orig_nbformat": 4
 },
 "nbformat": 4,
 "nbformat_minor": 2
}
