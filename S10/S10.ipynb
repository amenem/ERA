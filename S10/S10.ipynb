{
 "cells": [
  {
   "cell_type": "code",
   "execution_count": 1,
   "metadata": {},
   "outputs": [
    {
     "name": "stderr",
     "output_type": "stream",
     "text": [
      "/Users/raginipandey/anaconda3/envs/myenv/lib/python3.9/site-packages/albumentations/augmentations/dropout/cutout.py:49: FutureWarning: Cutout has been deprecated. Please use CoarseDropout\n",
      "  warnings.warn(\n"
     ]
    }
   ],
   "source": [
    "import torch\n",
    "from build_dataloader import get_train_loader, get_test_loader\n",
    "from custom_resnet import CustomRes\n",
    "from torchsummary import summary\n",
    "from trainer import train, test\n",
    "from torch.optim import SGD,Adam"
   ]
  },
  {
   "cell_type": "code",
   "execution_count": 2,
   "metadata": {},
   "outputs": [
    {
     "name": "stdout",
     "output_type": "stream",
     "text": [
      "Files already downloaded and verified\n",
      "Files already downloaded and verified\n"
     ]
    }
   ],
   "source": [
    "BATCHSIZE=512\n",
    "train_dataloader = get_train_loader(data_dir='./data', \n",
    "                                    train=True,\n",
    "                                    download=True,\n",
    "                                    shuffle=True,\n",
    "                                    batch_size=BATCHSIZE\n",
    "                                    )\n",
    "\n",
    "test_dataloader = get_test_loader(data_dir='./data', \n",
    "                                    train=False,\n",
    "                                    download=True,\n",
    "                                    shuffle=True,\n",
    "                                    batch_size=BATCHSIZE\n",
    "                                    )"
   ]
  },
  {
   "cell_type": "code",
   "execution_count": 3,
   "metadata": {},
   "outputs": [
    {
     "name": "stdout",
     "output_type": "stream",
     "text": [
      "----------------------------------------------------------------\n",
      "        Layer (type)               Output Shape         Param #\n",
      "================================================================\n",
      "            Conv2d-1           [-1, 64, 32, 32]           1,728\n",
      "       BatchNorm2d-2           [-1, 64, 32, 32]             128\n",
      "              ReLU-3           [-1, 64, 32, 32]               0\n",
      "            Conv2d-4          [-1, 128, 32, 32]          73,728\n",
      "         MaxPool2d-5          [-1, 128, 16, 16]               0\n",
      "       BatchNorm2d-6          [-1, 128, 16, 16]             256\n",
      "              ReLU-7          [-1, 128, 16, 16]               0\n",
      "            Conv2d-8          [-1, 128, 16, 16]         147,456\n",
      "       BatchNorm2d-9          [-1, 128, 16, 16]             256\n",
      "             ReLU-10          [-1, 128, 16, 16]               0\n",
      "           Conv2d-11          [-1, 128, 16, 16]         147,456\n",
      "      BatchNorm2d-12          [-1, 128, 16, 16]             256\n",
      "             ReLU-13          [-1, 128, 16, 16]               0\n",
      "           Conv2d-14          [-1, 256, 16, 16]         294,912\n",
      "        MaxPool2d-15            [-1, 256, 8, 8]               0\n",
      "      BatchNorm2d-16            [-1, 256, 8, 8]             512\n",
      "             ReLU-17            [-1, 256, 8, 8]               0\n",
      "           Conv2d-18            [-1, 512, 8, 8]       1,179,648\n",
      "        MaxPool2d-19            [-1, 512, 4, 4]               0\n",
      "      BatchNorm2d-20            [-1, 512, 4, 4]           1,024\n",
      "             ReLU-21            [-1, 512, 4, 4]               0\n",
      "           Conv2d-22            [-1, 512, 4, 4]       2,359,296\n",
      "      BatchNorm2d-23            [-1, 512, 4, 4]           1,024\n",
      "             ReLU-24            [-1, 512, 4, 4]               0\n",
      "           Conv2d-25            [-1, 512, 4, 4]       2,359,296\n",
      "      BatchNorm2d-26            [-1, 512, 4, 4]           1,024\n",
      "             ReLU-27            [-1, 512, 4, 4]               0\n",
      "        MaxPool2d-28            [-1, 512, 1, 1]               0\n",
      "           Linear-29                   [-1, 10]           5,130\n",
      "================================================================\n",
      "Total params: 6,573,130\n",
      "Trainable params: 6,573,130\n",
      "Non-trainable params: 0\n",
      "----------------------------------------------------------------\n",
      "Input size (MB): 0.01\n",
      "Forward/backward pass size (MB): 6.44\n",
      "Params size (MB): 25.07\n",
      "Estimated Total Size (MB): 31.53\n",
      "----------------------------------------------------------------\n"
     ]
    }
   ],
   "source": [
    "model = CustomRes()\n",
    "summary(model, input_size=(3,32,32))"
   ]
  },
  {
   "cell_type": "code",
   "execution_count": 4,
   "metadata": {},
   "outputs": [
    {
     "name": "stderr",
     "output_type": "stream",
     "text": [
      "  0%|          | 0/98 [00:00<?, ?it/s]"
     ]
    },
    {
     "name": "stderr",
     "output_type": "stream",
     "text": [
      "100%|██████████| 98/98 [00:35<00:00,  2.73it/s]\n"
     ]
    },
    {
     "name": "stdout",
     "output_type": "stream",
     "text": [
      "at epoch:0\n",
      "avg_train_loss:5.27923583984375,avg_train_acc:0.10934937745332718\n",
      "avg_test_loss:2.2681596279144287,avg_test_acc:0.13816635310649872\n"
     ]
    },
    {
     "name": "stderr",
     "output_type": "stream",
     "text": [
      "100%|██████████| 98/98 [00:36<00:00,  2.70it/s]\n"
     ]
    },
    {
     "name": "stdout",
     "output_type": "stream",
     "text": [
      "at epoch:1\n",
      "avg_train_loss:2.2255356311798096,avg_train_acc:0.169527068734169\n",
      "avg_test_loss:2.1122851371765137,avg_test_acc:0.2304457724094391\n"
     ]
    },
    {
     "name": "stderr",
     "output_type": "stream",
     "text": [
      "100%|██████████| 98/98 [00:37<00:00,  2.64it/s]\n"
     ]
    },
    {
     "name": "stdout",
     "output_type": "stream",
     "text": [
      "at epoch:2\n",
      "avg_train_loss:1.9440301656723022,avg_train_acc:0.2756582498550415\n",
      "avg_test_loss:1.770501732826233,avg_test_acc:0.35594552755355835\n"
     ]
    },
    {
     "name": "stderr",
     "output_type": "stream",
     "text": [
      "100%|██████████| 98/98 [00:35<00:00,  2.75it/s]\n"
     ]
    },
    {
     "name": "stdout",
     "output_type": "stream",
     "text": [
      "at epoch:3\n",
      "avg_train_loss:1.6635478734970093,avg_train_acc:0.3778148591518402\n",
      "avg_test_loss:1.5333819389343262,avg_test_acc:0.4305779039859772\n"
     ]
    },
    {
     "name": "stderr",
     "output_type": "stream",
     "text": [
      "100%|██████████| 98/98 [00:35<00:00,  2.76it/s]\n"
     ]
    },
    {
     "name": "stdout",
     "output_type": "stream",
     "text": [
      "at epoch:4\n",
      "avg_train_loss:1.492897868156433,avg_train_acc:0.44374656677246094\n",
      "avg_test_loss:1.4401286840438843,avg_test_acc:0.4770967364311218\n"
     ]
    },
    {
     "name": "stderr",
     "output_type": "stream",
     "text": [
      "100%|██████████| 98/98 [00:34<00:00,  2.80it/s]\n"
     ]
    },
    {
     "name": "stdout",
     "output_type": "stream",
     "text": [
      "at epoch:5\n",
      "avg_train_loss:1.354543685913086,avg_train_acc:0.5019920468330383\n",
      "avg_test_loss:1.3571147918701172,avg_test_acc:0.5184684991836548\n"
     ]
    },
    {
     "name": "stderr",
     "output_type": "stream",
     "text": [
      "100%|██████████| 98/98 [00:34<00:00,  2.80it/s]\n"
     ]
    },
    {
     "name": "stdout",
     "output_type": "stream",
     "text": [
      "at epoch:6\n",
      "avg_train_loss:1.2249566316604614,avg_train_acc:0.5515613555908203\n",
      "avg_test_loss:1.1662510633468628,avg_test_acc:0.5744600296020508\n"
     ]
    },
    {
     "name": "stderr",
     "output_type": "stream",
     "text": [
      "100%|██████████| 98/98 [00:34<00:00,  2.80it/s]\n"
     ]
    },
    {
     "name": "stdout",
     "output_type": "stream",
     "text": [
      "at epoch:7\n",
      "avg_train_loss:1.106432557106018,avg_train_acc:0.5985236763954163\n",
      "avg_test_loss:1.133283019065857,avg_test_acc:0.5991842746734619\n"
     ]
    },
    {
     "name": "stderr",
     "output_type": "stream",
     "text": [
      "100%|██████████| 98/98 [00:34<00:00,  2.80it/s]\n"
     ]
    },
    {
     "name": "stdout",
     "output_type": "stream",
     "text": [
      "at epoch:8\n",
      "avg_train_loss:1.0333071947097778,avg_train_acc:0.6295164823532104\n",
      "avg_test_loss:1.187097191810608,avg_test_acc:0.5917681455612183\n"
     ]
    },
    {
     "name": "stderr",
     "output_type": "stream",
     "text": [
      "100%|██████████| 98/98 [00:34<00:00,  2.80it/s]\n"
     ]
    },
    {
     "name": "stdout",
     "output_type": "stream",
     "text": [
      "at epoch:9\n",
      "avg_train_loss:0.9697486162185669,avg_train_acc:0.651808500289917\n",
      "avg_test_loss:0.9971210360527039,avg_test_acc:0.6592945456504822\n"
     ]
    },
    {
     "name": "stderr",
     "output_type": "stream",
     "text": [
      "100%|██████████| 98/98 [00:34<00:00,  2.80it/s]\n"
     ]
    },
    {
     "name": "stdout",
     "output_type": "stream",
     "text": [
      "at epoch:10\n",
      "avg_train_loss:0.9231305718421936,avg_train_acc:0.6706497669219971\n",
      "avg_test_loss:0.9454984664916992,avg_test_acc:0.6656996607780457\n"
     ]
    },
    {
     "name": "stderr",
     "output_type": "stream",
     "text": [
      "100%|██████████| 98/98 [00:34<00:00,  2.80it/s]\n"
     ]
    },
    {
     "name": "stdout",
     "output_type": "stream",
     "text": [
      "at epoch:11\n",
      "avg_train_loss:0.8400786519050598,avg_train_acc:0.7021104693412781\n",
      "avg_test_loss:1.068008303642273,avg_test_acc:0.6374598145484924\n"
     ]
    },
    {
     "name": "stderr",
     "output_type": "stream",
     "text": [
      "100%|██████████| 98/98 [00:34<00:00,  2.80it/s]\n"
     ]
    },
    {
     "name": "stdout",
     "output_type": "stream",
     "text": [
      "at epoch:12\n",
      "avg_train_loss:0.8055101633071899,avg_train_acc:0.7127026915550232\n",
      "avg_test_loss:0.9722968935966492,avg_test_acc:0.6739314794540405\n"
     ]
    },
    {
     "name": "stderr",
     "output_type": "stream",
     "text": [
      "100%|██████████| 98/98 [00:34<00:00,  2.80it/s]\n"
     ]
    },
    {
     "name": "stdout",
     "output_type": "stream",
     "text": [
      "at epoch:13\n",
      "avg_train_loss:0.752203643321991,avg_train_acc:0.7331735491752625\n",
      "avg_test_loss:0.9576514363288879,avg_test_acc:0.6878849267959595\n"
     ]
    },
    {
     "name": "stderr",
     "output_type": "stream",
     "text": [
      "100%|██████████| 98/98 [00:34<00:00,  2.80it/s]\n"
     ]
    },
    {
     "name": "stdout",
     "output_type": "stream",
     "text": [
      "at epoch:14\n",
      "avg_train_loss:0.7318170666694641,avg_train_acc:0.7407383322715759\n",
      "avg_test_loss:0.8290834426879883,avg_test_acc:0.7209041714668274\n"
     ]
    },
    {
     "name": "stderr",
     "output_type": "stream",
     "text": [
      "100%|██████████| 98/98 [00:34<00:00,  2.80it/s]\n"
     ]
    },
    {
     "name": "stdout",
     "output_type": "stream",
     "text": [
      "at epoch:15\n",
      "avg_train_loss:0.6779348254203796,avg_train_acc:0.758741557598114\n",
      "avg_test_loss:0.8448203802108765,avg_test_acc:0.7326516509056091\n"
     ]
    },
    {
     "name": "stderr",
     "output_type": "stream",
     "text": [
      "100%|██████████| 98/98 [00:34<00:00,  2.80it/s]\n"
     ]
    },
    {
     "name": "stdout",
     "output_type": "stream",
     "text": [
      "at epoch:16\n",
      "avg_train_loss:0.6558893918991089,avg_train_acc:0.7665066719055176\n",
      "avg_test_loss:0.963874340057373,avg_test_acc:0.6988396048545837\n"
     ]
    },
    {
     "name": "stderr",
     "output_type": "stream",
     "text": [
      "100%|██████████| 98/98 [00:34<00:00,  2.81it/s]\n"
     ]
    },
    {
     "name": "stdout",
     "output_type": "stream",
     "text": [
      "at epoch:17\n",
      "avg_train_loss:0.6113550066947937,avg_train_acc:0.7818639874458313\n",
      "avg_test_loss:0.8964390754699707,avg_test_acc:0.719531238079071\n"
     ]
    },
    {
     "name": "stderr",
     "output_type": "stream",
     "text": [
      "100%|██████████| 98/98 [00:34<00:00,  2.80it/s]\n"
     ]
    },
    {
     "name": "stdout",
     "output_type": "stream",
     "text": [
      "at epoch:18\n",
      "avg_train_loss:0.5948212146759033,avg_train_acc:0.7899441719055176\n",
      "avg_test_loss:0.9438015222549438,avg_test_acc:0.7039867043495178\n"
     ]
    },
    {
     "name": "stderr",
     "output_type": "stream",
     "text": [
      "100%|██████████| 98/98 [00:34<00:00,  2.80it/s]\n"
     ]
    },
    {
     "name": "stdout",
     "output_type": "stream",
     "text": [
      "at epoch:19\n",
      "avg_train_loss:0.5634287595748901,avg_train_acc:0.800270676612854\n",
      "avg_test_loss:0.7810538411140442,avg_test_acc:0.7520564794540405\n"
     ]
    },
    {
     "name": "stderr",
     "output_type": "stream",
     "text": [
      "100%|██████████| 98/98 [00:34<00:00,  2.80it/s]\n"
     ]
    },
    {
     "name": "stdout",
     "output_type": "stream",
     "text": [
      "at epoch:20\n",
      "avg_train_loss:0.5393635034561157,avg_train_acc:0.8086174726486206\n",
      "avg_test_loss:0.943695068359375,avg_test_acc:0.7237534523010254\n"
     ]
    },
    {
     "name": "stderr",
     "output_type": "stream",
     "text": [
      "100%|██████████| 98/98 [01:51<00:00,  1.14s/it]\n"
     ]
    },
    {
     "name": "stdout",
     "output_type": "stream",
     "text": [
      "at epoch:21\n",
      "avg_train_loss:0.5319117307662964,avg_train_acc:0.809796154499054\n",
      "avg_test_loss:0.7502131462097168,avg_test_acc:0.7597311735153198\n"
     ]
    },
    {
     "name": "stderr",
     "output_type": "stream",
     "text": [
      "100%|██████████| 98/98 [00:35<00:00,  2.79it/s]\n"
     ]
    },
    {
     "name": "stdout",
     "output_type": "stream",
     "text": [
      "at epoch:22\n",
      "avg_train_loss:0.47743457555770874,avg_train_acc:0.8311942219734192\n",
      "avg_test_loss:0.7647943496704102,avg_test_acc:0.7671070694923401\n"
     ]
    },
    {
     "name": "stderr",
     "output_type": "stream",
     "text": [
      "100%|██████████| 98/98 [00:35<00:00,  2.78it/s]\n"
     ]
    },
    {
     "name": "stdout",
     "output_type": "stream",
     "text": [
      "at epoch:23\n",
      "avg_train_loss:0.4614332914352417,avg_train_acc:0.8370820879936218\n",
      "avg_test_loss:0.8267273902893066,avg_test_acc:0.7578182220458984\n"
     ]
    },
    {
     "name": "stderr",
     "output_type": "stream",
     "text": [
      "100%|██████████| 98/98 [00:35<00:00,  2.73it/s]\n"
     ]
    },
    {
     "name": "stdout",
     "output_type": "stream",
     "text": [
      "at epoch:24\n",
      "avg_train_loss:0.4452742636203766,avg_train_acc:0.8411287665367126\n",
      "avg_test_loss:0.884443461894989,avg_test_acc:0.7491900324821472\n"
     ]
    }
   ],
   "source": [
    "optimizer = Adam(params=model.parameters(), lr=0.08)\n",
    "EPOCHS = 25\n",
    "# device = 'cuda' if torch.cuda.is_available() else 'cpu'\n",
    "device = torch.device(\"mps\")\n",
    "for e in range(EPOCHS):\n",
    "    train(model, optimizer=optimizer, train_dataloader=train_dataloader,device=device,epoch=e )\n",
    "    test(model,test_dataloader=test_dataloader, device=device, epoch=e)"
   ]
  },
  {
   "cell_type": "code",
   "execution_count": null,
   "metadata": {},
   "outputs": [],
   "source": [
    "\"\"\"\n",
    "nllloss:\n",
    "avg_train_loss:0.5260689854621887,avg_train_acc:0.8136103749275208\n",
    "avg_test_loss:0.8587923049926758,avg_test_acc:0.7382180690765381\n",
    "100%|██████████| 98/98 [00:35<00:00,  2.78it/s]\n",
    "at epoch:24\n",
    "avg_train_loss:0.487973153591156,avg_train_acc:0.8283575177192688\n",
    "avg_test_loss:0.9704232215881348,avg_test_acc:0.7194163799285889\n",
    "\"\"\"\n",
    "\n",
    "\"\"\"\n",
    "CrossEntropyloss\n",
    "avg_train_loss:0.47743457555770874,avg_train_acc:0.8311942219734192\n",
    "avg_test_loss:0.7647943496704102,avg_test_acc:0.7671070694923401\n",
    "100%|██████████| 98/98 [00:35<00:00,  2.78it/s]\n",
    "at epoch:23\n",
    "avg_train_loss:0.4614332914352417,avg_train_acc:0.8370820879936218\n",
    "avg_test_loss:0.8267273902893066,avg_test_acc:0.7578182220458984\n",
    "100%|██████████| 98/98 [00:35<00:00,  2.73it/s]\n",
    "at epoch:24\n",
    "avg_train_loss:0.4452742636203766,avg_train_acc:0.8411287665367126\n",
    "avg_test_loss:0.884443461894989,avg_test_acc:0.7491900324821472\n",
    "\"\"\""
   ]
  }
 ],
 "metadata": {
  "kernelspec": {
   "display_name": "env-era",
   "language": "python",
   "name": "python3"
  },
  "language_info": {
   "codemirror_mode": {
    "name": "ipython",
    "version": 3
   },
   "file_extension": ".py",
   "mimetype": "text/x-python",
   "name": "python",
   "nbconvert_exporter": "python",
   "pygments_lexer": "ipython3",
   "version": "3.9.16"
  },
  "orig_nbformat": 4
 },
 "nbformat": 4,
 "nbformat_minor": 2
}
