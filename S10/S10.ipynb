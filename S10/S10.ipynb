{
 "cells": [
  {
   "cell_type": "code",
   "execution_count": 6,
   "metadata": {},
   "outputs": [],
   "source": [
    "import torch\n",
    "from build_dataloader import get_train_loader, get_test_loader\n",
    "from custom_resnet import CustomRes\n",
    "from torchsummary import summary\n",
    "from trainer import train, test\n",
    "from torch.optim import SGD,Adam\n",
    "from torch.optim.lr_scheduler import OneCycleLR"
   ]
  },
  {
   "cell_type": "code",
   "execution_count": 2,
   "metadata": {},
   "outputs": [
    {
     "name": "stdout",
     "output_type": "stream",
     "text": [
      "Files already downloaded and verified\n",
      "Files already downloaded and verified\n"
     ]
    }
   ],
   "source": [
    "BATCHSIZE=512\n",
    "train_dataloader = get_train_loader(data_dir='./data', \n",
    "                                    train=True,\n",
    "                                    download=True,\n",
    "                                    shuffle=True,\n",
    "                                    batch_size=BATCHSIZE\n",
    "                                    )\n",
    "\n",
    "test_dataloader = get_test_loader(data_dir='./data', \n",
    "                                    train=False,\n",
    "                                    download=True,\n",
    "                                    shuffle=True,\n",
    "                                    batch_size=BATCHSIZE\n",
    "                                    )"
   ]
  },
  {
   "cell_type": "code",
   "execution_count": 3,
   "metadata": {},
   "outputs": [
    {
     "name": "stdout",
     "output_type": "stream",
     "text": [
      "----------------------------------------------------------------\n",
      "        Layer (type)               Output Shape         Param #\n",
      "================================================================\n",
      "            Conv2d-1           [-1, 64, 32, 32]           1,728\n",
      "       BatchNorm2d-2           [-1, 64, 32, 32]             128\n",
      "              ReLU-3           [-1, 64, 32, 32]               0\n",
      "            Conv2d-4          [-1, 128, 32, 32]          73,728\n",
      "         MaxPool2d-5          [-1, 128, 16, 16]               0\n",
      "       BatchNorm2d-6          [-1, 128, 16, 16]             256\n",
      "              ReLU-7          [-1, 128, 16, 16]               0\n",
      "            Conv2d-8          [-1, 128, 16, 16]         147,456\n",
      "       BatchNorm2d-9          [-1, 128, 16, 16]             256\n",
      "             ReLU-10          [-1, 128, 16, 16]               0\n",
      "           Conv2d-11          [-1, 128, 16, 16]         147,456\n",
      "      BatchNorm2d-12          [-1, 128, 16, 16]             256\n",
      "             ReLU-13          [-1, 128, 16, 16]               0\n",
      "           Conv2d-14          [-1, 256, 16, 16]         294,912\n",
      "        MaxPool2d-15            [-1, 256, 8, 8]               0\n",
      "      BatchNorm2d-16            [-1, 256, 8, 8]             512\n",
      "             ReLU-17            [-1, 256, 8, 8]               0\n",
      "           Conv2d-18            [-1, 512, 8, 8]       1,179,648\n",
      "        MaxPool2d-19            [-1, 512, 4, 4]               0\n",
      "      BatchNorm2d-20            [-1, 512, 4, 4]           1,024\n",
      "             ReLU-21            [-1, 512, 4, 4]               0\n",
      "           Conv2d-22            [-1, 512, 4, 4]       2,359,296\n",
      "      BatchNorm2d-23            [-1, 512, 4, 4]           1,024\n",
      "             ReLU-24            [-1, 512, 4, 4]               0\n",
      "           Conv2d-25            [-1, 512, 4, 4]       2,359,296\n",
      "      BatchNorm2d-26            [-1, 512, 4, 4]           1,024\n",
      "             ReLU-27            [-1, 512, 4, 4]               0\n",
      "        MaxPool2d-28            [-1, 512, 1, 1]               0\n",
      "           Linear-29                   [-1, 10]           5,130\n",
      "================================================================\n",
      "Total params: 6,573,130\n",
      "Trainable params: 6,573,130\n",
      "Non-trainable params: 0\n",
      "----------------------------------------------------------------\n",
      "Input size (MB): 0.01\n",
      "Forward/backward pass size (MB): 6.44\n",
      "Params size (MB): 25.07\n",
      "Estimated Total Size (MB): 31.53\n",
      "----------------------------------------------------------------\n"
     ]
    }
   ],
   "source": [
    "model = CustomRes()\n",
    "summary(model, input_size=(3,32,32))"
   ]
  },
  {
   "cell_type": "code",
   "execution_count": 4,
   "metadata": {},
   "outputs": [
    {
     "name": "stderr",
     "output_type": "stream",
     "text": [
      "  0%|          | 0/98 [00:00<?, ?it/s]"
     ]
    },
    {
     "name": "stderr",
     "output_type": "stream",
     "text": [
      "100%|██████████| 98/98 [00:36<00:00,  2.66it/s]\n"
     ]
    },
    {
     "name": "stdout",
     "output_type": "stream",
     "text": [
      "at epoch:0\n",
      "avg_train_loss:1.3833872079849243,avg_train_acc:0.5119104385375977\n",
      "avg_test_loss:1.027896523475647,avg_test_acc:0.634409487247467\n"
     ]
    },
    {
     "name": "stderr",
     "output_type": "stream",
     "text": [
      "100%|██████████| 98/98 [00:36<00:00,  2.67it/s]\n"
     ]
    },
    {
     "name": "stdout",
     "output_type": "stream",
     "text": [
      "at epoch:1\n",
      "avg_train_loss:0.8473235964775085,avg_train_acc:0.7014414072036743\n",
      "avg_test_loss:0.7971357107162476,avg_test_acc:0.7290154099464417\n"
     ]
    },
    {
     "name": "stderr",
     "output_type": "stream",
     "text": [
      "100%|██████████| 98/98 [00:36<00:00,  2.68it/s]\n"
     ]
    },
    {
     "name": "stdout",
     "output_type": "stream",
     "text": [
      "at epoch:2\n",
      "avg_train_loss:0.682555079460144,avg_train_acc:0.7629582285881042\n",
      "avg_test_loss:0.6815880537033081,avg_test_acc:0.7642635107040405\n"
     ]
    },
    {
     "name": "stderr",
     "output_type": "stream",
     "text": [
      "100%|██████████| 98/98 [00:35<00:00,  2.75it/s]\n"
     ]
    },
    {
     "name": "stdout",
     "output_type": "stream",
     "text": [
      "at epoch:3\n",
      "avg_train_loss:0.5729424357414246,avg_train_acc:0.8018869161605835\n",
      "avg_test_loss:0.9161269068717957,avg_test_acc:0.7175436615943909\n"
     ]
    },
    {
     "name": "stderr",
     "output_type": "stream",
     "text": [
      "100%|██████████| 98/98 [00:35<00:00,  2.76it/s]\n"
     ]
    },
    {
     "name": "stdout",
     "output_type": "stream",
     "text": [
      "at epoch:4\n",
      "avg_train_loss:0.5244510769844055,avg_train_acc:0.8175299763679504\n",
      "avg_test_loss:0.8234826326370239,avg_test_acc:0.7426815032958984\n"
     ]
    },
    {
     "name": "stderr",
     "output_type": "stream",
     "text": [
      "100%|██████████| 98/98 [00:36<00:00,  2.69it/s]\n"
     ]
    },
    {
     "name": "stdout",
     "output_type": "stream",
     "text": [
      "at epoch:5\n",
      "avg_train_loss:0.4643711447715759,avg_train_acc:0.8405336737632751\n",
      "avg_test_loss:0.7768331170082092,avg_test_acc:0.7797449827194214\n"
     ]
    },
    {
     "name": "stderr",
     "output_type": "stream",
     "text": [
      "100%|██████████| 98/98 [00:36<00:00,  2.67it/s]\n"
     ]
    },
    {
     "name": "stdout",
     "output_type": "stream",
     "text": [
      "at epoch:6\n",
      "avg_train_loss:0.3625582754611969,avg_train_acc:0.8761644959449768\n",
      "avg_test_loss:0.6185418367385864,avg_test_acc:0.8182100057601929\n"
     ]
    },
    {
     "name": "stderr",
     "output_type": "stream",
     "text": [
      "100%|██████████| 98/98 [00:36<00:00,  2.65it/s]\n"
     ]
    },
    {
     "name": "stdout",
     "output_type": "stream",
     "text": [
      "at epoch:7\n",
      "avg_train_loss:0.28796297311782837,avg_train_acc:0.899091362953186\n",
      "avg_test_loss:0.6592128276824951,avg_test_acc:0.8242589831352234\n"
     ]
    },
    {
     "name": "stderr",
     "output_type": "stream",
     "text": [
      "100%|██████████| 98/98 [00:37<00:00,  2.64it/s]\n"
     ]
    },
    {
     "name": "stdout",
     "output_type": "stream",
     "text": [
      "at epoch:8\n",
      "avg_train_loss:0.2082149088382721,avg_train_acc:0.9278378486633301\n",
      "avg_test_loss:0.5396979451179504,avg_test_acc:0.8560833930969238\n"
     ]
    },
    {
     "name": "stderr",
     "output_type": "stream",
     "text": [
      "100%|██████████| 98/98 [00:36<00:00,  2.65it/s]\n"
     ]
    },
    {
     "name": "stdout",
     "output_type": "stream",
     "text": [
      "at epoch:9\n",
      "avg_train_loss:0.17762036621570587,avg_train_acc:0.9385353922843933\n",
      "avg_test_loss:0.6465462446212769,avg_test_acc:0.8394071459770203\n"
     ]
    },
    {
     "name": "stderr",
     "output_type": "stream",
     "text": [
      "100%|██████████| 98/98 [00:36<00:00,  2.67it/s]\n"
     ]
    },
    {
     "name": "stdout",
     "output_type": "stream",
     "text": [
      "at epoch:10\n",
      "avg_train_loss:0.1532047986984253,avg_train_acc:0.9475550651550293\n",
      "avg_test_loss:0.5818821787834167,avg_test_acc:0.8639992475509644\n"
     ]
    },
    {
     "name": "stderr",
     "output_type": "stream",
     "text": [
      "100%|██████████| 98/98 [00:36<00:00,  2.67it/s]\n"
     ]
    },
    {
     "name": "stdout",
     "output_type": "stream",
     "text": [
      "at epoch:11\n",
      "avg_train_loss:0.13275358080863953,avg_train_acc:0.9545817375183105\n",
      "avg_test_loss:0.576280951499939,avg_test_acc:0.8630572557449341\n"
     ]
    },
    {
     "name": "stderr",
     "output_type": "stream",
     "text": [
      "100%|██████████| 98/98 [00:36<00:00,  2.67it/s]\n"
     ]
    },
    {
     "name": "stdout",
     "output_type": "stream",
     "text": [
      "at epoch:12\n",
      "avg_train_loss:0.12952768802642822,avg_train_acc:0.9546633958816528\n",
      "avg_test_loss:0.566575288772583,avg_test_acc:0.8651999235153198\n"
     ]
    },
    {
     "name": "stderr",
     "output_type": "stream",
     "text": [
      "100%|██████████| 98/98 [00:36<00:00,  2.67it/s]\n"
     ]
    },
    {
     "name": "stdout",
     "output_type": "stream",
     "text": [
      "at epoch:13\n",
      "avg_train_loss:0.11514241248369217,avg_train_acc:0.9604781866073608\n",
      "avg_test_loss:0.6714045405387878,avg_test_acc:0.8502872586250305\n"
     ]
    },
    {
     "name": "stderr",
     "output_type": "stream",
     "text": [
      "100%|██████████| 98/98 [00:36<00:00,  2.66it/s]\n"
     ]
    },
    {
     "name": "stdout",
     "output_type": "stream",
     "text": [
      "at epoch:14\n",
      "avg_train_loss:0.10138226300477982,avg_train_acc:0.9656466245651245\n",
      "avg_test_loss:0.5980459451675415,avg_test_acc:0.8721565008163452\n"
     ]
    },
    {
     "name": "stderr",
     "output_type": "stream",
     "text": [
      "100%|██████████| 98/98 [00:36<00:00,  2.67it/s]\n"
     ]
    },
    {
     "name": "stdout",
     "output_type": "stream",
     "text": [
      "at epoch:15\n",
      "avg_train_loss:0.09907646477222443,avg_train_acc:0.9660252928733826\n",
      "avg_test_loss:0.5042151212692261,avg_test_acc:0.8800436854362488\n"
     ]
    },
    {
     "name": "stderr",
     "output_type": "stream",
     "text": [
      "100%|██████████| 98/98 [00:35<00:00,  2.73it/s]\n"
     ]
    },
    {
     "name": "stdout",
     "output_type": "stream",
     "text": [
      "at epoch:16\n",
      "avg_train_loss:0.09018202871084213,avg_train_acc:0.9692245125770569\n",
      "avg_test_loss:0.5363858938217163,avg_test_acc:0.8866211175918579\n"
     ]
    },
    {
     "name": "stderr",
     "output_type": "stream",
     "text": [
      "100%|██████████| 98/98 [00:35<00:00,  2.78it/s]\n"
     ]
    },
    {
     "name": "stdout",
     "output_type": "stream",
     "text": [
      "at epoch:17\n",
      "avg_train_loss:0.08864422142505646,avg_train_acc:0.9704678058624268\n",
      "avg_test_loss:0.5171140432357788,avg_test_acc:0.8829905390739441\n"
     ]
    },
    {
     "name": "stderr",
     "output_type": "stream",
     "text": [
      "100%|██████████| 98/98 [00:35<00:00,  2.76it/s]\n"
     ]
    },
    {
     "name": "stdout",
     "output_type": "stream",
     "text": [
      "at epoch:18\n",
      "avg_train_loss:0.07615621387958527,avg_train_acc:0.9738681316375732\n",
      "avg_test_loss:0.5313849449157715,avg_test_acc:0.8834558725357056\n"
     ]
    },
    {
     "name": "stderr",
     "output_type": "stream",
     "text": [
      "100%|██████████| 98/98 [00:35<00:00,  2.78it/s]\n"
     ]
    },
    {
     "name": "stdout",
     "output_type": "stream",
     "text": [
      "at epoch:19\n",
      "avg_train_loss:0.07272389531135559,avg_train_acc:0.9757719039916992\n",
      "avg_test_loss:0.5032762289047241,avg_test_acc:0.8865119814872742\n"
     ]
    },
    {
     "name": "stderr",
     "output_type": "stream",
     "text": [
      "100%|██████████| 98/98 [00:35<00:00,  2.78it/s]\n"
     ]
    },
    {
     "name": "stdout",
     "output_type": "stream",
     "text": [
      "at epoch:20\n",
      "avg_train_loss:0.0665687844157219,avg_train_acc:0.9785251021385193\n",
      "avg_test_loss:0.5074591636657715,avg_test_acc:0.8896886706352234\n"
     ]
    },
    {
     "name": "stderr",
     "output_type": "stream",
     "text": [
      "100%|██████████| 98/98 [00:35<00:00,  2.78it/s]\n"
     ]
    },
    {
     "name": "stdout",
     "output_type": "stream",
     "text": [
      "at epoch:21\n",
      "avg_train_loss:0.06463085114955902,avg_train_acc:0.9796582460403442\n",
      "avg_test_loss:0.4998684525489807,avg_test_acc:0.8918026089668274\n"
     ]
    },
    {
     "name": "stderr",
     "output_type": "stream",
     "text": [
      "100%|██████████| 98/98 [00:35<00:00,  2.78it/s]\n"
     ]
    },
    {
     "name": "stdout",
     "output_type": "stream",
     "text": [
      "at epoch:22\n",
      "avg_train_loss:0.05962052196264267,avg_train_acc:0.9801954030990601\n",
      "avg_test_loss:0.49754634499549866,avg_test_acc:0.8882295489311218\n"
     ]
    },
    {
     "name": "stderr",
     "output_type": "stream",
     "text": [
      "100%|██████████| 98/98 [00:35<00:00,  2.78it/s]\n"
     ]
    },
    {
     "name": "stdout",
     "output_type": "stream",
     "text": [
      "at epoch:23\n",
      "avg_train_loss:0.059625908732414246,avg_train_acc:0.9810552597045898\n",
      "avg_test_loss:0.49563026428222656,avg_test_acc:0.8920725584030151\n"
     ]
    },
    {
     "name": "stderr",
     "output_type": "stream",
     "text": [
      "100%|██████████| 98/98 [00:36<00:00,  2.67it/s]\n"
     ]
    },
    {
     "name": "stdout",
     "output_type": "stream",
     "text": [
      "at epoch:24\n",
      "avg_train_loss:0.05672013387084007,avg_train_acc:0.9825699329376221\n",
      "avg_test_loss:0.49775201082229614,avg_test_acc:0.8910788297653198\n"
     ]
    }
   ],
   "source": [
    "EPOCHS = 25\n",
    "optimizer = Adam(params=model.parameters(), lr=0.08)\n",
    "scheduler = OneCycleLR(optimizer=optimizer, max_lr=.01, epochs=EPOCHS, steps_per_epoch=len(train_dataloader))\n",
    "# device = 'cuda' if torch.cuda.is_available() else 'cpu'\n",
    "device = torch.device(\"mps\")\n",
    "for e in range(EPOCHS):\n",
    "    train(model, optimizer=optimizer, train_dataloader=train_dataloader,device=device,epoch=e,scheduler=scheduler )\n",
    "    test(model,test_dataloader=test_dataloader, device=device, epoch=e)"
   ]
  }
 ],
 "metadata": {
  "kernelspec": {
   "display_name": "env-era",
   "language": "python",
   "name": "python3"
  },
  "language_info": {
   "codemirror_mode": {
    "name": "ipython",
    "version": 3
   },
   "file_extension": ".py",
   "mimetype": "text/x-python",
   "name": "python",
   "nbconvert_exporter": "python",
   "pygments_lexer": "ipython3",
   "version": "3.9.16"
  },
  "orig_nbformat": 4
 },
 "nbformat": 4,
 "nbformat_minor": 2
}
