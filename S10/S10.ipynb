{
 "cells": [
  {
   "cell_type": "code",
   "execution_count": 1,
   "metadata": {},
   "outputs": [
    {
     "name": "stderr",
     "output_type": "stream",
     "text": [
      "/Users/raginipandey/anaconda3/envs/myenv/lib/python3.9/site-packages/albumentations/augmentations/dropout/cutout.py:49: FutureWarning: Cutout has been deprecated. Please use CoarseDropout\n",
      "  warnings.warn(\n"
     ]
    }
   ],
   "source": [
    "import torch\n",
    "import torch.nn as nn\n",
    "from build_dataloader import get_train_loader, get_test_loader\n",
    "from custom_resnet import CustomRes\n",
    "from torchsummary import summary\n",
    "from trainer import train, test\n",
    "from torch.optim import SGD,Adam\n",
    "from torch.optim.lr_scheduler import OneCycleLR\n",
    "from ignite.handlers import FastaiLRFinder"
   ]
  },
  {
   "cell_type": "code",
   "execution_count": 2,
   "metadata": {},
   "outputs": [
    {
     "name": "stdout",
     "output_type": "stream",
     "text": [
      "Files already downloaded and verified\n",
      "Files already downloaded and verified\n"
     ]
    }
   ],
   "source": [
    "BATCHSIZE=512\n",
    "train_dataloader = get_train_loader(data_dir='./data', \n",
    "                                    train=True,\n",
    "                                    download=True,\n",
    "                                    shuffle=True,\n",
    "                                    batch_size=BATCHSIZE\n",
    "                                    )\n",
    "\n",
    "test_dataloader = get_test_loader(data_dir='./data', \n",
    "                                    train=False,\n",
    "                                    download=True,\n",
    "                                    shuffle=True,\n",
    "                                    batch_size=BATCHSIZE\n",
    "                                    )"
   ]
  },
  {
   "cell_type": "code",
   "execution_count": 3,
   "metadata": {},
   "outputs": [
    {
     "name": "stdout",
     "output_type": "stream",
     "text": [
      "----------------------------------------------------------------\n",
      "        Layer (type)               Output Shape         Param #\n",
      "================================================================\n",
      "            Conv2d-1           [-1, 64, 32, 32]           1,728\n",
      "       BatchNorm2d-2           [-1, 64, 32, 32]             128\n",
      "              ReLU-3           [-1, 64, 32, 32]               0\n",
      "            Conv2d-4          [-1, 128, 32, 32]          73,728\n",
      "         MaxPool2d-5          [-1, 128, 16, 16]               0\n",
      "       BatchNorm2d-6          [-1, 128, 16, 16]             256\n",
      "              ReLU-7          [-1, 128, 16, 16]               0\n",
      "            Conv2d-8          [-1, 128, 16, 16]         147,456\n",
      "       BatchNorm2d-9          [-1, 128, 16, 16]             256\n",
      "             ReLU-10          [-1, 128, 16, 16]               0\n",
      "           Conv2d-11          [-1, 128, 16, 16]         147,456\n",
      "      BatchNorm2d-12          [-1, 128, 16, 16]             256\n",
      "             ReLU-13          [-1, 128, 16, 16]               0\n",
      "           Conv2d-14          [-1, 256, 16, 16]         294,912\n",
      "        MaxPool2d-15            [-1, 256, 8, 8]               0\n",
      "      BatchNorm2d-16            [-1, 256, 8, 8]             512\n",
      "             ReLU-17            [-1, 256, 8, 8]               0\n",
      "           Conv2d-18            [-1, 512, 8, 8]       1,179,648\n",
      "        MaxPool2d-19            [-1, 512, 4, 4]               0\n",
      "      BatchNorm2d-20            [-1, 512, 4, 4]           1,024\n",
      "             ReLU-21            [-1, 512, 4, 4]               0\n",
      "           Conv2d-22            [-1, 512, 4, 4]       2,359,296\n",
      "      BatchNorm2d-23            [-1, 512, 4, 4]           1,024\n",
      "             ReLU-24            [-1, 512, 4, 4]               0\n",
      "           Conv2d-25            [-1, 512, 4, 4]       2,359,296\n",
      "      BatchNorm2d-26            [-1, 512, 4, 4]           1,024\n",
      "             ReLU-27            [-1, 512, 4, 4]               0\n",
      "        MaxPool2d-28            [-1, 512, 1, 1]               0\n",
      "           Linear-29                   [-1, 10]           5,130\n",
      "================================================================\n",
      "Total params: 6,573,130\n",
      "Trainable params: 6,573,130\n",
      "Non-trainable params: 0\n",
      "----------------------------------------------------------------\n",
      "Input size (MB): 0.01\n",
      "Forward/backward pass size (MB): 6.44\n",
      "Params size (MB): 25.07\n",
      "Estimated Total Size (MB): 31.53\n",
      "----------------------------------------------------------------\n"
     ]
    }
   ],
   "source": [
    "model = CustomRes()\n",
    "summary(model, input_size=(3,32,32))"
   ]
  },
  {
   "cell_type": "code",
   "execution_count": 4,
   "metadata": {},
   "outputs": [
    {
     "name": "stderr",
     "output_type": "stream",
     "text": [
      "  0%|          | 0/98 [00:00<?, ?it/s]"
     ]
    },
    {
     "name": "stderr",
     "output_type": "stream",
     "text": [
      "100%|██████████| 98/98 [00:35<00:00,  2.76it/s]\n"
     ]
    },
    {
     "name": "stdout",
     "output_type": "stream",
     "text": [
      "at epoch:0\n",
      "avg_train_loss:1.416864037513733,avg_train_acc:0.5007924437522888\n",
      "avg_test_loss:1.0424970388412476,avg_test_acc:0.6290326118469238\n"
     ]
    },
    {
     "name": "stderr",
     "output_type": "stream",
     "text": [
      "100%|██████████| 98/98 [00:35<00:00,  2.79it/s]\n"
     ]
    },
    {
     "name": "stdout",
     "output_type": "stream",
     "text": [
      "at epoch:1\n",
      "avg_train_loss:0.870063066482544,avg_train_acc:0.694782018661499\n",
      "avg_test_loss:0.7542669773101807,avg_test_acc:0.7387752532958984\n"
     ]
    },
    {
     "name": "stderr",
     "output_type": "stream",
     "text": [
      "100%|██████████| 98/98 [00:35<00:00,  2.80it/s]\n"
     ]
    },
    {
     "name": "stdout",
     "output_type": "stream",
     "text": [
      "at epoch:2\n",
      "avg_train_loss:0.6841527819633484,avg_train_acc:0.7617149353027344\n",
      "avg_test_loss:0.8940948247909546,avg_test_acc:0.7186006307601929\n"
     ]
    },
    {
     "name": "stderr",
     "output_type": "stream",
     "text": [
      "100%|██████████| 98/98 [00:35<00:00,  2.74it/s]\n"
     ]
    },
    {
     "name": "stdout",
     "output_type": "stream",
     "text": [
      "at epoch:3\n",
      "avg_train_loss:0.5842074155807495,avg_train_acc:0.8004148602485657\n",
      "avg_test_loss:0.6082676649093628,avg_test_acc:0.8000574111938477\n"
     ]
    },
    {
     "name": "stderr",
     "output_type": "stream",
     "text": [
      "100%|██████████| 98/98 [00:35<00:00,  2.74it/s]\n"
     ]
    },
    {
     "name": "stdout",
     "output_type": "stream",
     "text": [
      "at epoch:4\n",
      "avg_train_loss:0.5061802864074707,avg_train_acc:0.8233513236045837\n",
      "avg_test_loss:0.7318302392959595,avg_test_acc:0.7713407278060913\n"
     ]
    },
    {
     "name": "stderr",
     "output_type": "stream",
     "text": [
      "100%|██████████| 98/98 [00:35<00:00,  2.75it/s]\n"
     ]
    },
    {
     "name": "stdout",
     "output_type": "stream",
     "text": [
      "at epoch:5\n",
      "avg_train_loss:0.4498867988586426,avg_train_acc:0.8444418907165527\n",
      "avg_test_loss:0.9364898800849915,avg_test_acc:0.7404354214668274\n"
     ]
    },
    {
     "name": "stderr",
     "output_type": "stream",
     "text": [
      "100%|██████████| 98/98 [00:35<00:00,  2.78it/s]\n"
     ]
    },
    {
     "name": "stdout",
     "output_type": "stream",
     "text": [
      "at epoch:6\n",
      "avg_train_loss:0.3728276193141937,avg_train_acc:0.8716669678688049\n",
      "avg_test_loss:0.8321179151535034,avg_test_acc:0.785776674747467\n"
     ]
    },
    {
     "name": "stderr",
     "output_type": "stream",
     "text": [
      "100%|██████████| 98/98 [00:35<00:00,  2.73it/s]\n"
     ]
    },
    {
     "name": "stdout",
     "output_type": "stream",
     "text": [
      "at epoch:7\n",
      "avg_train_loss:0.28789547085762024,avg_train_acc:0.8995678424835205\n",
      "avg_test_loss:0.6643854975700378,avg_test_acc:0.8079445958137512\n"
     ]
    },
    {
     "name": "stderr",
     "output_type": "stream",
     "text": [
      "100%|██████████| 98/98 [00:35<00:00,  2.72it/s]\n"
     ]
    },
    {
     "name": "stdout",
     "output_type": "stream",
     "text": [
      "at epoch:8\n",
      "avg_train_loss:0.23387938737869263,avg_train_acc:0.918340802192688\n",
      "avg_test_loss:0.5865095853805542,avg_test_acc:0.8551241159439087\n"
     ]
    },
    {
     "name": "stderr",
     "output_type": "stream",
     "text": [
      "100%|██████████| 98/98 [00:35<00:00,  2.75it/s]\n"
     ]
    },
    {
     "name": "stdout",
     "output_type": "stream",
     "text": [
      "at epoch:9\n",
      "avg_train_loss:0.1836121827363968,avg_train_acc:0.9348778128623962\n",
      "avg_test_loss:0.557948112487793,avg_test_acc:0.8626263737678528\n"
     ]
    },
    {
     "name": "stderr",
     "output_type": "stream",
     "text": [
      "100%|██████████| 98/98 [00:36<00:00,  2.66it/s]\n"
     ]
    },
    {
     "name": "stdout",
     "output_type": "stream",
     "text": [
      "at epoch:10\n",
      "avg_train_loss:0.14377421140670776,avg_train_acc:0.950498104095459\n",
      "avg_test_loss:0.7864389419555664,avg_test_acc:0.8303078413009644\n"
     ]
    },
    {
     "name": "stderr",
     "output_type": "stream",
     "text": [
      "100%|██████████| 98/98 [00:35<00:00,  2.75it/s]\n"
     ]
    },
    {
     "name": "stdout",
     "output_type": "stream",
     "text": [
      "at epoch:11\n",
      "avg_train_loss:0.1361963152885437,avg_train_acc:0.9535767436027527\n",
      "avg_test_loss:0.6290660500526428,avg_test_acc:0.8608857989311218\n"
     ]
    },
    {
     "name": "stderr",
     "output_type": "stream",
     "text": [
      "100%|██████████| 98/98 [00:35<00:00,  2.77it/s]\n"
     ]
    },
    {
     "name": "stdout",
     "output_type": "stream",
     "text": [
      "at epoch:12\n",
      "avg_train_loss:0.1195443794131279,avg_train_acc:0.958939790725708\n",
      "avg_test_loss:0.5508044958114624,avg_test_acc:0.8794519305229187\n"
     ]
    },
    {
     "name": "stderr",
     "output_type": "stream",
     "text": [
      "100%|██████████| 98/98 [00:36<00:00,  2.71it/s]\n"
     ]
    },
    {
     "name": "stdout",
     "output_type": "stream",
     "text": [
      "at epoch:13\n",
      "avg_train_loss:0.11187813431024551,avg_train_acc:0.9618780016899109\n",
      "avg_test_loss:0.5605612993240356,avg_test_acc:0.8741096258163452\n"
     ]
    },
    {
     "name": "stderr",
     "output_type": "stream",
     "text": [
      "100%|██████████| 98/98 [00:36<00:00,  2.68it/s]\n"
     ]
    },
    {
     "name": "stdout",
     "output_type": "stream",
     "text": [
      "at epoch:14\n",
      "avg_train_loss:0.09965537488460541,avg_train_acc:0.9660651683807373\n",
      "avg_test_loss:0.5913864374160767,avg_test_acc:0.8689797520637512\n"
     ]
    },
    {
     "name": "stderr",
     "output_type": "stream",
     "text": [
      "100%|██████████| 98/98 [00:35<00:00,  2.74it/s]\n"
     ]
    },
    {
     "name": "stdout",
     "output_type": "stream",
     "text": [
      "at epoch:15\n",
      "avg_train_loss:0.09746357053518295,avg_train_acc:0.9672305583953857\n",
      "avg_test_loss:0.5363028049468994,avg_test_acc:0.8801413774490356\n"
     ]
    },
    {
     "name": "stderr",
     "output_type": "stream",
     "text": [
      "100%|██████████| 98/98 [00:35<00:00,  2.77it/s]\n"
     ]
    },
    {
     "name": "stdout",
     "output_type": "stream",
     "text": [
      "at epoch:16\n",
      "avg_train_loss:0.0889049768447876,avg_train_acc:0.9695215821266174\n",
      "avg_test_loss:0.526117742061615,avg_test_acc:0.8824735879898071\n"
     ]
    },
    {
     "name": "stderr",
     "output_type": "stream",
     "text": [
      "100%|██████████| 98/98 [00:35<00:00,  2.79it/s]\n"
     ]
    },
    {
     "name": "stdout",
     "output_type": "stream",
     "text": [
      "at epoch:17\n",
      "avg_train_loss:0.08385537564754486,avg_train_acc:0.9713456034660339\n",
      "avg_test_loss:0.5468054413795471,avg_test_acc:0.8820945024490356\n"
     ]
    },
    {
     "name": "stderr",
     "output_type": "stream",
     "text": [
      "100%|██████████| 98/98 [00:35<00:00,  2.75it/s]\n"
     ]
    },
    {
     "name": "stdout",
     "output_type": "stream",
     "text": [
      "at epoch:18\n",
      "avg_train_loss:0.07942540943622589,avg_train_acc:0.9732076525688171\n",
      "avg_test_loss:0.5053330659866333,avg_test_acc:0.8854606747627258\n"
     ]
    },
    {
     "name": "stderr",
     "output_type": "stream",
     "text": [
      "100%|██████████| 98/98 [00:35<00:00,  2.79it/s]\n"
     ]
    },
    {
     "name": "stdout",
     "output_type": "stream",
     "text": [
      "at epoch:19\n",
      "avg_train_loss:0.0700482726097107,avg_train_acc:0.9771062731742859\n",
      "avg_test_loss:0.5017173290252686,avg_test_acc:0.8888614773750305\n"
     ]
    },
    {
     "name": "stderr",
     "output_type": "stream",
     "text": [
      "100%|██████████| 98/98 [00:36<00:00,  2.69it/s]\n"
     ]
    },
    {
     "name": "stdout",
     "output_type": "stream",
     "text": [
      "at epoch:20\n",
      "avg_train_loss:0.06610319763422012,avg_train_acc:0.9777145981788635\n",
      "avg_test_loss:0.5035909414291382,avg_test_acc:0.8894933462142944\n"
     ]
    },
    {
     "name": "stderr",
     "output_type": "stream",
     "text": [
      "100%|██████████| 98/98 [00:35<00:00,  2.76it/s]\n"
     ]
    },
    {
     "name": "stdout",
     "output_type": "stream",
     "text": [
      "at epoch:21\n",
      "avg_train_loss:0.06657670438289642,avg_train_acc:0.9784406423568726\n",
      "avg_test_loss:0.5007193088531494,avg_test_acc:0.8900677561759949\n"
     ]
    },
    {
     "name": "stderr",
     "output_type": "stream",
     "text": [
      "100%|██████████| 98/98 [00:35<00:00,  2.79it/s]\n"
     ]
    },
    {
     "name": "stdout",
     "output_type": "stream",
     "text": [
      "at epoch:22\n",
      "avg_train_loss:0.06144772842526436,avg_train_acc:0.9802665710449219\n",
      "avg_test_loss:0.49589958786964417,avg_test_acc:0.8899873495101929\n"
     ]
    },
    {
     "name": "stderr",
     "output_type": "stream",
     "text": [
      "100%|██████████| 98/98 [00:35<00:00,  2.79it/s]\n"
     ]
    },
    {
     "name": "stdout",
     "output_type": "stream",
     "text": [
      "at epoch:23\n",
      "avg_train_loss:0.05870560184121132,avg_train_acc:0.9811035990715027\n",
      "avg_test_loss:0.4957941472530365,avg_test_acc:0.8901540040969849\n"
     ]
    },
    {
     "name": "stderr",
     "output_type": "stream",
     "text": [
      "100%|██████████| 98/98 [00:35<00:00,  2.79it/s]\n"
     ]
    },
    {
     "name": "stdout",
     "output_type": "stream",
     "text": [
      "at epoch:24\n",
      "avg_train_loss:0.05747431516647339,avg_train_acc:0.981749951839447\n",
      "avg_test_loss:0.48817095160484314,avg_test_acc:0.891228199005127\n"
     ]
    }
   ],
   "source": [
    "EPOCHS = 25\n",
    "criterion = nn.CrossEntropyLoss()\n",
    "optimizer = Adam(params=model.parameters(), lr=0.08)\n",
    "scheduler = OneCycleLR(optimizer=optimizer, max_lr=.01, epochs=EPOCHS, steps_per_epoch=len(train_dataloader))\n",
    "# device = 'cuda' if torch.cuda.is_available() else 'cpu'\n",
    "device = torch.device(\"mps\")\n",
    "for e in range(EPOCHS):\n",
    "    train(model, optimizer=optimizer, train_dataloader=train_dataloader,device=device,epoch=e,scheduler=scheduler, criterion=criterion )\n",
    "    test(model,test_dataloader=test_dataloader, device=device, epoch=e,criterion=criterion)"
   ]
  },
  {
   "cell_type": "code",
   "execution_count": null,
   "metadata": {},
   "outputs": [],
   "source": []
  },
  {
   "cell_type": "code",
   "execution_count": null,
   "metadata": {},
   "outputs": [],
   "source": []
  }
 ],
 "metadata": {
  "kernelspec": {
   "display_name": "env-era",
   "language": "python",
   "name": "python3"
  },
  "language_info": {
   "codemirror_mode": {
    "name": "ipython",
    "version": 3
   },
   "file_extension": ".py",
   "mimetype": "text/x-python",
   "name": "python",
   "nbconvert_exporter": "python",
   "pygments_lexer": "ipython3",
   "version": "3.9.16"
  },
  "orig_nbformat": 4
 },
 "nbformat": 4,
 "nbformat_minor": 2
}
