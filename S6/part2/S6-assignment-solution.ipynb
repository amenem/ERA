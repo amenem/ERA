{
 "cells": [
  {
   "cell_type": "code",
   "execution_count": 0,
   "metadata": {
    "application/vnd.databricks.v1+cell": {
     "cellMetadata": {
      "byteLimit": 2048000,
      "rowLimit": 10000
     },
     "inputWidgets": {},
     "nuid": "a2758875-da9a-44fa-a5ae-bfb86be2ea1a",
     "showTitle": false,
     "title": ""
    }
   },
   "outputs": [
    {
     "output_type": "stream",
     "name": "stdout",
     "output_type": "stream",
     "text": [
      "Collecting torchsummary\r\n  Downloading torchsummary-1.5.1-py3-none-any.whl (2.8 kB)\r\nInstalling collected packages: torchsummary\r\nSuccessfully installed torchsummary-1.5.1\r\n\u001B[33mWARNING: You are using pip version 21.2.4; however, version 23.1.2 is available.\r\nYou should consider upgrading via the '/local_disk0/.ephemeral_nfs/envs/pythonEnv-a6aafe2d-e73c-49da-bdca-fac39ced74f5/bin/python -m pip install --upgrade pip' command.\u001B[0m\r\n"
     ]
    }
   ],
   "source": [
    "!pip install torchsummary"
   ]
  },
  {
   "cell_type": "code",
   "execution_count": 0,
   "metadata": {
    "application/vnd.databricks.v1+cell": {
     "cellMetadata": {
      "byteLimit": 2048000,
      "rowLimit": 10000
     },
     "inputWidgets": {},
     "nuid": "f22a7a2d-b5cd-44ac-866e-d744d25a50ac",
     "showTitle": false,
     "title": ""
    },
    "id": "0m2JWFliFfKT"
   },
   "outputs": [],
   "source": [
    "from __future__ import print_function\n",
    "import torch\n",
    "import torch.nn as nn\n",
    "import torch.nn.functional as F\n",
    "import torch.optim as optim\n",
    "from torchvision import datasets, transforms"
   ]
  },
  {
   "cell_type": "code",
   "execution_count": 0,
   "metadata": {
    "application/vnd.databricks.v1+cell": {
     "cellMetadata": {
      "byteLimit": 2048000,
      "rowLimit": 10000
     },
     "inputWidgets": {},
     "nuid": "e47317e4-5aca-488f-aedf-b8a9e095d1c6",
     "showTitle": false,
     "title": ""
    }
   },
   "outputs": [],
   "source": [
    "class Net(nn.Module):\n",
    "    def __init__(self):\n",
    "        super(Net, self).__init__()\n",
    "        self.conv1 = nn.Conv2d(1, 4, 3, padding=1) #input -? OUtput? RF\n",
    "        self.bn1 = nn.BatchNorm2d(4)\n",
    "        self.conv2 = nn.Conv2d(4, 16, 3, stride=2,padding=0)\n",
    "        self.bn2 = nn.BatchNorm2d(16)\n",
    "        self.conv3 = nn.Conv2d(16, 16, 3, padding=1)\n",
    "        self.bn3 = nn.BatchNorm2d(16)\n",
    "        self.pool2 = nn.MaxPool2d(2, 2)\n",
    "        self.conv5 = nn.Conv2d(16, 32, 3, padding=1)\n",
    "        self.bn5 = nn.BatchNorm2d(32)\n",
    "        self.conv6 = nn.Conv2d(32, 32, 3, stride=2,padding=1)\n",
    "        self.bn6 = nn.BatchNorm2d(32)\n",
    "        self.conv7 = nn.Conv2d(32, 10, 3)\n",
    "        self.d_out = nn.Dropout2d(.25)\n",
    "\n",
    "    def forward(self, x):\n",
    "        x = F.relu(self.conv1(x))\n",
    "        x = self.bn1(x)\n",
    "        x = self.d_out(x)\n",
    "        x = F.relu(self.conv2(x))\n",
    "        x = self.bn2(x)\n",
    "        x = self.d_out(x)\n",
    "        x = F.relu(self.conv3(x))\n",
    "        x = self.bn3(x)\n",
    "        x = self.pool2(x)\n",
    "        x = self.d_out(x)\n",
    "        x = F.relu(self.conv5(x))\n",
    "        x = self.bn5(x)\n",
    "        x = F.relu(self.conv6(x))\n",
    "        x = F.relu(self.conv7(x))\n",
    "        x = x.view(-1, 10)\n",
    "        return F.log_softmax(x)"
   ]
  },
  {
   "cell_type": "code",
   "execution_count": 0,
   "metadata": {
    "application/vnd.databricks.v1+cell": {
     "cellMetadata": {
      "byteLimit": 2048000,
      "rowLimit": 10000
     },
     "inputWidgets": {},
     "nuid": "61cf46f2-2647-48b2-a033-ba4629cb6638",
     "showTitle": false,
     "title": ""
    }
   },
   "outputs": [
    {
     "output_type": "stream",
     "name": "stdout",
     "output_type": "stream",
     "text": [
      "----------------------------------------------------------------\n        Layer (type)               Output Shape         Param #\n================================================================\n            Conv2d-1            [-1, 4, 28, 28]              40\n       BatchNorm2d-2            [-1, 4, 28, 28]               8\n         Dropout2d-3            [-1, 4, 28, 28]               0\n            Conv2d-4           [-1, 16, 13, 13]             592\n       BatchNorm2d-5           [-1, 16, 13, 13]              32\n         Dropout2d-6           [-1, 16, 13, 13]               0\n            Conv2d-7           [-1, 16, 13, 13]           2,320\n       BatchNorm2d-8           [-1, 16, 13, 13]              32\n         MaxPool2d-9             [-1, 16, 6, 6]               0\n        Dropout2d-10             [-1, 16, 6, 6]               0\n           Conv2d-11             [-1, 32, 6, 6]           4,640\n      BatchNorm2d-12             [-1, 32, 6, 6]              64\n           Conv2d-13             [-1, 32, 3, 3]           9,248\n           Conv2d-14             [-1, 10, 1, 1]           2,890\n================================================================\nTotal params: 19,866\nTrainable params: 19,866\nNon-trainable params: 0\n----------------------------------------------------------------\nInput size (MB): 0.00\nForward/backward pass size (MB): 0.20\nParams size (MB): 0.08\nEstimated Total Size (MB): 0.28\n----------------------------------------------------------------\n<command-2867301940365512>:52: UserWarning: Implicit dimension choice for log_softmax has been deprecated. Change the call to include dim=X as an argument.\n  return F.log_softmax(x)\n"
     ]
    }
   ],
   "source": [
    "from torchsummary import summary\n",
    "use_cuda = torch.cuda.is_available()\n",
    "device = torch.device(\"cuda\" if use_cuda else \"cpu\")\n",
    "model = Net().to(device)\n",
    "summary(model, input_size=(1, 28, 28))"
   ]
  },
  {
   "cell_type": "code",
   "execution_count": 0,
   "metadata": {
    "application/vnd.databricks.v1+cell": {
     "cellMetadata": {
      "byteLimit": 2048000,
      "rowLimit": 10000
     },
     "inputWidgets": {},
     "nuid": "7df9ea1f-7289-4da8-a547-c9bae9a8ff6d",
     "showTitle": false,
     "title": ""
    },
    "id": "DqTWLaM5GHgH"
   },
   "outputs": [
    {
     "output_type": "stream",
     "name": "stdout",
     "output_type": "stream",
     "text": [
      "Downloading http://yann.lecun.com/exdb/mnist/train-images-idx3-ubyte.gz\nDownloading http://yann.lecun.com/exdb/mnist/train-images-idx3-ubyte.gz to ../data/MNIST/raw/train-images-idx3-ubyte.gz\n"
     ]
    },
    {
     "output_type": "display_data",
     "data": {
      "application/vnd.jupyter.widget-view+json": {
       "model_id": "a11b5467d9544867b4ee5a12ea743941",
       "version_major": 2,
       "version_minor": 0
      },
      "text/plain": [
       "  0%|          | 0/9912422 [00:00<?, ?it/s]"
      ]
     },
     "metadata": {},
     "output_type": "display_data"
    },
    {
     "output_type": "stream",
     "name": "stdout",
     "output_type": "stream",
     "text": [
      "Extracting ../data/MNIST/raw/train-images-idx3-ubyte.gz to ../data/MNIST/raw\n\nDownloading http://yann.lecun.com/exdb/mnist/train-labels-idx1-ubyte.gz\nDownloading http://yann.lecun.com/exdb/mnist/train-labels-idx1-ubyte.gz to ../data/MNIST/raw/train-labels-idx1-ubyte.gz\n"
     ]
    },
    {
     "output_type": "display_data",
     "data": {
      "application/vnd.jupyter.widget-view+json": {
       "model_id": "ad14be634914402fac89eb02be4c3cae",
       "version_major": 2,
       "version_minor": 0
      },
      "text/plain": [
       "  0%|          | 0/28881 [00:00<?, ?it/s]"
      ]
     },
     "metadata": {},
     "output_type": "display_data"
    },
    {
     "output_type": "stream",
     "name": "stdout",
     "output_type": "stream",
     "text": [
      "Extracting ../data/MNIST/raw/train-labels-idx1-ubyte.gz to ../data/MNIST/raw\n\nDownloading http://yann.lecun.com/exdb/mnist/t10k-images-idx3-ubyte.gz\nDownloading http://yann.lecun.com/exdb/mnist/t10k-images-idx3-ubyte.gz to ../data/MNIST/raw/t10k-images-idx3-ubyte.gz\n"
     ]
    },
    {
     "output_type": "display_data",
     "data": {
      "application/vnd.jupyter.widget-view+json": {
       "model_id": "cba690e6c1014c02977b97227073259a",
       "version_major": 2,
       "version_minor": 0
      },
      "text/plain": [
       "  0%|          | 0/1648877 [00:00<?, ?it/s]"
      ]
     },
     "metadata": {},
     "output_type": "display_data"
    },
    {
     "output_type": "stream",
     "name": "stdout",
     "output_type": "stream",
     "text": [
      "Extracting ../data/MNIST/raw/t10k-images-idx3-ubyte.gz to ../data/MNIST/raw\n\nDownloading http://yann.lecun.com/exdb/mnist/t10k-labels-idx1-ubyte.gz\nDownloading http://yann.lecun.com/exdb/mnist/t10k-labels-idx1-ubyte.gz to ../data/MNIST/raw/t10k-labels-idx1-ubyte.gz\n"
     ]
    },
    {
     "output_type": "display_data",
     "data": {
      "application/vnd.jupyter.widget-view+json": {
       "model_id": "66b381b7c12f451da488b578280a1369",
       "version_major": 2,
       "version_minor": 0
      },
      "text/plain": [
       "  0%|          | 0/4542 [00:00<?, ?it/s]"
      ]
     },
     "metadata": {},
     "output_type": "display_data"
    },
    {
     "output_type": "stream",
     "name": "stdout",
     "output_type": "stream",
     "text": [
      "Extracting ../data/MNIST/raw/t10k-labels-idx1-ubyte.gz to ../data/MNIST/raw\n\n"
     ]
    }
   ],
   "source": [
    "torch.manual_seed(1)\n",
    "batch_size = 64\n",
    "\n",
    "kwargs = {'num_workers': 1, 'pin_memory': True} if use_cuda else {}\n",
    "train_loader = torch.utils.data.DataLoader(\n",
    "    datasets.MNIST('../data', train=True, download=True,\n",
    "                    transform=transforms.Compose([\n",
    "                        transforms.ToTensor(),\n",
    "                        transforms.Normalize((0.1307,), (0.3081,))\n",
    "                    ])),\n",
    "    batch_size=batch_size, shuffle=True, **kwargs)\n",
    "test_loader = torch.utils.data.DataLoader(\n",
    "    datasets.MNIST('../data', train=False, transform=transforms.Compose([\n",
    "                        transforms.ToTensor(),\n",
    "                        transforms.Normalize((0.1307,), (0.3081,))\n",
    "                    ])),\n",
    "    batch_size=batch_size, shuffle=True, **kwargs)\n"
   ]
  },
  {
   "cell_type": "code",
   "execution_count": 0,
   "metadata": {
    "application/vnd.databricks.v1+cell": {
     "cellMetadata": {
      "byteLimit": 2048000,
      "rowLimit": 10000
     },
     "inputWidgets": {},
     "nuid": "7f00abad-08e9-455a-aa84-78bd29fcb332",
     "showTitle": false,
     "title": ""
    },
    "id": "8fDefDhaFlwH"
   },
   "outputs": [],
   "source": [
    "from tqdm import tqdm\n",
    "def train(model, device, train_loader, optimizer, epoch):\n",
    "    model.train()\n",
    "    pbar = tqdm(train_loader)\n",
    "    for batch_idx, (data, target) in enumerate(pbar):\n",
    "        data, target = data.to(device), target.to(device)\n",
    "        optimizer.zero_grad()\n",
    "        output = model(data)\n",
    "        loss = F.nll_loss(output, target)\n",
    "        loss.backward()\n",
    "        optimizer.step()\n",
    "        pbar.set_description(desc= f'loss={loss.item()} batch_id={batch_idx}')\n",
    "\n",
    "\n",
    "def test(model, device, test_loader):\n",
    "    model.eval()\n",
    "    test_loss = 0\n",
    "    correct = 0\n",
    "    with torch.no_grad():\n",
    "        for data, target in test_loader:\n",
    "            data, target = data.to(device), target.to(device)\n",
    "            output = model(data)\n",
    "            test_loss += F.nll_loss(output, target, reduction='sum').item()  # sum up batch loss\n",
    "            pred = output.argmax(dim=1, keepdim=True)  # get the index of the max log-probability\n",
    "            correct += pred.eq(target.view_as(pred)).sum().item()\n",
    "\n",
    "    test_loss /= len(test_loader.dataset)\n",
    "\n",
    "    print('\\nTest set: Average loss: {:.4f}, Accuracy: {}/{} ({:.0f}%)\\n'.format(\n",
    "        test_loss, correct, len(test_loader.dataset),\n",
    "        100. * correct / len(test_loader.dataset)))"
   ]
  },
  {
   "cell_type": "code",
   "execution_count": 0,
   "metadata": {
    "application/vnd.databricks.v1+cell": {
     "cellMetadata": {
      "byteLimit": 2048000,
      "rowLimit": 10000
     },
     "inputWidgets": {},
     "nuid": "3e1ca229-d303-4c92-a6b5-d95cc9e63e44",
     "showTitle": false,
     "title": ""
    },
    "id": "MMWbLWO6FuHb"
   },
   "outputs": [
    {
     "output_type": "stream",
     "name": "stdout",
     "output_type": "stream",
     "text": [
      "\r  0%|          | 0/938 [00:00<?, ?it/s]<command-2867301940365512>:52: UserWarning: Implicit dimension choice for log_softmax has been deprecated. Change the call to include dim=X as an argument.\n  return F.log_softmax(x)\n\rloss=2.3088104724884033 batch_id=0:   0%|          | 0/938 [00:00<?, ?it/s]\rloss=2.3088104724884033 batch_id=0:   0%|          | 1/938 [00:00<03:01,  5.15it/s]\rloss=2.3012702465057373 batch_id=1:   0%|          | 1/938 [00:00<03:01,  5.15it/s]\rloss=2.313378095626831 batch_id=2:   0%|          | 1/938 [00:00<03:01,  5.15it/s] \rloss=2.291123390197754 batch_id=3:   0%|          | 1/938 [00:00<03:01,  5.15it/s]\rloss=2.2946486473083496 batch_id=4:   0%|          | 1/938 [00:00<03:01,  5.15it/s]\rloss=2.3003947734832764 batch_id=5:   0%|          | 1/938 [00:00<03:01,  5.15it/s]\rloss=2.2803750038146973 batch_id=6:   0%|          | 1/938 [00:00<03:01,  5.15it/s]\rloss=2.2743685245513916 batch_id=7:   0%|          | 1/938 [00:00<03:01,  5.15it/s]\rloss=2.272332191467285 batch_id=8:   0%|          | 1/938 [00:00<03:01,  5.15it/s] \rloss=2.272332191467285 batch_id=8:   1%|          | 9/938 [00:00<00:26, 34.66it/s]\rloss=2.2802984714508057 batch_id=9:   1%|          | 9/938 [00:00<00:26, 34.66it/s]\rloss=2.268418550491333 batch_id=10:   1%|          | 9/938 [00:00<00:26, 34.66it/s]\rloss=2.2621428966522217 batch_id=11:   1%|          | 9/938 [00:00<00:26, 34.66it/s]\rloss=2.25943660736084 batch_id=12:   1%|          | 9/938 [00:00<00:26, 34.66it/s]  \rloss=2.2661900520324707 batch_id=13:   1%|          | 9/938 [00:00<00:26, 34.66it/s]\rloss=2.2626776695251465 batch_id=14:   1%|          | 9/938 [00:00<00:26, 34.66it/s]\rloss=2.2626776695251465 batch_id=14:   2%|▏         | 15/938 [00:00<00:21, 43.03it/s]\rloss=2.2940080165863037 batch_id=15:   2%|▏         | 15/938 [00:00<00:21, 43.03it/s]\rloss=2.190410614013672 batch_id=16:   2%|▏         | 15/938 [00:00<00:21, 43.03it/s] \rloss=2.2379391193389893 batch_id=17:   2%|▏         | 15/938 [00:00<00:21, 43.03it/s]\rloss=2.1996026039123535 batch_id=18:   2%|▏         | 15/938 [00:00<00:21, 43.03it/s]\rloss=2.1727781295776367 batch_id=19:   2%|▏         | 15/938 [00:00<00:21, 43.03it/s]\rloss=2.1061694622039795 batch_id=20:   2%|▏         | 15/938 [00:00<00:21, 43.03it/s]\rloss=2.1061694622039795 batch_id=20:   2%|▏         | 21/938 [00:00<00:19, 47.11it/s]\rloss=2.178394079208374 batch_id=21:   2%|▏         | 21/938 [00:00<00:19, 47.11it/s] \rloss=2.183359146118164 batch_id=22:   2%|▏         | 21/938 [00:00<00:19, 47.11it/s]\rloss=2.1011364459991455 batch_id=23:   2%|▏         | 21/938 [00:00<00:19, 47.11it/s]\rloss=2.2125353813171387 batch_id=24:   2%|▏         | 21/938 [00:00<00:19, 47.11it/s]\rloss=2.1174211502075195 batch_id=25:   2%|▏         | 21/938 [00:00<00:19, 47.11it/s]\rloss=2.030761957168579 batch_id=26:   2%|▏         | 21/938 [00:00<00:19, 47.11it/s] \rloss=2.030761957168579 batch_id=26:   3%|▎         | 27/938 [00:00<00:17, 50.67it/s]\rloss=2.0902867317199707 batch_id=27:   3%|▎         | 27/938 [00:00<00:17, 50.67it/s]\rloss=2.056325674057007 batch_id=28:   3%|▎         | 27/938 [00:00<00:17, 50.67it/s] \rloss=2.088961124420166 batch_id=29:   3%|▎         | 27/938 [00:00<00:17, 50.67it/s]\rloss=1.9540176391601562 batch_id=30:   3%|▎         | 27/938 [00:00<00:17, 50.67it/s]\rloss=1.917811393737793 batch_id=31:   3%|▎         | 27/938 [00:00<00:17, 50.67it/s] \rloss=1.9724664688110352 batch_id=32:   3%|▎         | 27/938 [00:00<00:17, 50.67it/s]\rloss=2.0222361087799072 batch_id=33:   3%|▎         | 27/938 [00:00<00:17, 50.67it/s]\rloss=2.0222361087799072 batch_id=33:   4%|▎         | 34/938 [00:00<00:16, 53.74it/s]\rloss=1.8748236894607544 batch_id=34:   4%|▎         | 34/938 [00:00<00:16, 53.74it/s]\rloss=1.9429155588150024 batch_id=35:   4%|▎         | 34/938 [00:00<00:16, 53.74it/s]\rloss=1.7026280164718628 batch_id=36:   4%|▎         | 34/938 [00:00<00:16, 53.74it/s]\rloss=1.931335687637329 batch_id=37:   4%|▎         | 34/938 [00:00<00:16, 53.74it/s] \rloss=1.8161256313323975 batch_id=38:   4%|▎         | 34/938 [00:00<00:16, 53.74it/s]\rloss=1.6811244487762451 batch_id=39:   4%|▎         | 34/938 [00:00<00:16, 53.74it/s]\rloss=1.6811244487762451 batch_id=39:   4%|▍         | 40/938 [00:00<00:16, 53.04it/s]\rloss=2.002548933029175 batch_id=40:   4%|▍         | 40/938 [00:00<00:16, 53.04it/s] \rloss=1.8833305835723877 batch_id=41:   4%|▍         | 40/938 [00:00<00:16, 53.04it/s]\rloss=1.6495647430419922 batch_id=42:   4%|▍         | 40/938 [00:00<00:16, 53.04it/s]\rloss=1.6680554151535034 batch_id=43:   4%|▍         | 40/938 [00:00<00:16, 53.04it/s]\rloss=1.6018987894058228 batch_id=44:   4%|▍         | 40/938 [00:00<00:16, 53.04it/s]\rloss=1.7502435445785522 batch_id=45:   4%|▍         | 40/938 [00:00<00:16, 53.04it/s]\rloss=1.6799728870391846 batch_id=46:   4%|▍         | 40/938 [00:00<00:16, 53.04it/s]\rloss=1.6799728870391846 batch_id=46:   5%|▌         | 47/938 [00:00<00:16, 55.45it/s]\rloss=1.4703947305679321 batch_id=47:   5%|▌         | 47/938 [00:00<00:16, 55.45it/s]\rloss=1.386193871498108 batch_id=48:   5%|▌         | 47/938 [00:01<00:16, 55.45it/s] \rloss=1.5092216730117798 batch_id=49:   5%|▌         | 47/938 [00:01<00:16, 55.45it/s]\rloss=1.4773094654083252 batch_id=50:   5%|▌         | 47/938 [00:01<00:16, 55.45it/s]\rloss=1.49429190158844 batch_id=51:   5%|▌         | 47/938 [00:01<00:16, 55.45it/s]  \rloss=1.6561025381088257 batch_id=52:   5%|▌         | 47/938 [00:01<00:16, 55.45it/s]\rloss=1.6561025381088257 batch_id=52:   6%|▌         | 53/938 [00:01<00:15, 55.80it/s]\rloss=1.4252476692199707 batch_id=53:   6%|▌         | 53/938 [00:01<00:15, 55.80it/s]\rloss=1.3302265405654907 batch_id=54:   6%|▌         | 53/938 [00:01<00:15, 55.80it/s]\rloss=1.3507027626037598 batch_id=55:   6%|▌         | 53/938 [00:01<00:15, 55.80it/s]\rloss=1.0344330072402954 batch_id=56:   6%|▌         | 53/938 [00:01<00:15, 55.80it/s]\rloss=1.6209533214569092 batch_id=57:   6%|▌         | 53/938 [00:01<00:15, 55.80it/s]\rloss=1.2235016822814941 batch_id=58:   6%|▌         | 53/938 [00:01<00:15, 55.80it/s]\rloss=1.2235016822814941 batch_id=58:   6%|▋         | 59/938 [00:01<00:16, 54.73it/s]\rloss=1.043674349784851 batch_id=59:   6%|▋         | 59/938 [00:01<00:16, 54.73it/s] \rloss=1.169217824935913 batch_id=60:   6%|▋         | 59/938 [00:01<00:16, 54.73it/s]\rloss=1.2554082870483398 batch_id=61:   6%|▋         | 59/938 [00:01<00:16, 54.73it/s]\rloss=1.1237479448318481 batch_id=62:   6%|▋         | 59/938 [00:01<00:16, 54.73it/s]\rloss=1.1770033836364746 batch_id=63:   6%|▋         | 59/938 [00:01<00:16, 54.73it/s]\rloss=1.1721330881118774 batch_id=64:   6%|▋         | 59/938 [00:01<00:16, 54.73it/s]\rloss=1.1721330881118774 batch_id=64:   7%|▋         | 65/938 [00:01<00:15, 54.97it/s]\rloss=0.9261416792869568 batch_id=65:   7%|▋         | 65/938 [00:01<00:15, 54.97it/s]\rloss=0.9581921696662903 batch_id=66:   7%|▋         | 65/938 [00:01<00:15, 54.97it/s]\rloss=0.9491323828697205 batch_id=67:   7%|▋         | 65/938 [00:01<00:15, 54.97it/s]\rloss=0.9863671064376831 batch_id=68:   7%|▋         | 65/938 [00:01<00:15, 54.97it/s]\rloss=0.6420252323150635 batch_id=69:   7%|▋         | 65/938 [00:01<00:15, 54.97it/s]\rloss=1.1833813190460205 batch_id=70:   7%|▋         | 65/938 [00:01<00:15, 54.97it/s]\rloss=1.093424916267395 batch_id=71:   7%|▋         | 65/938 [00:01<00:15, 54.97it/s] \rloss=1.093424916267395 batch_id=71:   8%|▊         | 72/938 [00:01<00:15, 56.78it/s]\rloss=0.8755013346672058 batch_id=72:   8%|▊         | 72/938 [00:01<00:15, 56.78it/s]\rloss=0.7673851251602173 batch_id=73:   8%|▊         | 72/938 [00:01<00:15, 56.78it/s]\rloss=1.0526416301727295 batch_id=74:   8%|▊         | 72/938 [00:01<00:15, 56.78it/s]\rloss=0.8291131258010864 batch_id=75:   8%|▊         | 72/938 [00:01<00:15, 56.78it/s]\rloss=0.6669915914535522 batch_id=76:   8%|▊         | 72/938 [00:01<00:15, 56.78it/s]\rloss=1.1101750135421753 batch_id=77:   8%|▊         | 72/938 [00:01<00:15, 56.78it/s]\rloss=0.7735674381256104 batch_id=78:   8%|▊         | 72/938 [00:01<00:15, 56.78it/s]\rloss=0.7735674381256104 batch_id=78:   8%|▊         | 79/938 [00:01<00:14, 57.87it/s]\rloss=0.7437629103660583 batch_id=79:   8%|▊         | 79/938 [00:01<00:14, 57.87it/s]\rloss=0.7864093780517578 batch_id=80:   8%|▊         | 79/938 [00:01<00:14, 57.87it/s]\rloss=0.7863311767578125 batch_id=81:   8%|▊         | 79/938 [00:01<00:14, 57.87it/s]\rloss=0.6407897472381592 batch_id=82:   8%|▊         | 79/938 [00:01<00:14, 57.87it/s]\rloss=0.815385103225708 batch_id=83:   8%|▊         | 79/938 [00:01<00:14, 57.87it/s] \rloss=0.8066791892051697 batch_id=84:   8%|▊         | 79/938 [00:01<00:14, 57.87it/s]\rloss=0.8066791892051697 batch_id=84:   9%|▉         | 85/938 [00:01<00:14, 58.27it/s]\rloss=0.6251338720321655 batch_id=85:   9%|▉         | 85/938 [00:01<00:14, 58.27it/s]\rloss=0.618425726890564 batch_id=86:   9%|▉         | 85/938 [00:01<00:14, 58.27it/s] \rloss=0.585139274597168 batch_id=87:   9%|▉         | 85/938 [00:01<00:14, 58.27it/s]\rloss=0.6839586496353149 batch_id=88:   9%|▉         | 85/938 [00:01<00:14, 58.27it/s]\rloss=0.8823412656784058 batch_id=89:   9%|▉         | 85/938 [00:01<00:14, 58.27it/s]\rloss=0.8644682168960571 batch_id=90:   9%|▉         | 85/938 [00:01<00:14, 58.27it/s]\rloss=0.7226887941360474 batch_id=91:   9%|▉         | 85/938 [00:01<00:14, 58.27it/s]\rloss=0.7226887941360474 batch_id=91:  10%|▉         | 92/938 [00:01<00:14, 58.87it/s]\rloss=0.8937513828277588 batch_id=92:  10%|▉         | 92/938 [00:01<00:14, 58.87it/s]\rloss=0.7733874320983887 batch_id=93:  10%|▉         | 92/938 [00:01<00:14, 58.87it/s]\rloss=0.868389904499054 batch_id=94:  10%|▉         | 92/938 [00:01<00:14, 58.87it/s] \rloss=0.4572989344596863 batch_id=95:  10%|▉         | 92/938 [00:01<00:14, 58.87it/s]\rloss=0.42630118131637573 batch_id=96:  10%|▉         | 92/938 [00:01<00:14, 58.87it/s]\rloss=0.6088195443153381 batch_id=97:  10%|▉         | 92/938 [00:01<00:14, 58.87it/s] \rloss=0.6088195443153381 batch_id=97:  10%|█         | 98/938 [00:01<00:14, 59.18it/s]\rloss=0.8753185272216797 batch_id=98:  10%|█         | 98/938 [00:01<00:14, 59.18it/s]\rloss=0.6135138273239136 batch_id=99:  10%|█         | 98/938 [00:01<00:14, 59.18it/s]\rloss=0.8878304958343506 batch_id=100:  10%|█         | 98/938 [00:01<00:14, 59.18it/s]\rloss=0.8931494951248169 batch_id=101:  10%|█         | 98/938 [00:01<00:14, 59.18it/s]\rloss=0.5671865940093994 batch_id=102:  10%|█         | 98/938 [00:01<00:14, 59.18it/s]\rloss=0.5461267232894897 batch_id=103:  10%|█         | 98/938 [00:01<00:14, 59.18it/s]\rloss=0.5461267232894897 batch_id=103:  11%|█         | 104/938 [00:01<00:14, 58.88it/s]\rloss=0.6846890449523926 batch_id=104:  11%|█         | 104/938 [00:01<00:14, 58.88it/s]\rloss=0.5940194129943848 batch_id=105:  11%|█         | 104/938 [00:01<00:14, 58.88it/s]\rloss=0.5272970199584961 batch_id=106:  11%|█         | 104/938 [00:02<00:14, 58.88it/s]\rloss=0.70940762758255 batch_id=107:  11%|█         | 104/938 [00:02<00:14, 58.88it/s]  \rloss=0.8328660726547241 batch_id=108:  11%|█         | 104/938 [00:02<00:14, 58.88it/s]\rloss=0.49528318643569946 batch_id=109:  11%|█         | 104/938 [00:02<00:14, 58.88it/s]\rloss=0.49528318643569946 batch_id=109:  12%|█▏        | 110/938 [00:02<00:13, 59.15it/s]\rloss=0.535331666469574 batch_id=110:  12%|█▏        | 110/938 [00:02<00:13, 59.15it/s]  \rloss=0.5029236078262329 batch_id=111:  12%|█▏        | 110/938 [00:02<00:13, 59.15it/s]\rloss=0.5945456027984619 batch_id=112:  12%|█▏        | 110/938 [00:02<00:13, 59.15it/s]\rloss=0.877476155757904 batch_id=113:  12%|█▏        | 110/938 [00:02<00:13, 59.15it/s] \rloss=0.603216290473938 batch_id=114:  12%|█▏        | 110/938 [00:02<00:13, 59.15it/s]\rloss=0.8350198864936829 batch_id=115:  12%|█▏        | 110/938 [00:02<00:13, 59.15it/s]\rloss=0.8350198864936829 batch_id=115:  12%|█▏        | 116/938 [00:02<00:13, 59.23it/s]\rloss=0.8258586525917053 batch_id=116:  12%|█▏        | 116/938 [00:02<00:13, 59.23it/s]\rloss=0.6927018165588379 batch_id=117:  12%|█▏        | 116/938 [00:02<00:13, 59.23it/s]\rloss=0.7077746391296387 batch_id=118:  12%|█▏        | 116/938 [00:02<00:13, 59.23it/s]\rloss=0.6515864729881287 batch_id=119:  12%|█▏        | 116/938 [00:02<00:13, 59.23it/s]\rloss=0.6144596338272095 batch_id=120:  12%|█▏        | 116/938 [00:02<00:13, 59.23it/s]\rloss=0.41727378964424133 batch_id=121:  12%|█▏        | 116/938 [00:02<00:13, 59.23it/s]\rloss=0.41727378964424133 batch_id=121:  13%|█▎        | 122/938 [00:02<00:13, 59.31it/s]\rloss=0.9132018685340881 batch_id=122:  13%|█▎        | 122/938 [00:02<00:13, 59.31it/s] \rloss=0.6534658670425415 batch_id=123:  13%|█▎        | 122/938 [00:02<00:13, 59.31it/s]\rloss=0.6171069741249084 batch_id=124:  13%|█▎        | 122/938 [00:02<00:13, 59.31it/s]\rloss=0.6747044324874878 batch_id=125:  13%|█▎        | 122/938 [00:02<00:13, 59.31it/s]\rloss=0.4013424217700958 batch_id=126:  13%|█▎        | 122/938 [00:02<00:13, 59.31it/s]\rloss=0.5659704804420471 batch_id=127:  13%|█▎        | 122/938 [00:02<00:13, 59.31it/s]\rloss=0.5659704804420471 batch_id=127:  14%|█▎        | 128/938 [00:02<00:13, 58.80it/s]\rloss=0.728652834892273 batch_id=128:  14%|█▎        | 128/938 [00:02<00:13, 58.80it/s] \rloss=0.7738121747970581 batch_id=129:  14%|█▎        | 128/938 [00:02<00:13, 58.80it/s]\rloss=0.6703194379806519 batch_id=130:  14%|█▎        | 128/938 [00:02<00:13, 58.80it/s]\rloss=0.5965356230735779 batch_id=131:  14%|█▎        | 128/938 [00:02<00:13, 58.80it/s]\rloss=0.6659267544746399 batch_id=132:  14%|█▎        | 128/938 [00:02<00:13, 58.80it/s]\rloss=0.5694499611854553 batch_id=133:  14%|█▎        | 128/938 [00:02<00:13, 58.80it/s]\rloss=0.5694499611854553 batch_id=133:  14%|█▍        | 134/938 [00:02<00:13, 58.77it/s]\rloss=0.4973565340042114 batch_id=134:  14%|█▍        | 134/938 [00:02<00:13, 58.77it/s]\rloss=0.6933284997940063 batch_id=135:  14%|█▍        | 134/938 [00:02<00:13, 58.77it/s]\rloss=0.929726243019104 batch_id=136:  14%|█▍        | 134/938 [00:02<00:13, 58.77it/s] \rloss=0.7142318487167358 batch_id=137:  14%|█▍        | 134/938 [00:02<00:13, 58.77it/s]\rloss=0.5319504737854004 batch_id=138:  14%|█▍        | 134/938 [00:02<00:13, 58.77it/s]\rloss=0.551262617111206 batch_id=139:  14%|█▍        | 134/938 [00:02<00:13, 58.77it/s] \rloss=0.551262617111206 batch_id=139:  15%|█▍        | 140/938 [00:02<00:13, 57.98it/s]\rloss=0.4313564598560333 batch_id=140:  15%|█▍        | 140/938 [00:02<00:13, 57.98it/s]\rloss=0.5285826325416565 batch_id=141:  15%|█▍        | 140/938 [00:02<00:13, 57.98it/s]\rloss=0.7218437790870667 batch_id=142:  15%|█▍        | 140/938 [00:02<00:13, 57.98it/s]\rloss=0.4949190020561218 batch_id=143:  15%|█▍        | 140/938 [00:02<00:13, 57.98it/s]\rloss=0.6228952407836914 batch_id=144:  15%|█▍        | 140/938 [00:02<00:13, 57.98it/s]\rloss=0.6328625679016113 batch_id=145:  15%|█▍        | 140/938 [00:02<00:13, 57.98it/s]\rloss=0.6328625679016113 batch_id=145:  16%|█▌        | 146/938 [00:02<00:13, 58.22it/s]\rloss=0.39019775390625 batch_id=146:  16%|█▌        | 146/938 [00:02<00:13, 58.22it/s]  \rloss=0.6295632719993591 batch_id=147:  16%|█▌        | 146/938 [00:02<00:13, 58.22it/s]\rloss=0.700113832950592 batch_id=148:  16%|█▌        | 146/938 [00:02<00:13, 58.22it/s] \rloss=0.6354737877845764 batch_id=149:  16%|█▌        | 146/938 [00:02<00:13, 58.22it/s]\rloss=0.5668302774429321 batch_id=150:  16%|█▌        | 146/938 [00:02<00:13, 58.22it/s]\rloss=0.472787469625473 batch_id=151:  16%|█▌        | 146/938 [00:02<00:13, 58.22it/s] \rloss=0.472787469625473 batch_id=151:  16%|█▌        | 152/938 [00:02<00:13, 58.10it/s]\rloss=0.6625353097915649 batch_id=152:  16%|█▌        | 152/938 [00:02<00:13, 58.10it/s]\rloss=0.6849559545516968 batch_id=153:  16%|█▌        | 152/938 [00:02<00:13, 58.10it/s]\rloss=0.6236486434936523 batch_id=154:  16%|█▌        | 152/938 [00:02<00:13, 58.10it/s]\rloss=0.4542092978954315 batch_id=155:  16%|█▌        | 152/938 [00:02<00:13, 58.10it/s]\rloss=0.8541691303253174 batch_id=156:  16%|█▌        | 152/938 [00:02<00:13, 58.10it/s]\rloss=0.6587815284729004 batch_id=157:  16%|█▌        | 152/938 [00:02<00:13, 58.10it/s]\rloss=0.6587815284729004 batch_id=157:  17%|█▋        | 158/938 [00:02<00:13, 56.56it/s]\rloss=0.6484478712081909 batch_id=158:  17%|█▋        | 158/938 [00:02<00:13, 56.56it/s]\rloss=0.6046998500823975 batch_id=159:  17%|█▋        | 158/938 [00:02<00:13, 56.56it/s]\rloss=0.43616071343421936 batch_id=160:  17%|█▋        | 158/938 [00:02<00:13, 56.56it/s]\rloss=0.5263046026229858 batch_id=161:  17%|█▋        | 158/938 [00:02<00:13, 56.56it/s] \rloss=0.5354422926902771 batch_id=162:  17%|█▋        | 158/938 [00:02<00:13, 56.56it/s]\rloss=0.6239082217216492 batch_id=163:  17%|█▋        | 158/938 [00:02<00:13, 56.56it/s]\rloss=0.7214853167533875 batch_id=164:  17%|█▋        | 158/938 [00:03<00:13, 56.56it/s]\rloss=0.7214853167533875 batch_id=164:  18%|█▊        | 165/938 [00:03<00:13, 58.53it/s]\rloss=0.49835464358329773 batch_id=165:  18%|█▊        | 165/938 [00:03<00:13, 58.53it/s]\rloss=0.6085962057113647 batch_id=166:  18%|█▊        | 165/938 [00:03<00:13, 58.53it/s] \rloss=0.5881309509277344 batch_id=167:  18%|█▊        | 165/938 [00:03<00:13, 58.53it/s]\rloss=0.5838570594787598 batch_id=168:  18%|█▊        | 165/938 [00:03<00:13, 58.53it/s]\rloss=0.7322986721992493 batch_id=169:  18%|█▊        | 165/938 [00:03<00:13, 58.53it/s]\rloss=0.6703230142593384 batch_id=170:  18%|█▊        | 165/938 [00:03<00:13, 58.53it/s]\rloss=0.6703230142593384 batch_id=170:  18%|█▊        | 171/938 [00:03<00:13, 58.83it/s]\rloss=0.6273779273033142 batch_id=171:  18%|█▊        | 171/938 [00:03<00:13, 58.83it/s]\rloss=0.5974701046943665 batch_id=172:  18%|█▊        | 171/938 [00:03<00:13, 58.83it/s]\rloss=0.6307612061500549 batch_id=173:  18%|█▊        | 171/938 [00:03<00:13, 58.83it/s]\rloss=0.5806959271430969 batch_id=174:  18%|█▊        | 171/938 [00:03<00:13, 58.83it/s]\rloss=0.8239268660545349 batch_id=175:  18%|█▊        | 171/938 [00:03<00:13, 58.83it/s]\rloss=0.5240219235420227 batch_id=176:  18%|█▊        | 171/938 [00:03<00:13, 58.83it/s]\rloss=0.5240219235420227 batch_id=176:  19%|█▉        | 177/938 [00:03<00:12, 59.06it/s]\rloss=0.4889465570449829 batch_id=177:  19%|█▉        | 177/938 [00:03<00:12, 59.06it/s]\rloss=0.5083197951316833 batch_id=178:  19%|█▉        | 177/938 [00:03<00:12, 59.06it/s]\rloss=0.6455082893371582 batch_id=179:  19%|█▉        | 177/938 [00:03<00:12, 59.06it/s]\rloss=0.4401185214519501 batch_id=180:  19%|█▉        | 177/938 [00:03<00:12, 59.06it/s]\rloss=0.6134892106056213 batch_id=181:  19%|█▉        | 177/938 [00:03<00:12, 59.06it/s]\rloss=0.4472105801105499 batch_id=182:  19%|█▉        | 177/938 [00:03<00:12, 59.06it/s]\rloss=0.4472105801105499 batch_id=182:  20%|█▉        | 183/938 [00:03<00:12, 59.06it/s]\rloss=0.7308694124221802 batch_id=183:  20%|█▉        | 183/938 [00:03<00:12, 59.06it/s]\rloss=0.6282265186309814 batch_id=184:  20%|█▉        | 183/938 [00:03<00:12, 59.06it/s]\rloss=0.40696147084236145 batch_id=185:  20%|█▉        | 183/938 [00:03<00:12, 59.06it/s]\rloss=0.46341174840927124 batch_id=186:  20%|█▉        | 183/938 [00:03<00:12, 59.06it/s]\rloss=0.42827409505844116 batch_id=187:  20%|█▉        | 183/938 [00:03<00:12, 59.06it/s]\rloss=0.4582277834415436 batch_id=188:  20%|█▉        | 183/938 [00:03<00:12, 59.06it/s] \rloss=0.4582277834415436 batch_id=188:  20%|██        | 189/938 [00:03<00:12, 58.14it/s]\rloss=0.4773752987384796 batch_id=189:  20%|██        | 189/938 [00:03<00:12, 58.14it/s]\rloss=0.5583283305168152 batch_id=190:  20%|██        | 189/938 [00:03<00:12, 58.14it/s]\rloss=0.4200640022754669 batch_id=191:  20%|██        | 189/938 [00:03<00:12, 58.14it/s]\rloss=0.5878902077674866 batch_id=192:  20%|██        | 189/938 [00:03<00:12, 58.14it/s]\rloss=0.46866101026535034 batch_id=193:  20%|██        | 189/938 [00:03<00:12, 58.14it/s]\rloss=0.2904764711856842 batch_id=194:  20%|██        | 189/938 [00:03<00:12, 58.14it/s] \rloss=0.2904764711856842 batch_id=194:  21%|██        | 195/938 [00:03<00:12, 58.22it/s]\rloss=0.53917396068573 batch_id=195:  21%|██        | 195/938 [00:03<00:12, 58.22it/s]  \rloss=0.4869295656681061 batch_id=196:  21%|██        | 195/938 [00:03<00:12, 58.22it/s]\rloss=0.601472020149231 batch_id=197:  21%|██        | 195/938 [00:03<00:12, 58.22it/s] \rloss=0.9449365139007568 batch_id=198:  21%|██        | 195/938 [00:03<00:12, 58.22it/s]\rloss=0.7226442694664001 batch_id=199:  21%|██        | 195/938 [00:03<00:12, 58.22it/s]\rloss=0.2668430805206299 batch_id=200:  21%|██        | 195/938 [00:03<00:12, 58.22it/s]\rloss=0.2668430805206299 batch_id=200:  21%|██▏       | 201/938 [00:03<00:12, 57.31it/s]\rloss=0.45501983165740967 batch_id=201:  21%|██▏       | 201/938 [00:03<00:12, 57.31it/s]\rloss=0.5717006921768188 batch_id=202:  21%|██▏       | 201/938 [00:03<00:12, 57.31it/s] \rloss=0.6052794456481934 batch_id=203:  21%|██▏       | 201/938 [00:03<00:12, 57.31it/s]\rloss=0.37817907333374023 batch_id=204:  21%|██▏       | 201/938 [00:03<00:12, 57.31it/s]\rloss=0.2778540253639221 batch_id=205:  21%|██▏       | 201/938 [00:03<00:12, 57.31it/s] \rloss=0.40635251998901367 batch_id=206:  21%|██▏       | 201/938 [00:03<00:12, 57.31it/s]\rloss=0.40635251998901367 batch_id=206:  22%|██▏       | 207/938 [00:03<00:12, 57.66it/s]\rloss=0.6606940627098083 batch_id=207:  22%|██▏       | 207/938 [00:03<00:12, 57.66it/s] \rloss=0.49675890803337097 batch_id=208:  22%|██▏       | 207/938 [00:03<00:12, 57.66it/s]\rloss=0.5763104557991028 batch_id=209:  22%|██▏       | 207/938 [00:03<00:12, 57.66it/s] \rloss=0.8337447643280029 batch_id=210:  22%|██▏       | 207/938 [00:03<00:12, 57.66it/s]\rloss=0.5668423771858215 batch_id=211:  22%|██▏       | 207/938 [00:03<00:12, 57.66it/s]\rloss=0.5582783818244934 batch_id=212:  22%|██▏       | 207/938 [00:03<00:12, 57.66it/s]\rloss=0.5582783818244934 batch_id=212:  23%|██▎       | 213/938 [00:03<00:12, 58.22it/s]\rloss=0.6464351415634155 batch_id=213:  23%|██▎       | 213/938 [00:03<00:12, 58.22it/s]\rloss=0.35014858841896057 batch_id=214:  23%|██▎       | 213/938 [00:03<00:12, 58.22it/s]\rloss=0.4638585150241852 batch_id=215:  23%|██▎       | 213/938 [00:03<00:12, 58.22it/s] \rloss=0.37057989835739136 batch_id=216:  23%|██▎       | 213/938 [00:03<00:12, 58.22it/s]\rloss=0.28888294100761414 batch_id=217:  23%|██▎       | 213/938 [00:03<00:12, 58.22it/s]\rloss=0.42375487089157104 batch_id=218:  23%|██▎       | 213/938 [00:03<00:12, 58.22it/s]\rloss=0.42375487089157104 batch_id=218:  23%|██▎       | 219/938 [00:03<00:12, 57.26it/s]\rloss=0.3896382451057434 batch_id=219:  23%|██▎       | 219/938 [00:03<00:12, 57.26it/s] \rloss=0.5229233503341675 batch_id=220:  23%|██▎       | 219/938 [00:03<00:12, 57.26it/s]\rloss=0.6530181765556335 batch_id=221:  23%|██▎       | 219/938 [00:03<00:12, 57.26it/s]\rloss=0.4917116165161133 batch_id=222:  23%|██▎       | 219/938 [00:04<00:12, 57.26it/s]\rloss=0.571912407875061 batch_id=223:  23%|██▎       | 219/938 [00:04<00:12, 57.26it/s] \rloss=0.3888540267944336 batch_id=224:  23%|██▎       | 219/938 [00:04<00:12, 57.26it/s]\rloss=0.3888540267944336 batch_id=224:  24%|██▍       | 225/938 [00:04<00:12, 57.91it/s]\rloss=0.4534091651439667 batch_id=225:  24%|██▍       | 225/938 [00:04<00:12, 57.91it/s]\rloss=0.653869092464447 batch_id=226:  24%|██▍       | 225/938 [00:04<00:12, 57.91it/s] \rloss=0.4636635482311249 batch_id=227:  24%|██▍       | 225/938 [00:04<00:12, 57.91it/s]\rloss=0.39910706877708435 batch_id=228:  24%|██▍       | 225/938 [00:04<00:12, 57.91it/s]\rloss=0.47323083877563477 batch_id=229:  24%|██▍       | 225/938 [00:04<00:12, 57.91it/s]\rloss=0.5113846063613892 batch_id=230:  24%|██▍       | 225/938 [00:04<00:12, 57.91it/s] \rloss=0.5113846063613892 batch_id=230:  25%|██▍       | 231/938 [00:04<00:12, 58.11it/s]\rloss=0.5173321962356567 batch_id=231:  25%|██▍       | 231/938 [00:04<00:12, 58.11it/s]\rloss=0.3557773530483246 batch_id=232:  25%|██▍       | 231/938 [00:04<00:12, 58.11it/s]\rloss=0.5164691209793091 batch_id=233:  25%|██▍       | 231/938 [00:04<00:12, 58.11it/s]\rloss=0.4712080955505371 batch_id=234:  25%|██▍       | 231/938 [00:04<00:12, 58.11it/s]\rloss=0.30856984853744507 batch_id=235:  25%|██▍       | 231/938 [00:04<00:12, 58.11it/s]\rloss=0.5174534916877747 batch_id=236:  25%|██▍       | 231/938 [00:04<00:12, 58.11it/s] \rloss=0.5174534916877747 batch_id=236:  25%|██▌       | 237/938 [00:04<00:12, 58.34it/s]\rloss=0.48096710443496704 batch_id=237:  25%|██▌       | 237/938 [00:04<00:12, 58.34it/s]\rloss=0.53396075963974 batch_id=238:  25%|██▌       | 237/938 [00:04<00:12, 58.34it/s]   \rloss=0.532954216003418 batch_id=239:  25%|██▌       | 237/938 [00:04<00:12, 58.34it/s]\rloss=0.5022127032279968 batch_id=240:  25%|██▌       | 237/938 [00:04<00:12, 58.34it/s]\rloss=0.6145856380462646 batch_id=241:  25%|██▌       | 237/938 [00:04<00:12, 58.34it/s]\rloss=0.6100656390190125 batch_id=242:  25%|██▌       | 237/938 [00:04<00:12, 58.34it/s]\rloss=0.6100656390190125 batch_id=242:  26%|██▌       | 243/938 [00:04<00:11, 58.57it/s]\rloss=0.40886151790618896 batch_id=243:  26%|██▌       | 243/938 [00:04<00:11, 58.57it/s]\rloss=0.581692636013031 batch_\n\n*** WARNING: max output size exceeded, skipping output. ***\n\nd=701:  75%|███████▍  | 700/938 [00:12<00:04, 55.56it/s]\rloss=0.0058982037007808685 batch_id=702:  75%|███████▍  | 700/938 [00:12<00:04, 55.56it/s]\rloss=0.02817239984869957 batch_id=703:  75%|███████▍  | 700/938 [00:12<00:04, 55.56it/s]  \rloss=0.0211609099060297 batch_id=704:  75%|███████▍  | 700/938 [00:12<00:04, 55.56it/s] \rloss=0.004056955687701702 batch_id=705:  75%|███████▍  | 700/938 [00:12<00:04, 55.56it/s]\rloss=0.004056955687701702 batch_id=705:  75%|███████▌  | 706/938 [00:12<00:04, 56.49it/s]\rloss=0.0020317069720476866 batch_id=706:  75%|███████▌  | 706/938 [00:12<00:04, 56.49it/s]\rloss=0.012371017597615719 batch_id=707:  75%|███████▌  | 706/938 [00:12<00:04, 56.49it/s] \rloss=0.004569079726934433 batch_id=708:  75%|███████▌  | 706/938 [00:12<00:04, 56.49it/s]\rloss=0.003547422820702195 batch_id=709:  75%|███████▌  | 706/938 [00:12<00:04, 56.49it/s]\rloss=0.0010118624195456505 batch_id=710:  75%|███████▌  | 706/938 [00:12<00:04, 56.49it/s]\rloss=0.018777187913656235 batch_id=711:  75%|███████▌  | 706/938 [00:12<00:04, 56.49it/s] \rloss=0.018777187913656235 batch_id=711:  76%|███████▌  | 712/938 [00:12<00:04, 54.51it/s]\rloss=0.007316906005144119 batch_id=712:  76%|███████▌  | 712/938 [00:12<00:04, 54.51it/s]\rloss=0.008607899770140648 batch_id=713:  76%|███████▌  | 712/938 [00:12<00:04, 54.51it/s]\rloss=0.006948326248675585 batch_id=714:  76%|███████▌  | 712/938 [00:12<00:04, 54.51it/s]\rloss=0.07286863774061203 batch_id=715:  76%|███████▌  | 712/938 [00:12<00:04, 54.51it/s] \rloss=0.0038590512704104185 batch_id=716:  76%|███████▌  | 712/938 [00:12<00:04, 54.51it/s]\rloss=0.029251156374812126 batch_id=717:  76%|███████▌  | 712/938 [00:12<00:04, 54.51it/s] \rloss=0.029251156374812126 batch_id=717:  77%|███████▋  | 718/938 [00:12<00:03, 55.47it/s]\rloss=0.01607748307287693 batch_id=718:  77%|███████▋  | 718/938 [00:12<00:03, 55.47it/s] \rloss=0.0008056043880060315 batch_id=719:  77%|███████▋  | 718/938 [00:12<00:03, 55.47it/s]\rloss=0.013188561424612999 batch_id=720:  77%|███████▋  | 718/938 [00:12<00:03, 55.47it/s] \rloss=0.04059849679470062 batch_id=721:  77%|███████▋  | 718/938 [00:12<00:03, 55.47it/s] \rloss=0.015280799008905888 batch_id=722:  77%|███████▋  | 718/938 [00:12<00:03, 55.47it/s]\rloss=0.002222348004579544 batch_id=723:  77%|███████▋  | 718/938 [00:12<00:03, 55.47it/s]\rloss=0.002222348004579544 batch_id=723:  77%|███████▋  | 724/938 [00:12<00:03, 54.99it/s]\rloss=0.0005772288423031569 batch_id=724:  77%|███████▋  | 724/938 [00:12<00:03, 54.99it/s]\rloss=0.005267149303108454 batch_id=725:  77%|███████▋  | 724/938 [00:12<00:03, 54.99it/s] \rloss=0.0882953554391861 batch_id=726:  77%|███████▋  | 724/938 [00:12<00:03, 54.99it/s]  \rloss=0.008808369748294353 batch_id=727:  77%|███████▋  | 724/938 [00:12<00:03, 54.99it/s]\rloss=0.02604888193309307 batch_id=728:  77%|███████▋  | 724/938 [00:13<00:03, 54.99it/s] \rloss=0.08169259130954742 batch_id=729:  77%|███████▋  | 724/938 [00:13<00:03, 54.99it/s]\rloss=0.08169259130954742 batch_id=729:  78%|███████▊  | 730/938 [00:13<00:03, 54.15it/s]\rloss=0.010764201171696186 batch_id=730:  78%|███████▊  | 730/938 [00:13<00:03, 54.15it/s]\rloss=0.017879543825984 batch_id=731:  78%|███████▊  | 730/938 [00:13<00:03, 54.15it/s]   \rloss=0.0661923885345459 batch_id=732:  78%|███████▊  | 730/938 [00:13<00:03, 54.15it/s]\rloss=0.025815453380346298 batch_id=733:  78%|███████▊  | 730/938 [00:13<00:03, 54.15it/s]\rloss=0.0011242508189752698 batch_id=734:  78%|███████▊  | 730/938 [00:13<00:03, 54.15it/s]\rloss=0.04369638115167618 batch_id=735:  78%|███████▊  | 730/938 [00:13<00:03, 54.15it/s]  \rloss=0.04369638115167618 batch_id=735:  78%|███████▊  | 736/938 [00:13<00:03, 55.17it/s]\rloss=0.006678683217614889 batch_id=736:  78%|███████▊  | 736/938 [00:13<00:03, 55.17it/s]\rloss=0.006284869741648436 batch_id=737:  78%|███████▊  | 736/938 [00:13<00:03, 55.17it/s]\rloss=0.04179079830646515 batch_id=738:  78%|███████▊  | 736/938 [00:13<00:03, 55.17it/s] \rloss=0.005605438258498907 batch_id=739:  78%|███████▊  | 736/938 [00:13<00:03, 55.17it/s]\rloss=0.08166339248418808 batch_id=740:  78%|███████▊  | 736/938 [00:13<00:03, 55.17it/s] \rloss=0.0014806590043008327 batch_id=741:  78%|███████▊  | 736/938 [00:13<00:03, 55.17it/s]\rloss=0.0014806590043008327 batch_id=741:  79%|███████▉  | 742/938 [00:13<00:03, 55.79it/s]\rloss=0.026586085557937622 batch_id=742:  79%|███████▉  | 742/938 [00:13<00:03, 55.79it/s] \rloss=0.07054085284471512 batch_id=743:  79%|███████▉  | 742/938 [00:13<00:03, 55.79it/s] \rloss=0.036672305315732956 batch_id=744:  79%|███████▉  | 742/938 [00:13<00:03, 55.79it/s]\rloss=0.018038183450698853 batch_id=745:  79%|███████▉  | 742/938 [00:13<00:03, 55.79it/s]\rloss=0.020436963066458702 batch_id=746:  79%|███████▉  | 742/938 [00:13<00:03, 55.79it/s]\rloss=0.048885930329561234 batch_id=747:  79%|███████▉  | 742/938 [00:13<00:03, 55.79it/s]\rloss=0.048885930329561234 batch_id=747:  80%|███████▉  | 748/938 [00:13<00:03, 56.60it/s]\rloss=0.04341268911957741 batch_id=748:  80%|███████▉  | 748/938 [00:13<00:03, 56.60it/s] \rloss=0.01500315684825182 batch_id=749:  80%|███████▉  | 748/938 [00:13<00:03, 56.60it/s]\rloss=0.041787005960941315 batch_id=750:  80%|███████▉  | 748/938 [00:13<00:03, 56.60it/s]\rloss=0.04079633206129074 batch_id=751:  80%|███████▉  | 748/938 [00:13<00:03, 56.60it/s] \rloss=0.03452616557478905 batch_id=752:  80%|███████▉  | 748/938 [00:13<00:03, 56.60it/s]\rloss=0.043344493955373764 batch_id=753:  80%|███████▉  | 748/938 [00:13<00:03, 56.60it/s]\rloss=0.043344493955373764 batch_id=753:  80%|████████  | 754/938 [00:13<00:03, 57.14it/s]\rloss=0.029270777478814125 batch_id=754:  80%|████████  | 754/938 [00:13<00:03, 57.14it/s]\rloss=0.01856459677219391 batch_id=755:  80%|████████  | 754/938 [00:13<00:03, 57.14it/s] \rloss=0.004864177666604519 batch_id=756:  80%|████████  | 754/938 [00:13<00:03, 57.14it/s]\rloss=0.012655404396355152 batch_id=757:  80%|████████  | 754/938 [00:13<00:03, 57.14it/s]\rloss=0.0018938573775812984 batch_id=758:  80%|████████  | 754/938 [00:13<00:03, 57.14it/s]\rloss=0.0037967809475958347 batch_id=759:  80%|████████  | 754/938 [00:13<00:03, 57.14it/s]\rloss=0.0037967809475958347 batch_id=759:  81%|████████  | 760/938 [00:13<00:03, 57.38it/s]\rloss=0.10866988450288773 batch_id=760:  81%|████████  | 760/938 [00:13<00:03, 57.38it/s]  \rloss=0.0038372736889868975 batch_id=761:  81%|████████  | 760/938 [00:13<00:03, 57.38it/s]\rloss=0.006945475470274687 batch_id=762:  81%|████████  | 760/938 [00:13<00:03, 57.38it/s] \rloss=0.026867477223277092 batch_id=763:  81%|████████  | 760/938 [00:13<00:03, 57.38it/s]\rloss=0.0355563648045063 batch_id=764:  81%|████████  | 760/938 [00:13<00:03, 57.38it/s]  \rloss=0.00996391847729683 batch_id=765:  81%|████████  | 760/938 [00:13<00:03, 57.38it/s]\rloss=0.00996391847729683 batch_id=765:  82%|████████▏ | 766/938 [00:13<00:02, 57.80it/s]\rloss=0.0866040363907814 batch_id=766:  82%|████████▏ | 766/938 [00:13<00:02, 57.80it/s] \rloss=0.16308638453483582 batch_id=767:  82%|████████▏ | 766/938 [00:13<00:02, 57.80it/s]\rloss=0.02222457155585289 batch_id=768:  82%|████████▏ | 766/938 [00:13<00:02, 57.80it/s]\rloss=0.007068292703479528 batch_id=769:  82%|████████▏ | 766/938 [00:13<00:02, 57.80it/s]\rloss=0.05997054651379585 batch_id=770:  82%|████████▏ | 766/938 [00:13<00:02, 57.80it/s] \rloss=0.006761464290320873 batch_id=771:  82%|████████▏ | 766/938 [00:13<00:02, 57.80it/s]\rloss=0.006761464290320873 batch_id=771:  82%|████████▏ | 772/938 [00:13<00:02, 57.58it/s]\rloss=0.0018978998996317387 batch_id=772:  82%|████████▏ | 772/938 [00:13<00:02, 57.58it/s]\rloss=0.0019030643161386251 batch_id=773:  82%|████████▏ | 772/938 [00:13<00:02, 57.58it/s]\rloss=0.003685944015160203 batch_id=774:  82%|████████▏ | 772/938 [00:13<00:02, 57.58it/s] \rloss=0.03558151796460152 batch_id=775:  82%|████████▏ | 772/938 [00:13<00:02, 57.58it/s] \rloss=0.0015202016802504659 batch_id=776:  82%|████████▏ | 772/938 [00:13<00:02, 57.58it/s]\rloss=0.022425120696425438 batch_id=777:  82%|████████▏ | 772/938 [00:13<00:02, 57.58it/s] \rloss=0.022425120696425438 batch_id=777:  83%|████████▎ | 778/938 [00:13<00:02, 57.72it/s]\rloss=0.0801113024353981 batch_id=778:  83%|████████▎ | 778/938 [00:13<00:02, 57.72it/s]  \rloss=0.08331461250782013 batch_id=779:  83%|████████▎ | 778/938 [00:13<00:02, 57.72it/s]\rloss=0.011650837026536465 batch_id=780:  83%|████████▎ | 778/938 [00:13<00:02, 57.72it/s]\rloss=0.0005012276233173907 batch_id=781:  83%|████████▎ | 778/938 [00:13<00:02, 57.72it/s]\rloss=0.061524394899606705 batch_id=782:  83%|████████▎ | 778/938 [00:13<00:02, 57.72it/s] \rloss=0.0006498025613836944 batch_id=783:  83%|████████▎ | 778/938 [00:13<00:02, 57.72it/s]\rloss=0.0006498025613836944 batch_id=783:  84%|████████▎ | 784/938 [00:13<00:02, 57.76it/s]\rloss=0.015855323523283005 batch_id=784:  84%|████████▎ | 784/938 [00:13<00:02, 57.76it/s] \rloss=0.0011390824802219868 batch_id=785:  84%|████████▎ | 784/938 [00:13<00:02, 57.76it/s]\rloss=0.10005515068769455 batch_id=786:  84%|████████▎ | 784/938 [00:14<00:02, 57.76it/s]  \rloss=0.007410080172121525 batch_id=787:  84%|████████▎ | 784/938 [00:14<00:02, 57.76it/s]\rloss=0.0010161512764170766 batch_id=788:  84%|████████▎ | 784/938 [00:14<00:02, 57.76it/s]\rloss=0.04272657260298729 batch_id=789:  84%|████████▎ | 784/938 [00:14<00:02, 57.76it/s]  \rloss=0.04272657260298729 batch_id=789:  84%|████████▍ | 790/938 [00:14<00:02, 57.18it/s]\rloss=0.04375240579247475 batch_id=790:  84%|████████▍ | 790/938 [00:14<00:02, 57.18it/s]\rloss=0.0021069373469799757 batch_id=791:  84%|████████▍ | 790/938 [00:14<00:02, 57.18it/s]\rloss=0.004173874389380217 batch_id=792:  84%|████████▍ | 790/938 [00:14<00:02, 57.18it/s] \rloss=0.05273326486349106 batch_id=793:  84%|████████▍ | 790/938 [00:14<00:02, 57.18it/s] \rloss=0.002205844968557358 batch_id=794:  84%|████████▍ | 790/938 [00:14<00:02, 57.18it/s]\rloss=0.048938773572444916 batch_id=795:  84%|████████▍ | 790/938 [00:14<00:02, 57.18it/s]\rloss=0.048938773572444916 batch_id=795:  85%|████████▍ | 796/938 [00:14<00:02, 57.40it/s]\rloss=0.03791547939181328 batch_id=796:  85%|████████▍ | 796/938 [00:14<00:02, 57.40it/s] \rloss=0.029562246054410934 batch_id=797:  85%|████████▍ | 796/938 [00:14<00:02, 57.40it/s]\rloss=0.047943051904439926 batch_id=798:  85%|████████▍ | 796/938 [00:14<00:02, 57.40it/s]\rloss=0.04135584458708763 batch_id=799:  85%|████████▍ | 796/938 [00:14<00:02, 57.40it/s] \rloss=0.013693814165890217 batch_id=800:  85%|████████▍ | 796/938 [00:14<00:02, 57.40it/s]\rloss=0.012063607573509216 batch_id=801:  85%|████████▍ | 796/938 [00:14<00:02, 57.40it/s]\rloss=0.012063607573509216 batch_id=801:  86%|████████▌ | 802/938 [00:14<00:02, 57.59it/s]\rloss=0.14154092967510223 batch_id=802:  86%|████████▌ | 802/938 [00:14<00:02, 57.59it/s] \rloss=0.03124229982495308 batch_id=803:  86%|████████▌ | 802/938 [00:14<00:02, 57.59it/s]\rloss=0.03095712885260582 batch_id=804:  86%|████████▌ | 802/938 [00:14<00:02, 57.59it/s]\rloss=0.011227183043956757 batch_id=805:  86%|████████▌ | 802/938 [00:14<00:02, 57.59it/s]\rloss=0.061865393072366714 batch_id=806:  86%|████████▌ | 802/938 [00:14<00:02, 57.59it/s]\rloss=0.002962319878861308 batch_id=807:  86%|████████▌ | 802/938 [00:14<00:02, 57.59it/s]\rloss=0.002962319878861308 batch_id=807:  86%|████████▌ | 808/938 [00:14<00:02, 57.56it/s]\rloss=0.02042895182967186 batch_id=808:  86%|████████▌ | 808/938 [00:14<00:02, 57.56it/s] \rloss=0.0019766702316701412 batch_id=809:  86%|████████▌ | 808/938 [00:14<00:02, 57.56it/s]\rloss=0.02553759142756462 batch_id=810:  86%|████████▌ | 808/938 [00:14<00:02, 57.56it/s]  \rloss=0.01479172334074974 batch_id=811:  86%|████████▌ | 808/938 [00:14<00:02, 57.56it/s]\rloss=0.08639358729124069 batch_id=812:  86%|████████▌ | 808/938 [00:14<00:02, 57.56it/s]\rloss=0.016262507066130638 batch_id=813:  86%|████████▌ | 808/938 [00:14<00:02, 57.56it/s]\rloss=0.016262507066130638 batch_id=813:  87%|████████▋ | 814/938 [00:14<00:02, 57.75it/s]\rloss=0.005372372921556234 batch_id=814:  87%|████████▋ | 814/938 [00:14<00:02, 57.75it/s]\rloss=0.003360841888934374 batch_id=815:  87%|████████▋ | 814/938 [00:14<00:02, 57.75it/s]\rloss=0.0033939697314053774 batch_id=816:  87%|████████▋ | 814/938 [00:14<00:02, 57.75it/s]\rloss=0.0014212692622095346 batch_id=817:  87%|████████▋ | 814/938 [00:14<00:02, 57.75it/s]\rloss=0.04605988785624504 batch_id=818:  87%|████████▋ | 814/938 [00:14<00:02, 57.75it/s]  \rloss=0.009817203506827354 batch_id=819:  87%|████████▋ | 814/938 [00:14<00:02, 57.75it/s]\rloss=0.009817203506827354 batch_id=819:  87%|████████▋ | 820/938 [00:14<00:02, 58.18it/s]\rloss=0.0025391685776412487 batch_id=820:  87%|████████▋ | 820/938 [00:14<00:02, 58.18it/s]\rloss=0.04938383400440216 batch_id=821:  87%|████████▋ | 820/938 [00:14<00:02, 58.18it/s]  \rloss=0.004415174480527639 batch_id=822:  87%|████████▋ | 820/938 [00:14<00:02, 58.18it/s]\rloss=0.1462293267250061 batch_id=823:  87%|████████▋ | 820/938 [00:14<00:02, 58.18it/s]  \rloss=0.0034432662650942802 batch_id=824:  87%|████████▋ | 820/938 [00:14<00:02, 58.18it/s]\rloss=0.0372052863240242 batch_id=825:  87%|████████▋ | 820/938 [00:14<00:02, 58.18it/s]   \rloss=0.0372052863240242 batch_id=825:  88%|████████▊ | 826/938 [00:14<00:01, 58.17it/s]\rloss=0.051093269139528275 batch_id=826:  88%|████████▊ | 826/938 [00:14<00:01, 58.17it/s]\rloss=0.002893111202865839 batch_id=827:  88%|████████▊ | 826/938 [00:14<00:01, 58.17it/s]\rloss=0.0008600102737545967 batch_id=828:  88%|████████▊ | 826/938 [00:14<00:01, 58.17it/s]\rloss=0.037497539073228836 batch_id=829:  88%|████████▊ | 826/938 [00:14<00:01, 58.17it/s] \rloss=0.008036895655095577 batch_id=830:  88%|████████▊ | 826/938 [00:14<00:01, 58.17it/s]\rloss=0.010083053261041641 batch_id=831:  88%|████████▊ | 826/938 [00:14<00:01, 58.17it/s]\rloss=0.010083053261041641 batch_id=831:  89%|████████▊ | 832/938 [00:14<00:01, 58.03it/s]\rloss=0.06492780894041061 batch_id=832:  89%|████████▊ | 832/938 [00:14<00:01, 58.03it/s] \rloss=0.032036665827035904 batch_id=833:  89%|████████▊ | 832/938 [00:14<00:01, 58.03it/s]\rloss=0.016721848398447037 batch_id=834:  89%|████████▊ | 832/938 [00:14<00:01, 58.03it/s]\rloss=0.0016873383428901434 batch_id=835:  89%|████████▊ | 832/938 [00:14<00:01, 58.03it/s]\rloss=0.12409785389900208 batch_id=836:  89%|████████▊ | 832/938 [00:14<00:01, 58.03it/s]  \rloss=0.03493265435099602 batch_id=837:  89%|████████▊ | 832/938 [00:14<00:01, 58.03it/s]\rloss=0.03493265435099602 batch_id=837:  89%|████████▉ | 838/938 [00:14<00:01, 57.48it/s]\rloss=0.0434403121471405 batch_id=838:  89%|████████▉ | 838/938 [00:14<00:01, 57.48it/s] \rloss=0.03912026435136795 batch_id=839:  89%|████████▉ | 838/938 [00:14<00:01, 57.48it/s]\rloss=0.06017198786139488 batch_id=840:  89%|████████▉ | 838/938 [00:14<00:01, 57.48it/s]\rloss=0.02065589278936386 batch_id=841:  89%|████████▉ | 838/938 [00:14<00:01, 57.48it/s]\rloss=0.017845550552010536 batch_id=842:  89%|████████▉ | 838/938 [00:14<00:01, 57.48it/s]\rloss=0.007195776328444481 batch_id=843:  89%|████████▉ | 838/938 [00:14<00:01, 57.48it/s]\rloss=0.007195776328444481 batch_id=843:  90%|████████▉ | 844/938 [00:14<00:01, 57.64it/s]\rloss=0.0031194339971989393 batch_id=844:  90%|████████▉ | 844/938 [00:15<00:01, 57.64it/s]\rloss=0.03964247182011604 batch_id=845:  90%|████████▉ | 844/938 [00:15<00:01, 57.64it/s]  \rloss=0.013836407102644444 batch_id=846:  90%|████████▉ | 844/938 [00:15<00:01, 57.64it/s]\rloss=0.011389377526938915 batch_id=847:  90%|████████▉ | 844/938 [00:15<00:01, 57.64it/s]\rloss=0.013773406855762005 batch_id=848:  90%|████████▉ | 844/938 [00:15<00:01, 57.64it/s]\rloss=0.06895161420106888 batch_id=849:  90%|████████▉ | 844/938 [00:15<00:01, 57.64it/s] \rloss=0.06895161420106888 batch_id=849:  91%|█████████ | 850/938 [00:15<00:01, 57.80it/s]\rloss=0.004318578168749809 batch_id=850:  91%|█████████ | 850/938 [00:15<00:01, 57.80it/s]\rloss=0.007837033830583096 batch_id=851:  91%|█████████ | 850/938 [00:15<00:01, 57.80it/s]\rloss=0.0035131683107465506 batch_id=852:  91%|█████████ | 850/938 [00:15<00:01, 57.80it/s]\rloss=0.020925458520650864 batch_id=853:  91%|█████████ | 850/938 [00:15<00:01, 57.80it/s] \rloss=0.02277824655175209 batch_id=854:  91%|█████████ | 850/938 [00:15<00:01, 57.80it/s] \rloss=0.02191575989127159 batch_id=855:  91%|█████████ | 850/938 [00:15<00:01, 57.80it/s]\rloss=0.02191575989127159 batch_id=855:  91%|█████████▏| 856/938 [00:15<00:01, 57.87it/s]\rloss=0.0015580425970256329 batch_id=856:  91%|█████████▏| 856/938 [00:15<00:01, 57.87it/s]\rloss=0.07893358170986176 batch_id=857:  91%|█████████▏| 856/938 [00:15<00:01, 57.87it/s]  \rloss=0.001567952916957438 batch_id=858:  91%|█████████▏| 856/938 [00:15<00:01, 57.87it/s]\rloss=0.004452113062143326 batch_id=859:  91%|█████████▏| 856/938 [00:15<00:01, 57.87it/s]\rloss=0.0008425484411418438 batch_id=860:  91%|█████████▏| 856/938 [00:15<00:01, 57.87it/s]\rloss=0.015435795299708843 batch_id=861:  91%|█████████▏| 856/938 [00:15<00:01, 57.87it/s] \rloss=0.015435795299708843 batch_id=861:  92%|█████████▏| 862/938 [00:15<00:01, 57.94it/s]\rloss=0.0020217152778059244 batch_id=862:  92%|█████████▏| 862/938 [00:15<00:01, 57.94it/s]\rloss=0.009184656664729118 batch_id=863:  92%|█████████▏| 862/938 [00:15<00:01, 57.94it/s] \rloss=0.07838580757379532 batch_id=864:  92%|█████████▏| 862/938 [00:15<00:01, 57.94it/s] \rloss=0.005521142389625311 batch_id=865:  92%|█████████▏| 862/938 [00:15<00:01, 57.94it/s]\rloss=0.0037978007458150387 batch_id=866:  92%|█████████▏| 862/938 [00:15<00:01, 57.94it/s]\rloss=0.0656253919005394 batch_id=867:  92%|█████████▏| 862/938 [00:15<00:01, 57.94it/s]   \rloss=0.0656253919005394 batch_id=867:  93%|█████████▎| 868/938 [00:15<00:01, 58.17it/s]\rloss=0.05138549953699112 batch_id=868:  93%|█████████▎| 868/938 [00:15<00:01, 58.17it/s]\rloss=0.007170971017330885 batch_id=869:  93%|█████████▎| 868/938 [00:15<00:01, 58.17it/s]\rloss=0.08540911972522736 batch_id=870:  93%|█████████▎| 868/938 [00:15<00:01, 58.17it/s] \rloss=0.047980427742004395 batch_id=871:  93%|█████████▎| 868/938 [00:15<00:01, 58.17it/s]\rloss=0.023376354947686195 batch_id=872:  93%|█████████▎| 868/938 [00:15<00:01, 58.17it/s]\rloss=0.009219121187925339 batch_id=873:  93%|█████████▎| 868/938 [00:15<00:01, 58.17it/s]\rloss=0.009219121187925339 batch_id=873:  93%|█████████▎| 874/938 [00:15<00:01, 58.29it/s]\rloss=0.17114758491516113 batch_id=874:  93%|█████████▎| 874/938 [00:15<00:01, 58.29it/s] \rloss=0.0021497453562915325 batch_id=875:  93%|█████████▎| 874/938 [00:15<00:01, 58.29it/s]\rloss=0.022792479023337364 batch_id=876:  93%|█████████▎| 874/938 [00:15<00:01, 58.29it/s] \rloss=0.0744294747710228 batch_id=877:  93%|█████████▎| 874/938 [00:15<00:01, 58.29it/s]  \rloss=0.003277992596849799 batch_id=878:  93%|█████████▎| 874/938 [00:15<00:01, 58.29it/s]\rloss=0.0008464492857456207 batch_id=879:  93%|█████████▎| 874/938 [00:15<00:01, 58.29it/s]\rloss=0.0008464492857456207 batch_id=879:  94%|█████████▍| 880/938 [00:15<00:00, 58.60it/s]\rloss=0.014042292721569538 batch_id=880:  94%|█████████▍| 880/938 [00:15<00:00, 58.60it/s] \rloss=0.034948885440826416 batch_id=881:  94%|█████████▍| 880/938 [00:15<00:00, 58.60it/s]\rloss=0.011046015657484531 batch_id=882:  94%|█████████▍| 880/938 [00:15<00:00, 58.60it/s]\rloss=0.022288894280791283 batch_id=883:  94%|█████████▍| 880/938 [00:15<00:00, 58.60it/s]\rloss=0.0047279358841478825 batch_id=884:  94%|█████████▍| 880/938 [00:15<00:00, 58.60it/s]\rloss=0.015715738758444786 batch_id=885:  94%|█████████▍| 880/938 [00:15<00:00, 58.60it/s] \rloss=0.015715738758444786 batch_id=885:  94%|█████████▍| 886/938 [00:15<00:00, 58.57it/s]\rloss=0.07708916813135147 batch_id=886:  94%|█████████▍| 886/938 [00:15<00:00, 58.57it/s] \rloss=0.0034715933725237846 batch_id=887:  94%|█████████▍| 886/938 [00:15<00:00, 58.57it/s]\rloss=0.08407459408044815 batch_id=888:  94%|█████████▍| 886/938 [00:15<00:00, 58.57it/s]  \rloss=0.009259499609470367 batch_id=889:  94%|█████████▍| 886/938 [00:15<00:00, 58.57it/s]\rloss=0.0029365618247538805 batch_id=890:  94%|█████████▍| 886/938 [00:15<00:00, 58.57it/s]\rloss=0.036960285156965256 batch_id=891:  94%|█████████▍| 886/938 [00:15<00:00, 58.57it/s] \rloss=0.036960285156965256 batch_id=891:  95%|█████████▌| 892/938 [00:15<00:00, 58.71it/s]\rloss=0.02142513543367386 batch_id=892:  95%|█████████▌| 892/938 [00:15<00:00, 58.71it/s] \rloss=0.08494593948125839 batch_id=893:  95%|█████████▌| 892/938 [00:15<00:00, 58.71it/s]\rloss=0.048122286796569824 batch_id=894:  95%|█████████▌| 892/938 [00:15<00:00, 58.71it/s]\rloss=0.006089587230235338 batch_id=895:  95%|█████████▌| 892/938 [00:15<00:00, 58.71it/s]\rloss=0.0026526832953095436 batch_id=896:  95%|█████████▌| 892/938 [00:15<00:00, 58.71it/s]\rloss=0.0026750979013741016 batch_id=897:  95%|█████████▌| 892/938 [00:15<00:00, 58.71it/s]\rloss=0.0026750979013741016 batch_id=897:  96%|█████████▌| 898/938 [00:15<00:00, 58.60it/s]\rloss=0.018925946205854416 batch_id=898:  96%|█████████▌| 898/938 [00:15<00:00, 58.60it/s] \rloss=0.0022171814925968647 batch_id=899:  96%|█████████▌| 898/938 [00:15<00:00, 58.60it/s]\rloss=0.04772154241800308 batch_id=900:  96%|█████████▌| 898/938 [00:15<00:00, 58.60it/s]  \rloss=0.003911206033080816 batch_id=901:  96%|█████████▌| 898/938 [00:15<00:00, 58.60it/s]\rloss=0.015913143754005432 batch_id=902:  96%|█████████▌| 898/938 [00:16<00:00, 58.60it/s]\rloss=0.04678625613451004 batch_id=903:  96%|█████████▌| 898/938 [00:16<00:00, 58.60it/s] \rloss=0.04678625613451004 batch_id=903:  96%|█████████▋| 904/938 [00:16<00:00, 54.36it/s]\rloss=0.018898190930485725 batch_id=904:  96%|█████████▋| 904/938 [00:16<00:00, 54.36it/s]\rloss=0.052136700600385666 batch_id=905:  96%|█████████▋| 904/938 [00:16<00:00, 54.36it/s]\rloss=0.05222233012318611 batch_id=906:  96%|█████████▋| 904/938 [00:16<00:00, 54.36it/s] \rloss=0.10826122760772705 batch_id=907:  96%|█████████▋| 904/938 [00:16<00:00, 54.36it/s]\rloss=0.10569363832473755 batch_id=908:  96%|█████████▋| 904/938 [00:16<00:00, 54.36it/s]\rloss=0.005626125261187553 batch_id=909:  96%|█████████▋| 904/938 [00:16<00:00, 54.36it/s]\rloss=0.013695605099201202 batch_id=910:  96%|█████████▋| 904/938 [00:16<00:00, 54.36it/s]\rloss=0.013695605099201202 batch_id=910:  97%|█████████▋| 911/938 [00:16<00:00, 56.97it/s]\rloss=0.015794852748513222 batch_id=911:  97%|█████████▋| 911/938 [00:16<00:00, 56.97it/s]\rloss=0.05165266990661621 batch_id=912:  97%|█████████▋| 911/938 [00:16<00:00, 56.97it/s] \rloss=0.005238030571490526 batch_id=913:  97%|█████████▋| 911/938 [00:16<00:00, 56.97it/s]\rloss=0.005332754924893379 batch_id=914:  97%|█████████▋| 911/938 [00:16<00:00, 56.97it/s]\rloss=0.011388744227588177 batch_id=915:  97%|█████████▋| 911/938 [00:16<00:00, 56.97it/s]\rloss=0.025162367150187492 batch_id=916:  97%|█████████▋| 911/938 [00:16<00:00, 56.97it/s]\rloss=0.025162367150187492 batch_id=916:  98%|█████████▊| 917/938 [00:16<00:00, 57.15it/s]\rloss=0.0010434193536639214 batch_id=917:  98%|█████████▊| 917/938 [00:16<00:00, 57.15it/s]\rloss=0.03722931444644928 batch_id=918:  98%|█████████▊| 917/938 [00:16<00:00, 57.15it/s]  \rloss=0.003955574240535498 batch_id=919:  98%|█████████▊| 917/938 [00:16<00:00, 57.15it/s]\rloss=0.0008447672589682043 batch_id=920:  98%|█████████▊| 917/938 [00:16<00:00, 57.15it/s]\rloss=0.00267108716070652 batch_id=921:  98%|█████████▊| 917/938 [00:16<00:00, 57.15it/s]  \rloss=0.02557099051773548 batch_id=922:  98%|█████████▊| 917/938 [00:16<00:00, 57.15it/s]\rloss=0.02557099051773548 batch_id=922:  98%|█████████▊| 923/938 [00:16<00:00, 57.59it/s]\rloss=0.1442173719406128 batch_id=923:  98%|█████████▊| 923/938 [00:16<00:00, 57.59it/s] \rloss=0.002140231430530548 batch_id=924:  98%|█████████▊| 923/938 [00:16<00:00, 57.59it/s]\rloss=0.0007584781269542873 batch_id=925:  98%|█████████▊| 923/938 [00:16<00:00, 57.59it/s]\rloss=0.0026376789901405573 batch_id=926:  98%|█████████▊| 923/938 [00:16<00:00, 57.59it/s]\rloss=0.003467925824224949 batch_id=927:  98%|█████████▊| 923/938 [00:16<00:00, 57.59it/s] \rloss=0.05730757489800453 batch_id=928:  98%|█████████▊| 923/938 [00:16<00:00, 57.59it/s] \rloss=0.05730757489800453 batch_id=928:  99%|█████████▉| 929/938 [00:16<00:00, 57.76it/s]\rloss=0.07431989163160324 batch_id=929:  99%|█████████▉| 929/938 [00:16<00:00, 57.76it/s]\rloss=0.005030430853366852 batch_id=930:  99%|█████████▉| 929/938 [00:16<00:00, 57.76it/s]\rloss=0.0049947891384363174 batch_id=931:  99%|█████████▉| 929/938 [00:16<00:00, 57.76it/s]\rloss=0.002061999635770917 batch_id=932:  99%|█████████▉| 929/938 [00:16<00:00, 57.76it/s] \rloss=0.0495758131146431 batch_id=933:  99%|█████████▉| 929/938 [00:16<00:00, 57.76it/s]  \rloss=0.04030594974756241 batch_id=934:  99%|█████████▉| 929/938 [00:16<00:00, 57.76it/s]\rloss=0.04030594974756241 batch_id=934: 100%|█████████▉| 935/938 [00:16<00:00, 58.09it/s]\rloss=0.00559636065736413 batch_id=935: 100%|█████████▉| 935/938 [00:16<00:00, 58.09it/s]\rloss=0.08819331228733063 batch_id=936: 100%|█████████▉| 935/938 [00:16<00:00, 58.09it/s]\rloss=0.138374462723732 batch_id=937: 100%|█████████▉| 935/938 [00:16<00:00, 58.09it/s]  \rloss=0.138374462723732 batch_id=937: 100%|██████████| 938/938 [00:16<00:00, 56.37it/s]\n\nTest set: Average loss: 0.0254, Accuracy: 9928/10000 (99%)\n\n19\n"
     ]
    }
   ],
   "source": [
    "\n",
    "model = Net().to(device)\n",
    "optimizer = optim.SGD(model.parameters(), lr=0.01, momentum=0.9)\n",
    "scheduler = torch.optim.lr_scheduler.ReduceLROnPlateau(optimizer, 'min',patience=2,factor=.5)\n",
    "for epoch in range(1, 20):\n",
    "    train(model, device, train_loader, optimizer, epoch)\n",
    "    test(model, device, test_loader)\n",
    "    print(epoch)"
   ]
  }
 ],
 "metadata": {
  "accelerator": "GPU",
  "application/vnd.databricks.v1+notebook": {
   "dashboards": [],
   "language": "python",
   "notebookMetadata": {
    "pythonIndentUnit": 2
   },
   "notebookName": "EVA4_Session_2",
   "widgets": {}
  },
  "colab": {
   "provenance": []
  },
  "kernelspec": {
   "display_name": "Python 3 (ipykernel)",
   "language": "python",
   "name": "python3"
  },
  "language_info": {
   "codemirror_mode": {
    "name": "ipython",
    "version": 3
   },
   "file_extension": ".py",
   "mimetype": "text/x-python",
   "name": "python",
   "nbconvert_exporter": "python",
   "pygments_lexer": "ipython3",
   "version": "3.11.3"
  }
 },
 "nbformat": 4,
 "nbformat_minor": 0
}
